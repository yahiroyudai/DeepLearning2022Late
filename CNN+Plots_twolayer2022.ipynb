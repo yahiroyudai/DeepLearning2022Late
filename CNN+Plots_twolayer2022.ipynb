{
  "nbformat": 4,
  "nbformat_minor": 0,
  "metadata": {
    "colab": {
      "provenance": [],
      "authorship_tag": "ABX9TyNWaQuvuvZhx+PQAqpCM6mo",
      "include_colab_link": true
    },
    "kernelspec": {
      "name": "python3",
      "display_name": "Python 3"
    },
    "language_info": {
      "name": "python"
    }
  },
  "cells": [
    {
      "cell_type": "markdown",
      "metadata": {
        "id": "view-in-github",
        "colab_type": "text"
      },
      "source": [
        "<a href=\"https://colab.research.google.com/github/yahiroyudai/DeepLearning2022Late/blob/main/CNN%2BPlots_twolayer2022.ipynb\" target=\"_parent\"><img src=\"https://colab.research.google.com/assets/colab-badge.svg\" alt=\"Open In Colab\"/></a>"
      ]
    },
    {
      "cell_type": "markdown",
      "source": [
        "## CNNの練習（Keras Conv2D）\n",
        "convolutional Neural Network 畳み込み層が二つの例\n"
      ],
      "metadata": {
        "id": "nm6xiMvt_7Lx"
      }
    },
    {
      "cell_type": "markdown",
      "source": [
        "###ライブラリのimport\n"
      ],
      "metadata": {
        "id": "bo7vA7mlAHHC"
      }
    },
    {
      "cell_type": "code",
      "execution_count": 2,
      "metadata": {
        "id": "_vJKrQ6U_map"
      },
      "outputs": [],
      "source": [
        "# CNN node 1layer\n",
        "# Conv2Dを使ったCNNの例\n",
        "from keras.models import Sequential,Model\n",
        "from keras.layers import Conv2D # 畳み込み層のクラスモジュール\n",
        "# from keras.utils import np_utils "
      ]
    },
    {
      "cell_type": "markdown",
      "source": [
        "###SVG画像の表示用のライブラリのimport"
      ],
      "metadata": {
        "id": "uVeP95SKAW4Z"
      }
    },
    {
      "cell_type": "code",
      "source": [
        "from IPython.display import SVG\n",
        "from keras.utils.vis_utils import model_to_dot"
      ],
      "metadata": {
        "id": "JIGM5JF0AK4s"
      },
      "execution_count": 3,
      "outputs": []
    },
    {
      "cell_type": "markdown",
      "source": [
        "CNN（畳み込みニューラルネットワーク）のモデルをConv2Dライブラリを使って作成\n",
        "\n"
      ],
      "metadata": {
        "id": "NJgNnloBA75J"
      }
    },
    {
      "cell_type": "code",
      "source": [
        "model = Sequential() # インスタンスを生成 \n",
        "# CNN畳み込みを一層追加する\n",
        "model.add( Conv2D( filters=3, # フィルターのニューロンを3パターン\n",
        "                  kernel_size = (3,3) , # 受容の大きさ（幅3、縦3）\n",
        "                  input_shape = (6,6,1),\n",
        "                  name = 'Conv2D_1'\n",
        "                  ) )"
      ],
      "metadata": {
        "id": "IVi8ej8HA7Vq"
      },
      "execution_count": 4,
      "outputs": []
    },
    {
      "cell_type": "markdown",
      "source": [
        "###二つ目の畳み込み層を追加"
      ],
      "metadata": {
        "id": "6RRtE7nrBPnI"
      }
    },
    {
      "cell_type": "code",
      "source": [
        "model.add( Conv2D( filters=2,\n",
        "                   kernel_size = (3,3),\n",
        "                  name='Conv2D_2'))"
      ],
      "metadata": {
        "id": "uqNZpkbrBNSf"
      },
      "execution_count": 5,
      "outputs": []
    },
    {
      "cell_type": "markdown",
      "source": [
        "###SVG画像で作成したモデルの構成を表示\n",
        "CNN（畳み込み）で特徴を抜き出すだけのモデルの状態です"
      ],
      "metadata": {
        "id": "4etLFx57BUw0"
      }
    },
    {
      "cell_type": "code",
      "source": [
        "SVG( model_to_dot(model, show_shapes = True, dpi=None).create( prog='dot',format='svg' ))"
      ],
      "metadata": {
        "colab": {
          "base_uri": "https://localhost:8080/",
          "height": 315
        },
        "id": "LwcUk-0nBUQm",
        "outputId": "300b1970-6703-456d-8e48-ad8190127126"
      },
      "execution_count": 9,
      "outputs": [
        {
          "output_type": "execute_result",
          "data": {
            "text/plain": [
              "<IPython.core.display.SVG object>"
            ],
            "image/svg+xml": "<svg height=\"221pt\" viewBox=\"0.00 0.00 368.00 221.00\" width=\"368pt\" xmlns=\"http://www.w3.org/2000/svg\" xmlns:xlink=\"http://www.w3.org/1999/xlink\">\n<g class=\"graph\" id=\"graph0\" transform=\"scale(1 1) rotate(0) translate(4 217)\">\n<title>G</title>\n<polygon fill=\"#ffffff\" points=\"-4,4 -4,-217 364,-217 364,4 -4,4\" stroke=\"transparent\"/>\n<!-- dpi -->\n<g class=\"node\" id=\"node1\">\n<title>dpi</title>\n<ellipse cx=\"27\" cy=\"-189.5\" fill=\"none\" rx=\"27\" ry=\"18\" stroke=\"#000000\"/>\n<text fill=\"#000000\" font-family=\"Times,serif\" font-size=\"14.00\" text-anchor=\"middle\" x=\"27\" y=\"-185.8\">dpi</text>\n</g>\n<!-- 140604648913936 -->\n<g class=\"node\" id=\"node2\">\n<title>140604648913936</title>\n<polygon fill=\"none\" points=\"72,-166.5 72,-212.5 360,-212.5 360,-166.5 72,-166.5\" stroke=\"#000000\"/>\n<text fill=\"#000000\" font-family=\"Times,serif\" font-size=\"14.00\" text-anchor=\"middle\" x=\"131.5\" y=\"-197.3\">Conv2D_1_input</text>\n<polyline fill=\"none\" points=\"72,-189.5 191,-189.5 \" stroke=\"#000000\"/>\n<text fill=\"#000000\" font-family=\"Times,serif\" font-size=\"14.00\" text-anchor=\"middle\" x=\"131.5\" y=\"-174.3\">InputLayer</text>\n<polyline fill=\"none\" points=\"191,-166.5 191,-212.5 \" stroke=\"#000000\"/>\n<text fill=\"#000000\" font-family=\"Times,serif\" font-size=\"14.00\" text-anchor=\"middle\" x=\"220\" y=\"-197.3\">input:</text>\n<polyline fill=\"none\" points=\"191,-189.5 249,-189.5 \" stroke=\"#000000\"/>\n<text fill=\"#000000\" font-family=\"Times,serif\" font-size=\"14.00\" text-anchor=\"middle\" x=\"220\" y=\"-174.3\">output:</text>\n<polyline fill=\"none\" points=\"249,-166.5 249,-212.5 \" stroke=\"#000000\"/>\n<text fill=\"#000000\" font-family=\"Times,serif\" font-size=\"14.00\" text-anchor=\"middle\" x=\"304.5\" y=\"-197.3\">[(None, 6, 6, 1)]</text>\n<polyline fill=\"none\" points=\"249,-189.5 360,-189.5 \" stroke=\"#000000\"/>\n<text fill=\"#000000\" font-family=\"Times,serif\" font-size=\"14.00\" text-anchor=\"middle\" x=\"304.5\" y=\"-174.3\">[(None, 6, 6, 1)]</text>\n</g>\n<!-- 140602844678928 -->\n<g class=\"node\" id=\"node3\">\n<title>140602844678928</title>\n<polygon fill=\"none\" points=\"95,-83.5 95,-129.5 337,-129.5 337,-83.5 95,-83.5\" stroke=\"#000000\"/>\n<text fill=\"#000000\" font-family=\"Times,serif\" font-size=\"14.00\" text-anchor=\"middle\" x=\"136\" y=\"-114.3\">Conv2D_1</text>\n<polyline fill=\"none\" points=\"95,-106.5 177,-106.5 \" stroke=\"#000000\"/>\n<text fill=\"#000000\" font-family=\"Times,serif\" font-size=\"14.00\" text-anchor=\"middle\" x=\"136\" y=\"-91.3\">Conv2D</text>\n<polyline fill=\"none\" points=\"177,-83.5 177,-129.5 \" stroke=\"#000000\"/>\n<text fill=\"#000000\" font-family=\"Times,serif\" font-size=\"14.00\" text-anchor=\"middle\" x=\"206\" y=\"-114.3\">input:</text>\n<polyline fill=\"none\" points=\"177,-106.5 235,-106.5 \" stroke=\"#000000\"/>\n<text fill=\"#000000\" font-family=\"Times,serif\" font-size=\"14.00\" text-anchor=\"middle\" x=\"206\" y=\"-91.3\">output:</text>\n<polyline fill=\"none\" points=\"235,-83.5 235,-129.5 \" stroke=\"#000000\"/>\n<text fill=\"#000000\" font-family=\"Times,serif\" font-size=\"14.00\" text-anchor=\"middle\" x=\"286\" y=\"-114.3\">(None, 6, 6, 1)</text>\n<polyline fill=\"none\" points=\"235,-106.5 337,-106.5 \" stroke=\"#000000\"/>\n<text fill=\"#000000\" font-family=\"Times,serif\" font-size=\"14.00\" text-anchor=\"middle\" x=\"286\" y=\"-91.3\">(None, 4, 4, 3)</text>\n</g>\n<!-- 140604648913936&#45;&gt;140602844678928 -->\n<g class=\"edge\" id=\"edge1\">\n<title>140604648913936-&gt;140602844678928</title>\n<path d=\"M216,-166.3799C216,-158.1745 216,-148.7679 216,-139.8786\" fill=\"none\" stroke=\"#000000\"/>\n<polygon fill=\"#000000\" points=\"219.5001,-139.784 216,-129.784 212.5001,-139.784 219.5001,-139.784\" stroke=\"#000000\"/>\n</g>\n<!-- 140602774966672 -->\n<g class=\"node\" id=\"node4\">\n<title>140602774966672</title>\n<polygon fill=\"none\" points=\"95,-.5 95,-46.5 337,-46.5 337,-.5 95,-.5\" stroke=\"#000000\"/>\n<text fill=\"#000000\" font-family=\"Times,serif\" font-size=\"14.00\" text-anchor=\"middle\" x=\"136\" y=\"-31.3\">Conv2D_2</text>\n<polyline fill=\"none\" points=\"95,-23.5 177,-23.5 \" stroke=\"#000000\"/>\n<text fill=\"#000000\" font-family=\"Times,serif\" font-size=\"14.00\" text-anchor=\"middle\" x=\"136\" y=\"-8.3\">Conv2D</text>\n<polyline fill=\"none\" points=\"177,-.5 177,-46.5 \" stroke=\"#000000\"/>\n<text fill=\"#000000\" font-family=\"Times,serif\" font-size=\"14.00\" text-anchor=\"middle\" x=\"206\" y=\"-31.3\">input:</text>\n<polyline fill=\"none\" points=\"177,-23.5 235,-23.5 \" stroke=\"#000000\"/>\n<text fill=\"#000000\" font-family=\"Times,serif\" font-size=\"14.00\" text-anchor=\"middle\" x=\"206\" y=\"-8.3\">output:</text>\n<polyline fill=\"none\" points=\"235,-.5 235,-46.5 \" stroke=\"#000000\"/>\n<text fill=\"#000000\" font-family=\"Times,serif\" font-size=\"14.00\" text-anchor=\"middle\" x=\"286\" y=\"-31.3\">(None, 4, 4, 3)</text>\n<polyline fill=\"none\" points=\"235,-23.5 337,-23.5 \" stroke=\"#000000\"/>\n<text fill=\"#000000\" font-family=\"Times,serif\" font-size=\"14.00\" text-anchor=\"middle\" x=\"286\" y=\"-8.3\">(None, 2, 2, 2)</text>\n</g>\n<!-- 140602844678928&#45;&gt;140602774966672 -->\n<g class=\"edge\" id=\"edge2\">\n<title>140602844678928-&gt;140602774966672</title>\n<path d=\"M216,-83.3799C216,-75.1745 216,-65.7679 216,-56.8786\" fill=\"none\" stroke=\"#000000\"/>\n<polygon fill=\"#000000\" points=\"219.5001,-56.784 216,-46.784 212.5001,-56.784 219.5001,-56.784\" stroke=\"#000000\"/>\n</g>\n</g>\n</svg>"
          },
          "metadata": {},
          "execution_count": 9
        }
      ]
    },
    {
      "cell_type": "code",
      "source": [],
      "metadata": {
        "id": "aPl9d3XFBeRY"
      },
      "execution_count": null,
      "outputs": []
    }
  ]
}