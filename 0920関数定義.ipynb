{
  "nbformat": 4,
  "nbformat_minor": 0,
  "metadata": {
    "colab": {
      "provenance": [],
      "collapsed_sections": [],
      "authorship_tag": "ABX9TyNW12shVS4g14D7a3x5CDIV",
      "include_colab_link": true
    },
    "kernelspec": {
      "name": "python3",
      "display_name": "Python 3"
    },
    "language_info": {
      "name": "python"
    }
  },
  "cells": [
    {
      "cell_type": "markdown",
      "metadata": {
        "id": "view-in-github",
        "colab_type": "text"
      },
      "source": [
        "<a href=\"https://colab.research.google.com/github/yahiroyudai/DeepLearning2022Late/blob/main/0920%E9%96%A2%E6%95%B0%E5%AE%9A%E7%BE%A9.ipynb\" target=\"_parent\"><img src=\"https://colab.research.google.com/assets/colab-badge.svg\" alt=\"Open In Colab\"/></a>"
      ]
    },
    {
      "cell_type": "markdown",
      "source": [
        "# Pytohonで関数を定義する\n"
      ],
      "metadata": {
        "id": "rybE1pbBh81G"
      }
    },
    {
      "cell_type": "markdown",
      "source": [
        "## 関数定義"
      ],
      "metadata": {
        "id": "tcd4PZLRiPOK"
      }
    },
    {
      "cell_type": "code",
      "execution_count": 1,
      "metadata": {
        "colab": {
          "base_uri": "https://localhost:8080/"
        },
        "id": "n5OXpLf_hwYp",
        "outputId": "4f2be39f-7554-43e0-db19-2589e5fa6e2a"
      },
      "outputs": [
        {
          "output_type": "stream",
          "name": "stdout",
          "text": [
            "test message!\n"
          ]
        }
      ],
      "source": [
        "#helloという関数を定義する\n",
        "#\"hello,kansuu!\"と画面表示する関数\n",
        "def hello():\n",
        "  print('hello.kansuu!')#インデントされている\n",
        "  #インデントされている命令文などは関数の範囲の中\n",
        "print('test message!')#インデントされていない\n",
        "#インデントされていない命令文などは関数の範囲の外"
      ]
    },
    {
      "cell_type": "code",
      "source": [
        "#作成した関数hello()をコールする\n",
        "hello()\n",
        "hello()"
      ],
      "metadata": {
        "colab": {
          "base_uri": "https://localhost:8080/"
        },
        "id": "qIJZxKSMjJqq",
        "outputId": "f04aa152-7aa4-4fd6-983d-970ca0a2d2f3"
      },
      "execution_count": 2,
      "outputs": [
        {
          "output_type": "stream",
          "name": "stdout",
          "text": [
            "hello.kansuu!\n",
            "hello.kansuu!\n"
          ]
        }
      ]
    },
    {
      "cell_type": "markdown",
      "source": [
        "##引数つき関数を定義する\n"
      ],
      "metadata": {
        "id": "I071PrEvjpPH"
      }
    },
    {
      "cell_type": "code",
      "source": [
        "#引数つき関数hello()を定義\n",
        "def hello(who):\n",
        "  print('hello, ' + who + '!')\n",
        "hello('Python!')"
      ],
      "metadata": {
        "colab": {
          "base_uri": "https://localhost:8080/"
        },
        "id": "Xus79tqnjnZj",
        "outputId": "5deeb225-3f90-4448-eac5-a5f9f20364a5"
      },
      "execution_count": 3,
      "outputs": [
        {
          "output_type": "stream",
          "name": "stdout",
          "text": [
            "hello, Python!!\n"
          ]
        }
      ]
    },
    {
      "cell_type": "markdown",
      "source": [
        "##複数の引数つき関数を定義"
      ],
      "metadata": {
        "id": "oIYubaUlkN5d"
      }
    },
    {
      "cell_type": "code",
      "source": [
        "def hello(who, aisatsu):\n",
        "  print('hello, ' + who + 'さん' + aisatsu)\n",
        "#関数終わり\n",
        "\n",
        "hello('田中', 'おはよう')\n",
        "hello('鈴木', 'こんにちは')"
      ],
      "metadata": {
        "colab": {
          "base_uri": "https://localhost:8080/"
        },
        "id": "pfghQGL-kLeV",
        "outputId": "8645963d-93fe-4440-b2ed-a1d3a5a31e1d"
      },
      "execution_count": 4,
      "outputs": [
        {
          "output_type": "stream",
          "name": "stdout",
          "text": [
            "hello, 田中さんおはよう\n",
            "hello, 鈴木さんこんにちは\n"
          ]
        }
      ]
    },
    {
      "cell_type": "markdown",
      "source": [
        "##関数の戻り値を定義\n",
        "### 戻り値１つの関数を定義"
      ],
      "metadata": {
        "id": "eb4r0swpk6VN"
      }
    },
    {
      "cell_type": "code",
      "source": [
        "def helloBack(who,aisatsu):\n",
        "  return who + 'さん' + aisatsu\n",
        "#関数終わり\n",
        "\n",
        "#戻り値を変数xに代入して表示\n",
        "x = helloBack('佐藤','こんばんは')\n",
        "print(x)"
      ],
      "metadata": {
        "colab": {
          "base_uri": "https://localhost:8080/"
        },
        "id": "3jgwMCrhk4hi",
        "outputId": "bcf9b586-0647-4e4d-f40d-3403273d5d32"
      },
      "execution_count": 5,
      "outputs": [
        {
          "output_type": "stream",
          "name": "stdout",
          "text": [
            "佐藤さんこんばんは\n"
          ]
        }
      ]
    },
    {
      "cell_type": "markdown",
      "source": [
        "##複数の戻り値を返す関数を定義"
      ],
      "metadata": {
        "id": "zT2YxSj_mCJC"
      }
    },
    {
      "cell_type": "code",
      "source": [
        "def keisan(x, y):\n",
        "  #x, y, x + y この３つの値を返す\n",
        "  return x, y, x + y \n",
        "#関数終わり\n",
        "\n",
        "#関数keisanを実行して戻り値を受け取る\n",
        "keisan(3, 6)\n",
        "e, f, g = keisan(3, 6)#戻り値が3, 6, 9になる\n",
        "print(e, f, g)"
      ],
      "metadata": {
        "colab": {
          "base_uri": "https://localhost:8080/"
        },
        "id": "fDowOYm0l0Cc",
        "outputId": "19f99406-7426-4324-af6a-1f8d2983f957"
      },
      "execution_count": 6,
      "outputs": [
        {
          "output_type": "stream",
          "name": "stdout",
          "text": [
            "3 6 9\n"
          ]
        }
      ]
    },
    {
      "cell_type": "markdown",
      "source": [
        "##その他の文法\n",
        "### 分岐(if文)"
      ],
      "metadata": {
        "id": "6iP6iHrwnFas"
      }
    },
    {
      "cell_type": "code",
      "source": [
        "#if文の範囲もインデントで表す\n",
        "#numの値を閾値で分岐する\n",
        "def over(num, thres):\n",
        "  if num > thres:#numが閾値より大きいとき\n",
        "    print(str(num) + 'は' + str(thres) + 'より大きい')\n",
        "  else:\n",
        "    print(str(num) + 'は' + str(thres) + '以下です')\n",
        "  #分岐の終わり\n",
        "#関数終わり\n",
        "over(333, 100)\n",
        "over(-1, 10)"
      ],
      "metadata": {
        "colab": {
          "base_uri": "https://localhost:8080/"
        },
        "id": "qs71H8KNnCBo",
        "outputId": "793c0f56-f711-4892-f7c5-e50879a04496"
      },
      "execution_count": 7,
      "outputs": [
        {
          "output_type": "stream",
          "name": "stdout",
          "text": [
            "333は100より大きい\n",
            "-1は10以下です\n"
          ]
        }
      ]
    },
    {
      "cell_type": "code",
      "source": [
        "#リストに第2引数の値が含まれるか判定\n",
        "def include(list, keyword):\n",
        "  uniq = set(list)#リストを集合に変換\n",
        "  if keyword in uniq:\n",
        "    print(keyword + 'が含まれる')\n",
        "  else:\n",
        "    print(keyword + 'が含まれない')\n",
        "  #分岐の終わり\n",
        "#関数の終わり\n",
        "\n",
        "#リストを引き渡して作成した関数を実行する\n",
        "list_1 = ['アップル', 'ペン', 'ペン', 'パイナップル']#第一引数に使うリスト\n",
        "include(list_1, 'パイナップル')\n",
        "include(list_1, 'バナナ')"
      ],
      "metadata": {
        "colab": {
          "base_uri": "https://localhost:8080/"
        },
        "id": "r8Z6YyFjos7n",
        "outputId": "ef61de80-3de1-40c9-daf6-a8329b5ba4a4"
      },
      "execution_count": 8,
      "outputs": [
        {
          "output_type": "stream",
          "name": "stdout",
          "text": [
            "パイナップルが含まれる\n",
            "バナナが含まれない\n"
          ]
        }
      ]
    },
    {
      "cell_type": "markdown",
      "source": [
        "##while文は条件がtureの間繰り返す"
      ],
      "metadata": {
        "id": "oMAqMDOiwncL"
      }
    },
    {
      "cell_type": "code",
      "source": [
        "#while文は条件がtrueの間繰り返す\n",
        "def count(max):\n",
        "  num = 0\n",
        "  while num < max:#numがmaxの間繰り返す\n",
        "    print(num)\n",
        "    num += 1\n",
        "  #while繰り返し終わり\n",
        "#関数終わり\n",
        "\n",
        "count(5)#作成した関数に引数を引き渡して実行"
      ],
      "metadata": {
        "colab": {
          "base_uri": "https://localhost:8080/"
        },
        "id": "yw97JTaQvjDA",
        "outputId": "88300161-48af-40fd-8039-e3d18bd60387"
      },
      "execution_count": 13,
      "outputs": [
        {
          "output_type": "stream",
          "name": "stdout",
          "text": [
            "0\n",
            "1\n",
            "2\n",
            "3\n",
            "4\n"
          ]
        }
      ]
    },
    {
      "cell_type": "markdown",
      "source": [
        "##繰り返し文(for文)\n",
        "\n",
        "変数βの集合から１つずつ取り出して変数αとして使う\n",
        "\n",
        "for 変数α in range(変数β):"
      ],
      "metadata": {
        "id": "VaYG-yFAylmY"
      }
    },
    {
      "cell_type": "code",
      "source": [
        "#集合(コレクション)の中から取り出して繰り返し\n",
        "def every(array):\n",
        "  for x in array:#arrayの中から１つずつ取り出しxに代入\n",
        "    print(x)\n",
        "  #for文終わり\n",
        "#関数終わり\n",
        "\n",
        "list = [1, 2, 3]\n",
        "every(list)\n",
        "tuple = (4, 5, 6)\n",
        "every(tuple)\n",
        "#辞書型もコレクション\n",
        "dict = {'a' : 7, 'b' : 8, 'c' : 9}\n",
        "every(dict)\n",
        "values = dict.values()#値のリストを取得\n",
        "every(values)#値の一覧を表示\n",
        "#文字列も文字配列としてコレクション扱いができる\n",
        "every('dog')#dogとして表示"
      ],
      "metadata": {
        "colab": {
          "base_uri": "https://localhost:8080/"
        },
        "id": "HkumM9wPxeGU",
        "outputId": "36df1e62-803a-4199-c625-76c13d6667dd"
      },
      "execution_count": 15,
      "outputs": [
        {
          "output_type": "stream",
          "name": "stdout",
          "text": [
            "1\n",
            "2\n",
            "3\n",
            "4\n",
            "5\n",
            "6\n",
            "a\n",
            "b\n",
            "c\n",
            "7\n",
            "8\n",
            "9\n",
            "d\n",
            "o\n",
            "g\n"
          ]
        }
      ]
    },
    {
      "cell_type": "code",
      "source": [
        "#カウンター変数で繰り返す\n",
        "#for n  in range(数値)０〜数値未満繰り返す\n",
        "\n",
        "def count (num):\n",
        "  for i in range(num):#０〜num繰り返す\n",
        "    print(i)\n",
        "  #繰り返しの終わり\n",
        "#関数の終わり\n",
        "\n",
        "count(3)#３＝ ０, １, ２で繰り返す\n",
        "\n"
      ],
      "metadata": {
        "colab": {
          "base_uri": "https://localhost:8080/"
        },
        "id": "VRdfc3Gz0xRd",
        "outputId": "278c53cf-524b-4e72-e230-e87e41571c50"
      },
      "execution_count": 16,
      "outputs": [
        {
          "output_type": "stream",
          "name": "stdout",
          "text": [
            "0\n",
            "1\n",
            "2\n"
          ]
        }
      ]
    },
    {
      "cell_type": "markdown",
      "source": [
        "##繰り返しを中断したい時はbreak命令"
      ],
      "metadata": {
        "id": "a0JclGh85SC7"
      }
    },
    {
      "cell_type": "code",
      "source": [
        "def stop (array):\n",
        "  for i in array:\n",
        "    if i >= 4:\n",
        "      break#ループを中断\n",
        "    print(i)\n",
        "    #分岐終わり\n",
        "  #ループ終わり\n",
        "#関数終わり\n",
        "\n",
        "list = [1, 2, 3, 4, 5, 1, 2, 3, 4, 5]\n",
        "stop(list)"
      ],
      "metadata": {
        "colab": {
          "base_uri": "https://localhost:8080/"
        },
        "id": "vPcg-51f4twn",
        "outputId": "20852605-681d-4a8f-9aee-5b41ed1af1f7"
      },
      "execution_count": 2,
      "outputs": [
        {
          "output_type": "stream",
          "name": "stdout",
          "text": [
            "1\n",
            "2\n",
            "3\n"
          ]
        }
      ]
    },
    {
      "cell_type": "markdown",
      "source": [
        "##繰り返しをスキップしたい時はcontinue命令 "
      ],
      "metadata": {
        "id": "Ss2k9SF56bnM"
      }
    },
    {
      "cell_type": "code",
      "source": [
        "def skip(array):\n",
        "  for i in array:\n",
        "    if i >= 4:\n",
        "      continue#以降のループ内処理をスキップする\n",
        "    #分岐おわり\n",
        "    print(i)\n",
        "  #繰り返し終わり\n",
        "#関数終わり\n",
        "list = [1, 2, 3, 4, 5, 1, 2, 3, 4, 5]\n",
        "skip(list)"
      ],
      "metadata": {
        "colab": {
          "base_uri": "https://localhost:8080/"
        },
        "id": "fSjBAGQS5edU",
        "outputId": "22ce7020-8181-476d-b174-801fd765e4b4"
      },
      "execution_count": 4,
      "outputs": [
        {
          "output_type": "stream",
          "name": "stdout",
          "text": [
            "1\n",
            "2\n",
            "3\n",
            "1\n",
            "2\n",
            "3\n"
          ]
        }
      ]
    },
    {
      "cell_type": "code",
      "source": [
        "\n"
      ],
      "metadata": {
        "id": "JpANSk6x7Qpf"
      },
      "execution_count": null,
      "outputs": []
    }
  ]
}