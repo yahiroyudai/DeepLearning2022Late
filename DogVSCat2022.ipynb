{
  "nbformat": 4,
  "nbformat_minor": 0,
  "metadata": {
    "colab": {
      "provenance": [],
      "collapsed_sections": [],
      "authorship_tag": "ABX9TyMh4i6y69hpbrNnRv5Z0pAv",
      "include_colab_link": true
    },
    "kernelspec": {
      "name": "python3",
      "display_name": "Python 3"
    },
    "language_info": {
      "name": "python"
    }
  },
  "cells": [
    {
      "cell_type": "markdown",
      "metadata": {
        "id": "view-in-github",
        "colab_type": "text"
      },
      "source": [
        "<a href=\"https://colab.research.google.com/github/yahiroyudai/DeepLearning2022Late/blob/main/DogVSCat2022.ipynb\" target=\"_parent\"><img src=\"https://colab.research.google.com/assets/colab-badge.svg\" alt=\"Open In Colab\"/></a>"
      ]
    },
    {
      "cell_type": "markdown",
      "source": [
        "#Kerasを使用したディープラーニングをやつてみる\n",
        "###画像認識を行う"
      ],
      "metadata": {
        "id": "8Ypn1tqX3e4N"
      }
    },
    {
      "cell_type": "markdown",
      "source": [
        "##ライブラリの読み取り"
      ],
      "metadata": {
        "id": "kyFBg7f35ijO"
      }
    },
    {
      "cell_type": "code",
      "source": [
        "%matplotlib inline\n",
        "from keras.applications.vgg16 import VGG16,preprocess_input,decode_predictions\n",
        "from keras.preprocessing import image\n",
        "from PIL import Image\n",
        "import matplotlib.pyplot as plt\n",
        "import numpy as np\n",
        "import sys"
      ],
      "metadata": {
        "id": "_5d7a90A5nQR"
      },
      "execution_count": 22,
      "outputs": []
    },
    {
      "cell_type": "markdown",
      "source": [
        "##学習済みモデルの読み込み"
      ],
      "metadata": {
        "id": "uPQIZMnA8aly"
      }
    },
    {
      "cell_type": "code",
      "source": [
        "model = VGG16( weights = 'imagenet' )"
      ],
      "metadata": {
        "id": "ekf07Xtr6ElH"
      },
      "execution_count": 23,
      "outputs": []
    },
    {
      "cell_type": "markdown",
      "source": [
        "##画像判定のための関数"
      ],
      "metadata": {
        "id": "EWXYgwG48vhZ"
      }
    },
    {
      "cell_type": "code",
      "source": [
        "def predict( filename, featuresize ):\n",
        "  img = image.load_img( filename, target_size=( 224,224 ) )\n",
        "  x = image.img_to_array( img )\n",
        "  x = np.expand_dims( x, axis=0 )\n",
        "# 判定を実行\n",
        "  preds = model.predict( preprocess_input( x ) )\n",
        "  results = decode_predictions( preds, top=featuresize )[0]\n",
        "  return results \n",
        "#関数終わり"
      ],
      "metadata": {
        "id": "C83cE4KX8s7R"
      },
      "execution_count": 24,
      "outputs": []
    },
    {
      "cell_type": "markdown",
      "source": [
        "##画像表示のための関数"
      ],
      "metadata": {
        "id": "3Cj1K4Q6_pzf"
      }
    },
    {
      "cell_type": "code",
      "source": [
        "def showimg( filename, title, i ):\n",
        "  im = Image.open( filename )\n",
        "  im_list = np.array( im )\n",
        "  plt.subplot( 2, 5, i )\n",
        "  plt.title( title )\n",
        "  plt.axis( \"off\" )\n",
        "  plt.imshow( im_list )"
      ],
      "metadata": {
        "id": "802UHVOn-d_i"
      },
      "execution_count": 25,
      "outputs": []
    },
    {
      "cell_type": "markdown",
      "source": [
        "##Kaggeにある画像データを利用\n",
        "https://www.kaggl.com/\n",
        "### 犬猫判定用の画像データ\n",
        "https://www.kaggle.com/c/dogs-vs-cats/data"
      ],
      "metadata": {
        "id": "MbBQ9sDjBny7"
      }
    },
    {
      "cell_type": "markdown",
      "source": [
        "##指定されたURLからファイルをダウンロードする"
      ],
      "metadata": {
        "id": "nQ6x_MMAuZmW"
      }
    },
    {
      "cell_type": "code",
      "source": [
        "#wgetでwebからファイルをダウンロードする\n",
        "#GooglColabでコマンドを実行するときは、先頭に！マークを必ずつけること\n",
        "#小さいファイルをGoogleドライブからDLする時は、以下のようにURLをつけるだけでOK\n",
        "!wget --load-cookies /tmp/cookies.txt \"https://drive.google.com/uc?export=download&confirm=$(wget --quiet --save-cookies /tmp/cookies.txt --keep-session-cookies --no-check-certificate 'https://drive.google.com/uc?export=download&id=1WQ9KZ-St4BqUWkqYJZYBIXQ8tT92DW_2' -O- | sed -rn 's/.*confirm=([0-9A-Za-z_]+).*/\\1\\n/p')&id=1WQ9KZ-St4BqUWkqYJZYBIXQ8tT92DW_2\" -O train.zip && rm -rf /tmp/cookies.txt\n",
        "!wget --load-cookies /tmp/cookies.txt \"https://drive.google.com/uc?export=download&confirm=$(wget --quiet --save-cookies /tmp/cookies.txt --keep-session-cookies --no-check-certificate 'https://drive.google.com/uc?export=download&id=1WQ9KZ-St4BqUWkqYJZYBIXQ8tT92DW_2' -O- | sed -rn 's/.*confirm=([0-9A-Za-z_]+).*/\\1\\n/p')&id=1WQ9KZ-St4BqUWkqYJZYBIXQ8tT92DW_2\" -O test.zip && rm -rf /tmp/cookies.txt"
      ],
      "metadata": {
        "id": "ii-UMBhHA58z",
        "colab": {
          "base_uri": "https://localhost:8080/"
        },
        "outputId": "e4ec99bc-7fb9-42a0-8e2e-b3a857bb218e"
      },
      "execution_count": 26,
      "outputs": [
        {
          "output_type": "stream",
          "name": "stdout",
          "text": [
            "--2022-10-04 01:04:32--  https://drive.google.com/uc?export=download&confirm=t&id=1WQ9KZ-St4BqUWkqYJZYBIXQ8tT92DW_2\n",
            "Resolving drive.google.com (drive.google.com)... 142.251.31.139, 142.251.31.101, 142.251.31.102, ...\n",
            "Connecting to drive.google.com (drive.google.com)|142.251.31.139|:443... connected.\n",
            "HTTP request sent, awaiting response... 303 See Other\n",
            "Location: https://doc-0k-1s-docs.googleusercontent.com/docs/securesc/ha0ro937gcuc7l7deffksulhg5h7mbp1/8nasnq6jj4ef3nlv5d4cvrvovbrtq942/1664845425000/14334177730080324288/*/1WQ9KZ-St4BqUWkqYJZYBIXQ8tT92DW_2?e=download&uuid=96a4dabd-175e-4e33-a9a8-651225c0a752 [following]\n",
            "Warning: wildcards not supported in HTTP.\n",
            "--2022-10-04 01:04:33--  https://doc-0k-1s-docs.googleusercontent.com/docs/securesc/ha0ro937gcuc7l7deffksulhg5h7mbp1/8nasnq6jj4ef3nlv5d4cvrvovbrtq942/1664845425000/14334177730080324288/*/1WQ9KZ-St4BqUWkqYJZYBIXQ8tT92DW_2?e=download&uuid=96a4dabd-175e-4e33-a9a8-651225c0a752\n",
            "Resolving doc-0k-1s-docs.googleusercontent.com (doc-0k-1s-docs.googleusercontent.com)... 108.177.127.132, 2a00:1450:4013:c07::84\n",
            "Connecting to doc-0k-1s-docs.googleusercontent.com (doc-0k-1s-docs.googleusercontent.com)|108.177.127.132|:443... connected.\n",
            "HTTP request sent, awaiting response... 200 OK\n",
            "Length: 569872234 (543M) [application/x-zip-compressed]\n",
            "Saving to: ‘train.zip’\n",
            "\n",
            "train.zip           100%[===================>] 543.47M   265MB/s    in 2.0s    \n",
            "\n",
            "2022-10-04 01:04:35 (265 MB/s) - ‘train.zip’ saved [569872234/569872234]\n",
            "\n",
            "--2022-10-04 01:04:36--  https://drive.google.com/uc?export=download&confirm=t&id=1WQ9KZ-St4BqUWkqYJZYBIXQ8tT92DW_2\n",
            "Resolving drive.google.com (drive.google.com)... 142.251.31.139, 142.251.31.101, 142.251.31.102, ...\n",
            "Connecting to drive.google.com (drive.google.com)|142.251.31.139|:443... connected.\n",
            "HTTP request sent, awaiting response... 303 See Other\n",
            "Location: https://doc-0k-1s-docs.googleusercontent.com/docs/securesc/ha0ro937gcuc7l7deffksulhg5h7mbp1/8nasnq6jj4ef3nlv5d4cvrvovbrtq942/1664845425000/14334177730080324288/*/1WQ9KZ-St4BqUWkqYJZYBIXQ8tT92DW_2?e=download&uuid=3e4f2ae4-4ea8-41e7-b66e-0850bf9a0ff7 [following]\n",
            "Warning: wildcards not supported in HTTP.\n",
            "--2022-10-04 01:04:36--  https://doc-0k-1s-docs.googleusercontent.com/docs/securesc/ha0ro937gcuc7l7deffksulhg5h7mbp1/8nasnq6jj4ef3nlv5d4cvrvovbrtq942/1664845425000/14334177730080324288/*/1WQ9KZ-St4BqUWkqYJZYBIXQ8tT92DW_2?e=download&uuid=3e4f2ae4-4ea8-41e7-b66e-0850bf9a0ff7\n",
            "Resolving doc-0k-1s-docs.googleusercontent.com (doc-0k-1s-docs.googleusercontent.com)... 108.177.127.132, 2a00:1450:4013:c07::84\n",
            "Connecting to doc-0k-1s-docs.googleusercontent.com (doc-0k-1s-docs.googleusercontent.com)|108.177.127.132|:443... connected.\n",
            "HTTP request sent, awaiting response... 200 OK\n",
            "Length: 569872234 (543M) [application/x-zip-compressed]\n",
            "Saving to: ‘test.zip’\n",
            "\n",
            "test.zip            100%[===================>] 543.47M   270MB/s    in 2.0s    \n",
            "\n",
            "2022-10-04 01:04:39 (270 MB/s) - ‘test.zip’ saved [569872234/569872234]\n",
            "\n"
          ]
        }
      ]
    },
    {
      "cell_type": "markdown",
      "source": [
        "##ColabにGoogleアカウントのドライブをマウントする"
      ],
      "metadata": {
        "id": "NuVfENELy1ag"
      }
    },
    {
      "cell_type": "code",
      "source": [
        "#Googleドライブを操作するモジュールをimport\n",
        "from google.colab import drive\n",
        "#Googleドライブをマウント\n",
        "drive.mount ('/content/drive')"
      ],
      "metadata": {
        "colab": {
          "base_uri": "https://localhost:8080/"
        },
        "id": "6G6-9barvbzH",
        "outputId": "b341403c-fb34-491f-a7ff-ac152e5429f0"
      },
      "execution_count": 27,
      "outputs": [
        {
          "output_type": "stream",
          "name": "stdout",
          "text": [
            "Drive already mounted at /content/drive; to attempt to forcibly remount, call drive.mount(\"/content/drive\", force_remount=True).\n"
          ]
        }
      ]
    },
    {
      "cell_type": "markdown",
      "source": [
        "##DLしてきたファイルをマウントしたディレクトリにコピーする"
      ],
      "metadata": {
        "id": "4Dt7t7CE1UNd"
      }
    },
    {
      "cell_type": "code",
      "source": [
        "#コピーファイルを置くディレクトリを作る\n",
        "import os\n",
        "dir_path = \"/content/drive/My Drive/2022LATE\"\n",
        "#すでにディレクトリがあってもエラーにしない\n",
        "os.makedirs(dir_path, exist_ok=True)\n",
        "!pwd #今いるディレクトリを表示\n",
        "#ファイルをコピー\n",
        "!cp train.zip \"/content/drive/My Drive/2022LATE\"\n",
        "#tedt.zipはいったん使わないのでコピーしない"
      ],
      "metadata": {
        "colab": {
          "base_uri": "https://localhost:8080/"
        },
        "id": "qec2WKL4zpwY",
        "outputId": "8c05df91-c18c-41de-c7bd-45a3577ba740"
      },
      "execution_count": 28,
      "outputs": [
        {
          "output_type": "stream",
          "name": "stdout",
          "text": [
            "/content\n"
          ]
        }
      ]
    },
    {
      "cell_type": "markdown",
      "source": [
        "##GoogleドライブからColabへファイルをコピー"
      ],
      "metadata": {
        "id": "mCXWWa_U4Q2g"
      }
    },
    {
      "cell_type": "code",
      "source": [
        "!cp \"/content/drive/My Drive/2022LATE/train.zip\""
      ],
      "metadata": {
        "colab": {
          "base_uri": "https://localhost:8080/"
        },
        "id": "MssCWQCR2ipU",
        "outputId": "8d1c47fc-21fb-47a9-ad43-e1081b7919ad"
      },
      "execution_count": 29,
      "outputs": [
        {
          "output_type": "stream",
          "name": "stdout",
          "text": [
            "cp: missing destination file operand after '/content/drive/My Drive/2022LATE/train.zip'\n",
            "Try 'cp --help' for more information.\n"
          ]
        }
      ]
    },
    {
      "cell_type": "markdown",
      "source": [
        "##zipファイルを解凍する"
      ],
      "metadata": {
        "id": "YkX_vfKt4p1c"
      }
    },
    {
      "cell_type": "code",
      "source": [
        "#unzipコマンドで解凍\n",
        "!unzip -o -q \"train.zip\"\n",
        "print(\"zip解凍完了\")"
      ],
      "metadata": {
        "colab": {
          "base_uri": "https://localhost:8080/"
        },
        "id": "4HGSvKVj4oWu",
        "outputId": "fe5b5d79-9187-4926-ace6-506cdcfba8f3"
      },
      "execution_count": 30,
      "outputs": [
        {
          "output_type": "stream",
          "name": "stdout",
          "text": [
            "zip解凍完了\n"
          ]
        }
      ]
    },
    {
      "cell_type": "markdown",
      "source": [
        "##解凍した画像を使って画像判定をさせる"
      ],
      "metadata": {
        "id": "LQy-6XSR56Wd"
      }
    },
    {
      "cell_type": "code",
      "source": [
        "#画像を指定する変数\n",
        "filename = \"EVA.jpg\"\n",
        "plt.figure(figsize=(20, 10))\n",
        "for i in range(1):\n",
        "  showimg(filename, \"What's this?\", i+1)\n",
        "#ループ終わり\n",
        "plt.show()\n",
        "#表示した画像を判定\n",
        "results = predict(filename, 10)\n",
        "for result in results:\n",
        "  print(result)"
      ],
      "metadata": {
        "colab": {
          "base_uri": "https://localhost:8080/",
          "height": 423
        },
        "id": "MvRNVsyZ5BLM",
        "outputId": "135deff0-a8aa-478d-80bf-e86dc0c7a54b"
      },
      "execution_count": 31,
      "outputs": [
        {
          "output_type": "display_data",
          "data": {
            "text/plain": [
              "<Figure size 1440x720 with 1 Axes>"
            ],
            "image/png": "[encoded data removed]"
          },
          "metadata": {
            "needs_background": "light"
          }
        },
        {
          "output_type": "stream",
          "name": "stdout",
          "text": [
            "('n04228054', 'ski', 0.7511653)\n",
            "('n03888257', 'parachute', 0.07858699)\n",
            "('n03733131', 'maypole', 0.05863159)\n",
            "('n02879718', 'bow', 0.025597833)\n",
            "('n04336792', 'stretcher', 0.007605628)\n",
            "('n03532672', 'hook', 0.007368704)\n",
            "('n04371774', 'swing', 0.0063195815)\n",
            "('n01818515', 'macaw', 0.0046297037)\n",
            "('n03944341', 'pinwheel', 0.004192307)\n",
            "('n09193705', 'alp', 0.004148803)\n"
          ]
        }
      ]
    },
    {
      "cell_type": "code",
      "source": [],
      "metadata": {
        "id": "NyP0qel-7Axe"
      },
      "execution_count": 31,
      "outputs": []
    }
  ]
}