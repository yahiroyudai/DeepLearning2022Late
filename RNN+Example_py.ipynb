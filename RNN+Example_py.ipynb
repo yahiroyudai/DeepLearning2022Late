{
  "nbformat": 4,
  "nbformat_minor": 0,
  "metadata": {
    "colab": {
      "provenance": [],
      "authorship_tag": "ABX9TyM8Tw2csEOMXkYO/uFymv7k",
      "include_colab_link": true
    },
    "kernelspec": {
      "name": "python3",
      "display_name": "Python 3"
    },
    "language_info": {
      "name": "python"
    }
  },
  "cells": [
    {
      "cell_type": "markdown",
      "metadata": {
        "id": "view-in-github",
        "colab_type": "text"
      },
      "source": [
        "<a href=\"https://colab.research.google.com/github/yahiroyudai/DeepLearning2022Late/blob/main/RNN%2BExample_py.ipynb\" target=\"_parent\"><img src=\"https://colab.research.google.com/assets/colab-badge.svg\" alt=\"Open In Colab\"/></a>"
      ]
    },
    {
      "cell_type": "markdown",
      "source": [
        "##ライブラリのimport"
      ],
      "metadata": {
        "id": "MKArgtAzJPQT"
      }
    },
    {
      "cell_type": "code",
      "execution_count": 1,
      "metadata": {
        "id": "WTE9gQmTIxwJ"
      },
      "outputs": [],
      "source": [
        "from keras.models import Sequential, Model\n",
        "from keras.layers import Input, Embedding, LSTM, Dense"
      ]
    },
    {
      "cell_type": "code",
      "source": [
        "#from keras.layers.wrapers import TimeDistributed\n",
        "from tensorflow.keras.layers import TimeDistributed"
      ],
      "metadata": {
        "id": "EE5YYHRsJ1f4"
      },
      "execution_count": 2,
      "outputs": []
    },
    {
      "cell_type": "markdown",
      "source": [
        "##データセット(imdb)の読み込み\n"
      ],
      "metadata": {
        "id": "gXKT0HANK2yW"
      }
    },
    {
      "cell_type": "code",
      "source": [
        "from keras.datasets import imdb"
      ],
      "metadata": {
        "id": "XWZcBHipKfOS"
      },
      "execution_count": 3,
      "outputs": []
    },
    {
      "cell_type": "code",
      "source": [
        "from IPython.display import SVG\n",
        "from keras.utils.vis_utils import model_to_dot"
      ],
      "metadata": {
        "id": "mHQbqzr8LN_0"
      },
      "execution_count": 4,
      "outputs": []
    },
    {
      "cell_type": "markdown",
      "source": [
        "##Numpyなどのツールの読み込み"
      ],
      "metadata": {
        "id": "Mgynx3wRMCsY"
      }
    },
    {
      "cell_type": "code",
      "source": [
        "import numpy as np\n",
        "from keras.utils import to_categorical, np_utils"
      ],
      "metadata": {
        "id": "a-tG2rzSLqd2"
      },
      "execution_count": 5,
      "outputs": []
    },
    {
      "cell_type": "markdown",
      "source": [
        "##データ数、バッチ数など、各種定数を定義する"
      ],
      "metadata": {
        "id": "MidRwdO1Mu3c"
      }
    },
    {
      "cell_type": "code",
      "source": [
        "train_reviews = 5000\n",
        "valid_reviews = 100\n",
        "max_features = 5000\n",
        "Embedding_size = 256\n",
        "srep_size = 5\n",
        "batch_size = 32\n",
        "index_from = 2\n",
        "rnn_units = 128\n",
        "epochs = 2\n",
        "word_index_prev = {'<PAD>':0, '{START}':1, '<UNK>':2}"
      ],
      "metadata": {
        "id": "IHAfGzCsM8t7"
      },
      "execution_count": 6,
      "outputs": []
    },
    {
      "cell_type": "markdown",
      "source": [
        "##IMDBデータセットを読み込む"
      ],
      "metadata": {
        "id": "H2K1uaUoOfnV"
      }
    },
    {
      "cell_type": "code",
      "source": [
        "(x_train,y_train), (x_test,y_test) = imdb.load_data( num_words=max_features, index_from=index_from )"
      ],
      "metadata": {
        "id": "k8r3BUXFOaso"
      },
      "execution_count": 7,
      "outputs": []
    },
    {
      "cell_type": "markdown",
      "source": [
        "##読み込んだデータを加工する(単語に関する情報を抜き出す)"
      ],
      "metadata": {
        "id": "iKEtCtDaP5Pu"
      }
    },
    {
      "cell_type": "code",
      "source": [
        "word_index = { word:(index+index_from) \n",
        "for word, index in imdb.get_word_index().items() if (index + index_from) < max_features}\n",
        "word_index.update(word_index_prev)"
      ],
      "metadata": {
        "id": "0Ju7uixpP4PO"
      },
      "execution_count": 8,
      "outputs": []
    },
    {
      "cell_type": "markdown",
      "source": [
        "##加工した単語情報から辞書(ディクショナリ)を作成する"
      ],
      "metadata": {
        "id": "NzQGHX48Rakm"
      }
    },
    {
      "cell_type": "code",
      "source": [
        "index_word = { index: word for word, index in word_index.items() }\n",
        "print(index_word)"
      ],
      "metadata": {
        "colab": {
          "base_uri": "https://localhost:8080/"
        },
        "id": "K0gcYn8VRBqZ",
        "outputId": "079b6e70-a0f1-4047-f9b1-50721d4aee31"
      },
      "execution_count": 9,
      "outputs": [
        {
          "output_type": "stream",
          "name": "stdout",
          "text": [
            "{1410: 'woods', 2347: 'hanging', 2291: 'woody', 2340: 'bringing', 1638: 'wooden', 4012: 'errors', 3232: 'dialogs', 361: 'kids', 180: 'want', 2105: 'travel', 3932: 'dinosaurs', 354: 'wrong', 4762: 'subplots', 1182: 'fit', 1929: 'screaming', 4289: 'fix', 301: 'effects', 4013: 'disturbed', 1287: 'purpose', 886: 'needed', 1299: 'master', 546: 'feeling', 1359: 'cinematic', 4990: 'tech', 659: 'saying', 3901: 'altogether', 1779: 'nicely', 4590: 'mummy', 774: 'lots', 875: 'nature', 3902: 'superficial', 2825: 'extent', 75: 'much', 4991: 'doubts', 3086: 'spin', 2578: 'hong', 4451: 'corporate', 4313: 'hal', 4894: 'ham', 68: 'had', 46: 'has', 2403: 'hat', 2292: 'crowd', 1323: 'bottom', 1183: 'starring', 3233: 'shoots', 3539: 'raped', 3977: 'explosions', 3628: 'chain', 2499: 'whoever', 3038: 'chair', 4519: 'ballet', 3398: 'jerk', 2896: 'locked', 2590: 'exact', 785: 'minute', 3385: 'unintentionally', 3842: 'cusack', 3629: 'opposed', 1044: 'following', 4520: 'convincingly', 4254: 'surfing', 1239: 'jim', 614: 'seriously', 2849: 'spoken', 3251: 'concert', 4634: 'wandering', 678: 'turned', 3767: 'turner', 1960: 'opposite', 3791: 'imagined', 3540: 'menacing', 3659: 'convoluted', 1262: 'west', 4203: 'motives', 4452: 'photos', 2130: 'technology', 2008: 'visually', 111: 'being', 2326: 'substance', 18: 'with', 3979: 'rage', 1640: 'dirty', 3630: 'watches', 295: 'watched', 3350: 'tricks', 2163: 'caused', 2905: 'causes', 2234: 'portrays', 52: 'more', 1168: 'company', 849: 'learn', 665: 'huge', 3933: 'hugh', 2299: 'paper', 1090: 'scott', 4314: 'gadget', 1620: 'shocking', 2300: 'research', 680: 'word', 4383: 'blond', 3434: 'exercise', 2139: 'insane', 2999: 'retarded', 4014: 'bell', 4678: 'bela', 1252: 'adaptation', 2005: 'satire', 2198: 'treatment', 4140: 'awake', 1087: '30', 845: 'parents', 377: 'couple', 4315: 'chorus', 4485: 'behave', 1641: 'mouth', 4846: 'terrorists', 82: 'into', 4015: 'atlantis', 1949: 'singer', 3768: \"show's\", 373: 'video', 2272: 'victor', 165: 'makes', 3010: 'maker', 4453: 'confidence', 211: 'comedy', 1088: 'intelligent', 2617: 'insight', 4016: 'snake', 3386: 'denzel', 1150: 'books', 2412: 'witness', 757: \"'\", 4635: 'greedy', 99: 'could', 4847: 'lumet', 4992: 'interests', 2555: 'false', 4486: 'tonight', 2389: 'sinatra', 2213: 'tape', 3052: 'riding', 537: 'stuff', 3098: 'guessing', 2121: 'frame', 4204: 'destiny', 3477: 'nuclear', 4487: 'staring', 4896: 'marty', 630: 'english', 2797: 'greater', 124: 'off', 4079: 'crack', 412: 'become', 4636: 'recognition', 4848: 'morris', 1796: 'passion', 3616: 'union', 4418: 'swimming', 4454: 'letters', 3522: 'evident', 2317: 'excitement', 4941: 'garbo', 438: 'problem', 2934: 'nonetheless', 1372: 'details', 4993: 'exposure', 3832: 'dave', 4384: 'stinks', 4521: 'porno', 289: 'worth', 3631: 'samurai', 3868: 'machines', 4718: 'viewings', 2714: 'achieve', 4522: '1990', 4141: '1996', 4205: '1999', 998: 'era', 4764: 'nuts', 3769: 'davies', 3971: 'innovative', 364: 'production', 4637: 'understated', 3715: 'reasonably', 3792: 'reasonable', 2273: 'daniel', 1729: \"character's\", 3561: 'flawless', 159: 'another', 2514: 'dogs', 2815: 'cabin', 1378: 'historical', 4045: 'subjects', 2964: 'aunt', 2367: 'haunted', 1128: 'runs', 3387: 'horrendous', 3770: 'draws', 1308: 'drawn', 3266: 'encounters', 3515: 'handful', 3903: 'kitchen', 2026: 'essentially', 1162: 'tone', 3267: 'imaginative', 3399: 'tons', 2556: 'massive', 1222: 'tony', 2387: 'unlikely', 2104: 'brilliantly', 683: 'apparently', 4097: 'survival', 4488: 'humble', 1695: 'mid', 1215: 'thanks', 4350: 'similarities', 313: 'night', 4816: 'attorney', 2180: 'test', 689: 'songs', 1119: 'concept', 984: 'battle', 504: 'turns', 1055: 'gun', 231: 'guy', 1868: \"hadn't\", 1749: 'teacher', 3562: 'regardless', 1726: 'extra', 1502: 'lacks', 3771: 'discussion', 3198: 'kurt', 1223: 'brain', 130: 'still', 2439: 'drop', 1242: 'yeah', 290: 'year', 4591: 'transition', 4916: 'suffice', 4080: 'brains', 3516: 'importantly', 3000: 'madness', 3388: 'charismatic', 3478: 'elvis', 2060: 'develop', 1643: 'food', 340: 'death', 3199: 'fortune', 1313: 'fully', 3772: 'exposed', 4803: 'francis', 217: \"isn't\", 2280: 'freddy', 337: 'poor', 3072: 'pool', 669: 'robert', 4352: 'thoughtful', 1735: 'religious', 1196: 'decide', 1994: 'ass', 1985: 'streets', 4592: 'advertising', 3817: 'heroic', 3818: 'absence', 773: \"haven't\", 4849: 'ninja', 2446: 'fairy', 1184: 'heavy', 1634: 'lord', 297: 'american', 2604: 'trapped', 1840: 'toward', 4850: 'randomly', 4897: 'caliber', 3400: 'hype', 3212: 'portrait', 2755: 'league', 585: \"wouldn't\", 1895: 'empty', 1013: 'match', 2106: 'grant', 1757: 'grand', 539: 'obviously', 3934: 'synopsis', 2214: 'reviewer', 799: 'showing', 4046: 'lips', 948: 'towards', 3541: 'silence', 728: 'similar', 3563: 'fears', 2549: 'department', 1959: 'unfunny', 978: 'telling', 1782: 'jump', 1361: 'vampire', 2783: 'lugosi', 2594: 'clark', 1920: 'manage', 369: 'camera', 908: 'meet', 3660: 'pulling', 4419: 'orson', 3435: 'university', 317: 'special', 210: 'times', 4560: 'wrapped', 3352: 'battles', 3024: 'mansion', 2447: 'repeated', 2248: 'sheriff', 1198: 'won', 3200: 'cameos', 671: 'episodes', 3661: 'ken', 4561: 'kicking', 1316: 'key', 4316: 'limits', 2557: 'surface', 3436: 'increasingly', 3608: 'distant', 1148: 'pointless', 3234: 'gain', 4081: 'highest', 3935: 'beats', 4420: 'education', 3201: 'consists', 805: 'sorry', 2569: 'suspenseful', 3773: 'mel', 348: 'men', 3716: 'mitchell', 4455: 'berlin', 672: 'room', 101: 'movies', 3662: 'root', 2235: 'gordon', 3838: 'vicious', 839: 'third', 964: 'personal', 1050: 'crew', 2220: 'combination', 30: 'one', 2737: 'forgot', 4421: 'aids', 1289: 'comedies', 1076: 'uses', 777: 'begins', 4385: 'mario', 2906: 'maria', 4048: 'mildred', 4358: 'represented', 1642: 'asks', 1333: 'lovely', 1978: 'locations', 1557: 'ugly', 2487: 'cant', 4353: 'realizing', 3717: 'failing', 4942: 'assigned', 3288: 'stunts', 2515: 'nude', 2642: 'dean', 854: 'deal', 3213: 'dear', 2281: 'shakespeare', 2654: 'afternoon', 179: 'down', 2558: 'narration', 3793: 'editor', 3564: 'creation', 1353: 'batman', 1447: 'happening', 3904: 'pseudo', 4638: 'restored', 335: 'father', 3542: 'talked', 1780: 'suspect', 952: 'box', 429: 'boy', 2045: 'bob', 1666: 'teenage', 3464: 'drags', 2800: 'dennis', 4489: 'snl', 567: 'police', 3333: 'stanwyck', 4851: 'frequent', 85: 'first', 1385: 'speaking', 1841: 'kevin', 4639: 'complexity', 2413: 'shocked', 4354: 'harvey', 1765: 'russian', 2527: 'treasure', 4994: 'travesty', 4804: 'enthusiasm', 78: 'get', 1527: 'gem', 1315: 'london', 2223: 'seat', 593: 'wonder', 2348: 'satisfying', 637: 'across', 1068: 'considering', 2249: 'capable', 431: 'sort', 3289: 'wake', 4207: 'hardcore', 2427: 'promising', 3843: 'extended', 4600: 'adams', 4386: 'passionate', 256: 'each', 1855: 'vhs', 1399: 'hey', 441: \"she's\", 1205: 'u', 1137: 'former', 1455: 'zero', 3993: 'newspaper', 990: 'masterpiece', 4898: 'mentions', 2414: 'africa', 3952: 'engaged', 4208: 'mill', 533: 'hour', 2282: 'recall', 1869: 'sucks', 2415: 'remain', 2107: 'ford', 737: 'needs', 1420: 'acts', 4142: 'brady', 2784: 'dragon', 1716: 'comedic', 796: 'viewers', 735: 'mystery', 1727: 'engaging', 4049: 'perry', 3663: \"they'll\", 2801: 'extraordinary', 349: 'top', 826: 'tom', 3517: 'godfather', 1381: 'charm', 862: 'premise', 2188: 'foreign', 212: 'point', 3268: 'expensive', 1116: 'century', 3295: 'knock', 150: 'though', 4594: 'abusive', 2692: 'murphy', 4317: 'cure', 1253: 'utterly', 2264: 'portraying', 435: 'entire', 1921: 'fat', 3953: 'escaped', 2721: 'closing', 2385: 'continuity', 1776: 'holds', 4983: 'suspend', 105: 'watch', 3186: 'chasing', 4143: 'blatant', 4763: 'lively', 860: 'sexual', 4230: 'reaches', 3819: 'reached', 27: 'have', 4765: 'prisoner', 3496: 'disease', 4082: 'occasion', 3419: 'hamlet', 1856: 'knowledge', 3202: 'perfection', 4900: 'showdown', 3870: 'antics', 974: 'joke', 3214: 'equal', 44: \"it's\", 2591: 'powell', 39: 'like', 2283: 'chick', 1152: 'hair', 4318: 'introduces', 3311: 'rushed', 1809: 'dressed', 1588: 'detail', 1503: 'direct', 4422: 'nail', 823: 'doubt', 3053: 'revolves', 888: 'leaves', 320: 'excellent', 3518: 'estate', 2785: 'description', 4679: 'parallel', 2879: 'succeeds', 4699: 'newly', 503: 'days', 3203: 'lovable', 1273: 'attack', 1218: 'fiction', 3936: 'carrey', 2034: 'frankly', 3855: 'displays', 3025: 'bridge', 1561: 'thoroughly', 3543: 'derek', 2768: 'musicals', 3980: 'overwhelming', 1185: 'situations', 4901: 'borrowed', 4574: '1960s', 4387: 'finger', 2362: 'hopefully', 2156: 'fault', 4902: 'elm', 3362: 'n', 584: 'experience', 2599: 'prior', 3632: 'shortly', 4680: 'ocean', 519: 'gave', 2009: 'breaks', 4255: 'melting', 2334: 'hunt', 3878: 'overrated', 4610: 'hung', 3694: 'duke', 1570: 'stuck', 3269: 'eerie', 430: 'picture', 2318: 'football', 4290: 'faster', 2570: 'vietnam', 2708: 'ron', 2355: 'roy', 3437: 'row', 3633: 'heston', 270: 'goes', 1717: 'witch', 3111: 'crisis', 1797: 'andy', 821: 'figure', 2890: 'sidney', 2769: 'fourth', 3519: 'hanks', 3565: 'shy', 2399: 'handled', 4319: 'cards', 835: 'suspense', 1831: 'superman', 4903: 'icon', 2605: 'proud', 705: 'cheap', 3353: 'believing', 3981: 'jazz', 639: 'jokes', 4083: 'signs', 1857: 'quiet', 809: 'period', 2802: 'turkey', 419: 'case', 2207: 'cash', 176: 'cast', 2953: 'ironic', 2132: 'author', 2667: 'status', 4355: 'justify', 3871: \"he'll\", 4943: 'feminist', 2328: 'patrick', 1652: 'redeeming', 4681: 'slaughter', 3392: 'reactions', 4682: 'rising', 4017: 'felix', 4651: 'operation', 1832: 'deserve', 1961: 'finale', 3588: 'bullets', 3664: 'streisand', 906: 'directors', 4144: 'decisions', 3131: 'glimpse', 1602: 'apartment', 3452: 'occurs', 508: 'flick', 4719: 'sue', 1491: 'sub', 2738: 'sun', 3039: 'sum', 2908: 'charge', 3235: 'horses', 4995: 'israel', 4962: 'definition', 2035: 'occasionally', 1153: 'adventure', 2786: 'susan', 4256: 'soccer', 1842: 'somebody', 2189: 'hill', 64: 'story', 970: 'leading', 3161: 'storm', 1129: 'store', 3465: 'luckily', 710: 'king', 242: 'kind', 12: 'i', 3665: 'motivation', 2803: 'storytelling', 3172: 'lying', 1039: 'wrote', 4320: 'solo', 2961: 'sold', 3718: 'sole', 2816: 'flight', 3737: 'shirt', 789: '9', 2846: 'daughters', 1930: 'higher', 2224: 'sell', 1203: 'questions', 1698: 'phone', 3054: 'refuses', 3982: 'vivid', 3312: 'virus', 1554: 'impressed', 4805: 'lone', 195: 'long', 1480: \"hasn't\", 1850: 'nick', 326: 'nice', 1216: 'meaning', 3497: 'allowing', 1469: 'include', 3132: 'gripping', 4209: 'wrestling', 3133: 'reunion', 4423: 'judy', 2470: 'chose', 3738: 'explore', 3187: 'suggests', 2965: 'hardy', 4523: 'miike', 1863: 'whilst', 1730: 'superior', 4257: 'edie', 4321: 'blues', 4116: 'chaos', 1330: 'g', 3040: 'hence', 1858: 'unknown', 4322: 'splatter', 2368: 'teenagers', 36: 'who', 137: 'why', 4740: 'ensues', 2151: 'utter', 3520: 'pleased', 28: 'he', 3270: 'cube', 1020: 'married', 1804: 'joy', 291: 'job', 913: 'joe', 2635: 'jon', 4323: 'april', 1579: 'offers', 1379: 'stunning', 3438: 'disagree', 4050: 'warming', 2054: 'cameo', 3290: 'guts', 1392: 'smart', 3313: 'ripped', 1280: 'rare', 2936: 'carried', 2937: 'carries', 4905: 'polished', 2992: 'horrific', 1173: 'conclusion', 2571: 'kinds', 1931: 'kinda', 4176: 'yellow', 3087: 'miller', 351: 'budget', 1851: 'explained', 4596: 'spoke', 1111: 'successful', 1486: 'hurt', 4944: 'household', 4018: 'damage', 1691: 'machine', 2938: 'wins', 940: 'keeps', 2770: 'wing', 1932: 'wind', 3389: 'silver', 3420: 'represents', 4117: 'financial', 2706: 'necessarily', 1968: 'ups', 4210: 'subtlety', 3148: 'infamous', 3473: 'eva', 2976: 'legs', 4720: 'wisdom', 4324: 'endure', 407: 'gives', 1892: 'responsible', 4051: 'causing', 3695: 'morality', 2488: 'professor', 2939: 'alas', 2164: 'bomb', 4388: 'shirley', 1038: 'copy', 755: 'theme', 117: 'best', 2473: 'adventures', 3055: 'adapted', 4872: 'rangers', 4766: 'incompetent', 112: 'life', 1722: 'filmmaker', 505: 'child', 4640: 'madonna', 4597: 'plight', 2539: 'birth', 3573: 'individuals', 4852: 'despair', 3954: 'juvenile', 3696: 'liberal', 1777: 'exist', 4641: 'attitudes', 3666: 'directorial', 2474: 'erotic', 2027: 'current', 3955: 'rambo', 4145: 'afford', 1733: 'apparent', 2250: 'believes', 2416: 'believed', 3440: 'winter', 4490: 'elephant', 1303: 'date', 2739: 'decades', 4258: 'matches', 4721: 'matched', 1430: 'million', 4052: 'possibility', 2301: 'vote', 240: '2', 3007: 'rival', 704: 'future', 2012: 'opens', 192: 'take', 1590: 'cliché', 2826: 'expression', 3634: 'twin', 1209: 'anti', 2740: 'breath', 2504: 'combined', 2397: 'influence', 4767: 'damon', 1718: 'pop', 4325: 'riveting', 4889: 'masterpieces', 4806: 'parties', 2643: 'buying', 1040: 'agree', 4053: 'detailed', 824: 'gone', 3252: 'ad', 3794: 'ah', 243: 'am', 1539: 'al', 34: 'an', 16: 'as', 3421: 'dawn', 4913: 'tiger', 4853: 'irrelevant', 4854: 'dressing', 545: 'myself', 4456: 'dinosaur', 4696: 'resources', 306: 'beautiful', 3430: 'stated', 1778: 'accept', 1629: 'states', 4019: 'clint', 2655: 'imagery', 1291: 'loud', 837: 'imagine', 648: 'relationship', 4084: 'focusing', 1859: 'fights', 2804: 'funnier', 1107: 'cover', 3402: \"they'd\", 3719: 'obscure', 269: 'set', 382: 'sex', 66: 'see', 2018: 'sea', 1818: 'drunk', 4085: 'hollow', 4491: 'agents', 3544: 'worthless', 3495: 'fifteen', 2190: 'levels', 1621: 'location', 1483: 'victims', 1681: 'sight', 2061: 'santa', 232: 'anything', 374: 'next', 2919: 'jewish', 2699: 'mature', 155: 'actors', 4722: 'amitabh', 3011: 'sides', 3589: 'walken', 2528: 'walked', 4054: 'walker', 1900: 'results', 2221: 'send', 1411: 'sent', 4055: 'garden', 4525: 'engage', 2405: 'nancy', 2827: 'kiss', 3667: 'installment', 4598: 'mars', 1953: 'jesus', 2055: 'owner', 1349: 'painful', 4586: 'steel', 2644: 'blockbuster', 694: 'clearly', 1969: 'prove', 489: \"you'll\", 439: 'hope', 2579: 'sorts', 4188: 'directs', 4723: 'edition', 1391: 'drug', 1000: 'co', 4424: 'cg', 4526: 'cd', 4020: 'lust', 882: 'romance', 1870: 'ball', 3334: 'colour', 387: 'moments', 3590: 'generous', 928: 'footage', 3354: 'briefly', 2668: 'delivery', 1544: 'delivers', 4118: 'official', 2592: 'variety', 3697: 'francisco', 4768: 'sellers', 2920: 'established', 4855: 'pursuit', 3739: 'smoke', 3698: 'indians', 11: 'it', 4769: 'mayor', 4259: 'backgrounds', 4211: 'forty', 2588: 'forth', 1412: 'festival', 3682: 'jealous', 2878: 'stomach', 641: 'hilarious', 1448: 'bar', 4146: 'notion', 2308: 'facts', 3314: 'charisma', 2165: 'families', 3983: 'coherent', 2516: 'rain', 2677: 'scenario', 2722: 'campy', 2892: 'adding', 4599: 'spread', 4817: 'bakshi', 1933: 'tarzan', 3291: 'sends', 794: 'comments', 2157: 'anime', 3215: 'bettie', 1402: 'minor', 1750: 'pre', 4562: 'cheated', 294: 'together', 2108: 'vampires', 4563: 'global', 1504: 'supposedly', 3253: 'zone', 3173: 'flash', 1263: 'glad', 3610: 'repetitive', 695: 'supporting', 738: 'appears', 3065: 'jay', 3099: 'trial', 4698: 'jaw', 411: 'live', 4326: 'dedicated', 376: 'remember', 1042: 'cold', 3635: 'cole', 3795: 'birds', 2771: 'intellectual', 319: 'half', 2369: 'hall', 2257: 'theaters', 1658: 'ed', 1232: 'ex', 4253: 'et', 616: 'shown', 3056: 'opened', 833: 'space', 286: 'shows', 1166: 'impossible', 2098: 'sheer', 467: 'seemed', 404: 'style', 4856: 'prequel', 1758: 'technical', 1659: 'stephen', 3355: 'countless', 1362: 'finish', 2954: 'tradition', 749: 'theater', 3821: 'choreography', 1228: 'touch', 146: 'real', 331: 'read', 4147: 'recorded', 4527: 'conservative', 897: 'credits', 3057: 'greatly', 3441: 'comics', 3058: 'credibility', 626: 'cinematography', 54: 'very', 2970: 'minded', 2390: 'skin', 4724: 'witnessed', 4683: 'witnesses', 2756: 'answers', 1403: 'ahead', 1630: 'soldier', 4684: 'chicks', 2417: 'fool', 2019: 'foot', 2723: 'desperately', 2505: 'sympathy', 4945: 'wacky', 236: 'since', 275: 'put', 3545: 'jamie', 4593: 'vulnerable', 183: 'pretty', 4119: 'trees', 3636: 'glover', 3796: 'horrid', 511: 'genre', 422: 'liked', 2208: 'described', 4212: 'describes', 333: 'else', 2046: 'anthony', 3521: 'overlooked', 342: 'used', 4425: 'user', 4389: 'march', 1555: 'finding', 752: 'dull', 1682: 'cgi', 520: 'run', 3869: 'narrator', 4725: 'visits', 1885: 'heroine', 2593: 'required', 3442: 'requires', 139: 'go', 4601: 'wizard', 4457: 'rotten', 4163: 'lifestyle', 4213: 'drops', 4602: 'poetry', 2893: 'claire', 4214: 'blake', 2448: 'till', 1021: 'ben', 1444: 'bed', 1909: 'villains', 1824: 'instance', 3614: 'consequences', 1585: 'affair', 2237: 'parker', 552: 'anyway', 58: 'she', 3611: 'accused', 2356: 'horribly', 397: 'written', 526: 'horrible', 1081: 'neither', 3668: 'precious', 1576: 'addition', 1948: 'fate', 1910: 'candy', 3259: 'repeat', 2418: 'inner', 4524: 'affect', 114: 'never', 2265: 'drew', 3439: 'cardboard', 375: 'tell', 2656: 'rights', 201: 'give', 3001: 'stupidity', 3100: 'lucy', 1995: 'luck', 4458: 'taught', 4726: 'mistress', 1341: 'stewart', 4356: 'hook', 3101: 'hood', 3699: 'psychotic', 3014: 'packed', 550: 'matter', 3498: 'brilliance', 569: 'stop', 2891: 'reference', 3612: 'picking', 1481: 'appeared', 3905: 'sunshine', 750: 'near', 3149: 'neat', 8: 'is', 1529: 'ii', 4603: 'im', 10: 'in', 47: 'if', 2406: 'scale', 3467: 'identify', 3523: 'burn', 2966: 'burt', 4428: 'daddy', 3774: 'sticks', 3356: 'fashioned', 1441: 'dies', 1130: 'died', 2236: 'assume', 1770: 'skip', 3591: 'string', 2506: 'accidentally', 2227: 'exploitation', 4997: 'pink', 2709: 'sunday', 2428: 'designed', 492: 'guys', 278: 'maybe', 1753: 'provide', 1035: 'cute', 1901: 'cuts', 2449: 'texas', 454: 'killer', 1300: 'touching', 555: 'killed', 2341: 'amateurish', 1100: 'language', 4178: 'exotic', 4946: 'alfred', 3524: 'gotta', 2391: 'contemporary', 879: 'killing', 1791: 'jr', 4215: 'stinker', 1792: 'according', 1386: 'disappointment', 1732: 'arts', 147: 'those', 654: 'middle', 171: 'same', 4604: 'sandra', 310: 'audience', 3174: 'nose', 4564: 'robbery', 230: 'making', 1819: 'joan', 2741: 'gross', 1911: 'broken', 2335: 'market', 979: 'girlfriend', 1844: 'field', 2191: 'obsessed', 1536: 'students', 2940: 'remote', 1860: 'starting', 4179: 'represent', 3700: 'overdone', 3669: 'titled', 2817: 'titles', 2407: 'lawyer', 1786: 'search', 599: 'none', 1660: 'compare', 540: 'blood', 2010: 'existence', 3403: 'walls', 2967: 'goofy', 3752: 'timothy', 4086: 'explored', 1701: 'commentary', 2266: 'individual', 4327: 'tender', 3236: 'guilt', 468: 'throughout', 986: 'create', 4857: 'creativity', 3956: 'ireland', 390: 'understand', 987: 'bill', 560: 'moment', 1174: 'chemistry', 2228: 'excited', 2293: 'matters', 2684: 'examples', 2921: 'pet', 3112: 'per', 4216: 'doll', 2621: 'grave', 929: 'forward', 4120: 'explaining', 3872: 'fisher', 3012: 'ashamed', 2619: 'effectively', 2687: 'sir', 304: 'instead', 1425: 'emotion', 3592: 'rex', 4477: 'defend', 766: 'red', 638: 'today', 3376: 'secretary', 2941: 'embarrassed', 4461: 'nicholson', 1754: 'absurd', 2851: 'timing', 3797: 'areas', 4180: 'instant', 2580: 'passing', 4148: 'glorious', 461: 'laugh', 3150: 'atmospheric', 1450: 'likable', 2645: 'lifetime', 1974: 'portray', 3844: 'citizen', 494: 'works', 4906: '1984', 4727: '1983', 4291: '1980', 817: 'buy', 2646: 'bus', 20: 'but', 233: 'minutes', 3041: '80', 174: 'every', 889: 'street', 4685: 'streep', 909: 'disney', 3102: 'hundreds', 2523: 'path', 4686: 'visible', 3059: 'philip', 71: 'me', 1562: 'ms', 442: 'mr', 60: 'my', 129: 'end', 2540: 'enter', 1397: 'expectations', 3446: 'chuck', 4390: 'hank', 557: 'god', 187: 'got', 459: 'already', 561: 'took', 1596: 'fashion', 661: 'talking', 4869: 'bacall', 3404: 'stood', 4056: 'prostitute', 4149: 'enterprise', 4728: 'demented', 4057: 'nightmares', 4391: 'improve', 2909: 'protect', 2910: 'lesser', 4528: 'wound', 1314: 'complex', 449: 'several', 1945: 'humanity', 1506: 'actresses', 971: 'apart', 3469: 'gift', 3060: 'cooper', 1902: 'ice', 981: 'christmas', 418: 'head', 3566: 'heat', 841: 'hear', 4865: 'bargain', 3984: 'bullet', 2253: 'asking', 1940: 'sing', 512: 'town', 4021: 'groups', 3443: 'dropped', 148: 'watching', 2465: 'speaks', 3957: 'conversations', 1421: 'opera', 3546: 'realise', 4606: 'pokemon', 3151: 'millions', 3373: 'huh', 1478: 'r', 1191: 'considered', 1354: \"80's\", 822: 'crime', 4642: 'rendition', 995: 'fails', 521: 'late', 1056: 'filmmakers', 982: 'hardly', 2647: 'paying', 4444: 'dolls', 2986: 'seeking', 1179: 'producers', 548: 'except', 4565: 'virginia', 22: 'on', 607: 'ok', 448: 'oh', 6: 'of', 4492: 'oz', 41: 'or', 315: 'everyone', 3480: 'strictly', 3088: 'racism', 2757: 'racist', 325: 'idea', 2419: 'politics', 3740: 'souls', 3985: 'odds', 2080: 'program', 2977: 'presentation', 254: 'woman', 4493: 'grandfather', 966: 'rate', 1591: 'design', 1864: 'guns', 3422: 'andrews', 2210: 'pleasant', 2669: 'thankfully', 2267: 'embarrassing', 4858: 'imitation', 4181: 'desperation', 1962: 'bigger', 4807: 'tomatoes', 719: 'sequence', 2978: 'screenwriter', 2942: 'gruesome', 3114: 'succeed', 4648: 'vaguely', 958: 'result', 2956: 'arrives', 4529: 'arrived', 2357: 'lower', 1813: 'anybody', 1572: 'seemingly', 3110: 'fbi', 2979: 'jumps', 3986: 'mountains', 3444: 'associated', 2404: 'initial', 2778: 'drinking', 3315: 'incoherent', 3741: 'pushing', 4426: 'nervous', 1018: 'villain', 141: 'something', 2350: 'united', 2174: 'luke', 1073: 'tension', 713: 'easily', 4687: 'nostalgia', 4427: 'nostalgic', 4998: 'orange', 4859: 'bumbling', 3321: 'profound', 2829: 'studios', 3987: 'kidding', 2011: 'shallow', 356: 'boring', 3336: 'dorothy', 813: 'filmed', 1053: 'ended', 725: 'whether', 4688: 'arguably', 4466: 'embarrassment', 2630: 'unconvincing', 2701: 'table', 4643: 'hunters', 4217: 'painted', 1678: 'member', 2772: 'beast', 4918: 'introduce', 3091: 'wealthy', 70: 'were', 3357: 'loser', 1977: 'loses', 204: 'own', 3423: 'intention', 1852: 'record', 4644: 'intentionally', 3938: 'foul', 688: 'four', 2911: 'hitchcock', 4292: 'commented', 2294: 'k', 2109: 'types', 4357: 'survivors', 3424: 'easier', 200: 'series', 3468: '1970s', 1058: 'caught', 4808: 'channels', 4729: 'basketball', 1457: 'tired', 2049: 'golden', 2140: 'trek', 1176: 'showed', 2839: 'tree', 332: 'second', 3013: 'shower', 1177: 'recommended', 3593: 'doors', 4566: 'wells', 1249: 'camp', 384: 'came', 703: 'country', 4499: 'edgar', 4260: 'planned', 3503: 'worker', 951: 'worked', 2541: 'gritty', 4730: 'neighbors', 959: 'previous', 1355: 'innocent', 838: 'brought', 4261: 'enemies', 2840: 'raised', 491: 'son', 1424: 'support', 1342: 'constantly', 1003: 'inside', 2222: 'fly', 4121: 'models', 3061: 'glass', 4183: 'settle', 1912: 'sign', 1896: 'understanding', 3670: 'logical', 1213: 'fake', 1611: 'angry', 3798: 'wicked', 1189: 'awesome', 3845: 'stole', 2028: 'revealed', 3368: 'st', 4293: 'sh', 3720: 'drunken', 4645: 'experiments', 3066: 'torn', 892: 'hot', 1264: 'frank', 3499: 'investigation', 910: 'open', 4459: 'fooled', 3742: 'argument', 3613: 'ironically', 4328: 'winters', 855: 'average', 4460: 'laws', 3939: 'merit', 3701: 'psychiatrist', 3216: 'assistant', 2324: 'priest', 3846: 'anyways', 110: 'many', 4392: 'mann', 2912: 'caring', 1845: 'lovers', 1445: 'six', 186: 'around', 2015: 'debut', 3275: 'homeless', 40: 'her', 2251: 'handsome', 1805: 'johnny', 2376: 'mask', 2968: 'mass', 3073: 'sin', 3781: 'returned', 3671: 'documentaries', 1334: 'harry', 4150: 'maggie', 2648: 'pulls', 1085: '6', 2020: 'morgan', 4567: 'waves', 2066: 'sucked', 257: 'found', 2606: 'belief', 1661: 'castle', 481: 'guess', 2918: 'bitter', 742: 'giving', 2698: 'heavily', 4494: 'writes', 563: 'writer', 4022: 'banned', 2542: 'enemy', 4122: 'spirits', 2623: 'demons', 4809: 'hilariously', 4429: 'alert', 2145: 'gonna', 1479: 'kelly', 3409: 'stunt', 3874: 'australia', 2072: 'suffering', 1094: 'd', 1742: 'continue', 1996: 'curious', 1734: 'suit', 55: 'up', 177: 'us', 2758: 'un', 2284: 'uk', 3958: 'thugs', 1511: 'holes', 1475: 'fresh', 259: 'having', 1521: 'race', 3103: 'trite', 4860: 'hyde', 4151: 'consistently', 2957: 'busy', 4999: 'resulting', 3135: 'holmes', 1126: 'exciting', 1806: 'clichés', 3449: 'bush', 2710: 'clichéd', 1915: 'rubbish', 2351: 'fits', 846: 'move', 2217: 'chosen', 2559: 'legendary', 881: 'truth', 765: 'release', 144: 'back', 1413: 'bother', 3337: 'roberts', 3799: 'gentle', 4219: 'linda', 3877: 'lily', 4907: 'mechanical', 3369: 'painting', 720: 'bring', 2067: 'decade', 4220: 'principal', 143: 'should', 629: 'ends', 1079: 'la', 4508: 'li', 2742: 'pitt', 3875: 'matthew', 3162: 'drink', 1702: 'build', 3594: 'pleasantly', 1231: 'likes', 3302: 'checking', 4023: 'blowing', 474: '\\x96', 2530: 'irish', 2181: 'simon', 3115: 'controversial', 3822: 'triumph', 576: 'daughter', 1565: 'negative', 1343: 'award', 1886: 'aware', 1798: 'player', 2703: 'interview', 2582: 'beach', 188: 'horror', 3811: 'fever', 102: 'after', 1897: 'japan', 3567: 'highlights', 3988: 'versus', 4810: 'rocky', 3338: 'rocks', 1074: 'created', 2125: 'creates', 138: 'scenes', 3702: 'astaire', 1612: 'personality', 3800: 'wannabe', 74: 'we', 1302: 'terms', 2781: 'brad', 3963: 'ease', 3339: 'fest', 3968: 'comfortable', 944: 'air', 4087: 'aid', 4861: 'property', 1580: 'inspired', 3153: 'contact', 4882: 'photo', 2088: 'board', 4607: 'progresses', 3638: 'response', 3026: 'remind', 3317: 'beating', 2724: 'bound', 153: 'old', 282: 'true', 4947: 'absent', 2377: 'welcome', 4294: 'loyal', 3429: 'killings', 1509: 'system', 4036: 'producing', 1387: 'loves', 976: 'appear', 1270: 'appeal', 4862: 'muslim', 1131: 'cat', 69: 'can', 3970: 'clothing', 3673: 'lacked', 3703: 'intrigued', 939: 'directing', 592: 'happen', 4975: 'album', 3391: 'surrounding', 4088: 'cary', 1879: 'cars', 4123: 'carl', 3154: 'card', 458: 'care', 697: 'british', 4530: 'stevens', 748: 'message', 2081: 'national', 698: 'television', 1865: 'price', 1436: 'forever', 4393: 'understandable', 4430: 'amanda', 3104: 'physically', 2358: 'asleep', 1820: 'blame', 4908: 'overlook', 4646: 'ruby', 3105: 'thrillers', 4531: 'alcoholic', 2192: 'evening', 3377: 'curtis', 930: 'comment', 4532: 'valuable', 3547: 'ambitious', 2268: 'rules', 2620: 'listening', 4608: '70', 3925: 'wolf', 2182: 'flashbacks', 4820: 'jaws', 3271: 'seagal', 3906: 'sadness', 3940: 'suited', 4058: 'cameron', 2392: 'louis', 1887: 'loose', 3428: 'fired', 4152: 'toys', 4153: 'offended', 478: 'history', 4948: 'sneak', 4709: 'invasion', 714: 'words', 338: 'help', 1427: 'held', 608: 'hell', 4533: 'ya', 873: \"you've\", 2229: 'stopped', 3390: 'surrounded', 1833: 'issue', 281: 'reason', 2134: 'kung', 4089: 'scheme', 2215: 'center', 4154: 'officers', 2573: 'experienced', 4731: 'macy', 2489: 'experiences', 4949: 'popularity', 2483: 'latest', 4580: 'paranoia', 3801: 'alexander', 2503: 'invisible', 3907: 'secrets', 4539: 'charlotte', 583: 'alone', 366: 'along', 167: 'look', 4155: 'danes', 4534: 'reads', 1622: 'ready', 3568: 'savage', 3721: 'minimal', 1490: 'step', 1846: 'plots', 4090: 'shine', 2632: 'hired', 2238: 'classics', 1834: 'nonsense', 2796: 'inept', 3002: 'stops', 2773: 'sounded', 2166: 'psycho', 4732: 'fascinated', 3674: 'suits', 980: 'meant', 2152: 'commercial', 1175: 'win', 2209: 'wit', 1286: 'remains', 816: 'means', 644: 'started', 4469: 'pretending', 283: 'actor', 339: 'completely', 3237: 'protagonists', 140: 'such', 2743: 'bourne', 447: 'based', 1011: 'missing', 2466: 'supernatural', 1363: 'slowly', 3595: 'bucks', 679: 'strange', 72: 'well', 3027: 'tongue', 3847: 'glenn', 2078: 'washington', 536: 'stories', 2126: 'eric', 4771: 'simpson', 624: 'whose', 3525: 'wreck', 1108: 'credit', 1370: 'besides', 2818: 'criminals', 1157: 'adult', 3113: 'pride', 2216: 'president', 2793: 'encounter', 3548: 'meat', 3908: 'bone', 1647: 'bond', 3028: 'navy', 4811: 'crucial', 943: 'features', 2560: 'featured', 3176: 'helen', 3743: 'distance', 2386: 'mini', 1922: 'mine', 4412: 'sounding', 1987: 'regular', 1259: 'explain', 1067: 'decides', 1428: 'fascinating', 871: 'decided', 874: 'subject', 4609: '00', 3744: 'warrior', 428: 'against', 4909: 'loaded', 3909: 'website', 2913: 'mouse', 2507: 'kim', 553: 'kid', 2554: 'directly', 1211: 'aside', 405: 'human', 108: 'character', 1785: 'wanting', 1416: 'feelings', 3461: 'performing', 1743: 'unnecessary', 2252: 'theatrical', 2310: 'protagonist', 4612: 'remarks', 3948: 'giallo', 1254: 'detective', 3116: 'suffered', 4091: \"it'll\", 1607: 'adds', 2429: 'makeup', 4007: 'wealth', 2766: 'dude', 169: 'going', 856: 'reviews', 3775: 'kenneth', 1470: 'confused', 4910: 'map', 202: 'may', 2430: 'max', 131: 'man', 2819: 'johnson', 786: 'tale', 3675: 'tall', 739: 'talk', 4863: 'wishing', 3062: 'pitch', 926: 'writers', 2774: 'settings', 1880: 'jackson', 946: 'mess', 4937: 'keith', 4262: 'advance', 154: 'thing', 4306: 'forms', 103: 'think', 3042: 'cheese', 933: 'sounds', 953: 'cheesy', 3676: 'subplot', 522: 'eyes', 3405: 'eyed', 3015: 'comedian', 2021: 'shop', 323: 'shot', 122: 'show', 3129: 'corner', 753: 'nearly', 3192: 'knife', 3043: 'drives', 2490: 'speech', 4124: 'jeffrey', 3238: 'oil', 2167: 'driven', 2255: 'largely', 2110: 'parody', 277: 'money', 3272: 'jake', 2670: 'grim', 4431: 'facing', 3254: 'strip', 3371: 'strikes', 932: 'deep', 830: 'general', 3960: 'selfish', 4568: 'stilted', 3876: 'resembles', 2658: 'alright', 3735: 'emily', 4250: 'hideous', 4772: '90s', 4329: 'illogical', 3406: 'bible', 743: 'eye', 4432: 'comparing', 4717: \"family's\", 3136: 'ensemble', 394: 'playing', 2711: 'suffer', 2475: '25', 890: '20', 3823: 'complain', 2491: 'print', 1065: 'members', 1321: 'laughable', 223: 'done', 1546: 'park', 3318: 'dentist', 172: 'part', 4911: 'recording', 2158: 'majority', 2894: 'serve', 575: 'extremely', 768: 'storyline', 2456: 'ruin', 4433: 'unhappy', 1140: 'common', 3188: 'dancer', 4812: 'dropping', 991: 'gay', 2550: 'gas', 3287: 'gag', 1760: 'wedding', 2958: 'replaced', 4912: 'craven', 2393: 'semi', 2914: 'mirror', 2004: 'jimmy', 2036: 'lesson', 4059: 'flop', 4092: 'kirk', 355: 'classic', 1525: 'random', 2029: \"director's\", 4950: 'trail', 3447: 'iii', 2649: 'account', 577: 'obvious', 4182: 'mixture', 834: 'lame', 2584: 'forest', 1687: 'willing', 3340: 'spell', 2895: 'ratings', 2311: 'matt', 3885: 'farm', 3677: 'mate', 941: 'ask', 4928: 'ruins', 4733: 'dreary', 1759: 'normally', 3372: 'inspiring', 4864: 'richards', 586: 'including', 3163: 'ralph', 1644: 'deliver', 3401: 'relevant', 4263: 'bull', 4264: 'authority', 2440: 'forgettable', 260: 'although', 778: 'actual', 1125: 'biggest', 3597: '45', 1672: '40', 1762: 'limited', 861: 'poorly', 1393: 'charles', 2725: 'fabulous', 2805: 'julie', 2685: 'julia', 554: 'roles', 1549: 'hospital', 4434: 'preview', 2686: 'jungle', 1443: 'compelling', 2744: 'ghosts', 4351: 'hurts', 1645: 'onto', 4221: 'rank', 2230: 'hearing', 2607: 'urban', 4295: 'saga', 4435: 'report', 4330: 'choreographed', 3407: 'corrupt', 814: 'weak', 2636: 'wear', 1683: 'trust', 2144: 'hitler', 3644: 'horrors', 1030: 'social', 3802: 'thick', 2342: 'teenager', 3255: 'appearing', 1908: 'officer', 2099: 'jennifer', 4331: 'disappeared', 934: 'plus', 3848: 'existed', 4611: 'questionable', 1151: 'focus', 831: 'leads', 2775: 'environment', 3106: 'cook', 116: 'little', 645: 'cool', 1284: 'humour', 4951: 'inducing', 2608: 'russell', 2609: 'lonely', 402: 'name', 2969: 'obsession', 1547: 'childhood', 3239: 'terrifying', 1787: 'cops', 471: 'unfortunately', 3745: 'outcome', 3448: 'medium', 850: 'rent', 1007: 'ideas', 4222: 'ideal', 4569: 'blunt', 4237: 'urge', 2595: 'reveal', 1169: 'college', 3776: 'definite', 4125: 'duty', 4359: 'pot', 3292: '60', 4689: 'careful', 4866: '50s', 3569: 'persona', 4773: 'persons', 1071: 'cartoon', 523: 'actress', 2806: 'halfway', 2312: 'rose', 1097: 'kills', 4223: 'kennedy', 3746: 'reduced', 3747: 'loosely', 758: 'stand', 1913: 'ladies', 1997: 'gary', 2922: 'amongst', 26: 'his', 31: 'all', 372: 'awful', 3177: 'sentimental', 4265: 'crush', 690: 'basically', 1963: 'v', 2286: 'hearted', 4060: 'influenced', 2618: 'court', 3358: 'goal', 3319: 'essence', 530: 'parts', 1861: 'friendship', 674: 'rating', 534: 'expect', 3549: 'wondered', 4774: 'feed', 234: 'feel', 2193: 'feet', 2375: 'steals', 3262: 'destruction', 1454: 'hotel', 3598: 'outrageous', 4734: 'suspicious', 3526: 'nights', 2500: 'notch', 3678: 'timeless', 1941: 'numerous', 4266: 'outfit', 3824: 'annie', 3849: 'cheek', 3305: 'complaint', 3139: 'lincoln', 4829: 'warmth', 4914: 'roth', 3722: 'temple', 806: 'dialog', 3029: 'wanna', 2467: 'highlight', 711: 'problems', 2759: 'helping', 1320: 'narrative', 4674: 'hopper', 4470: 'reaching', 1600: \"man's\", 3637: 'slightest', 869: 'sit', 2531: 'frightening', 2830: 'freeman', 1871: 'river', 4867: 'creator', 2650: 'angle', 3879: 'currently', 3570: 'frustrated', 1512: 'wall', 1134: 'walk', 843: 'sequences', 2135: 'crappy', 3359: 'gothic', 213: 'gets', 4126: 'whale', 4047: 'ingredients', 1563: 'attractive', 4535: 'scottish', 4360: 'possibilities', 2517: 'universe', 1881: 'realism', 1170: 'van', 2378: 'cinderella', 92: 'made', 1115: 'ultimately', 3961: 'margaret', 3170: 'sandler', 4536: 'elegant', 631: 'hero', 2421: 'reporter', 132: 'here', 3941: 'holy', 2943: 'hole', 1069: 'hold', 693: 'knows', 88: 'how', 4496: 'hop', 935: 'beauty', 4156: 'backdrop', 3293: 'sutherland', 3256: 'worlds', 2030: 'corny', 3257: 'object', 2441: 'touches', 2841: 'touched', 4224: 'hammer', 1703: 'accident', 1835: 'met', 1802: 'asked', 1250: 'aspect', 3347: 'pro', 3959: 'modesty', 769: 'surprised', 255: 'played', 182: 'things', 100: 'any', 3189: 'tune', 3425: 'enters', 3962: 'dialogues', 4267: 'emphasis', 775: 'easy', 2923: 'east', 4195: 'paulie', 3470: 'bobby', 1517: 'creative', 3004: 'stylish', 1603: 'o', 1075: 'slightly', 514: 'soon', 1274: 'knowing', 1463: 'offer', 1955: 'talents', 1872: 'floor', 2659: 'rolling', 57: 'time', 1988: 'reviewers', 4127: 'funeral', 1281: 'nowhere', 107: 'films', 2776: 'suck', 2831: 'truck', 3826: 'improved', 3374: 'sexually', 2062: 'formula', 3426: 'spending', 2671: 'reveals', 646: 'ridiculous', 1431: 'boyfriend', 853: 'note', 4225: 'montage', 2871: 'weapons', 549: 'slow', 1673: 'tears', 1739: 'artist', 2476: 'roger', 120: 'where', 2111: 'gangster', 2631: 'jobs', 4061: 'spare', 2073: 'boat', 3217: 'stretch', 4715: 'likewise', 3850: 'broadcast', 1398: 'color', 3481: 'vague', 3748: 'scientific', 670: 'power', 4690: 'intimate', 513: 'favorite', 1186: 'project', 600: 'complete', 3777: 'darker', 2457: 'accents', 2370: 'walks', 1132: 'consider', 1825: 'smile', 744: 'richard', 4268: 'method', 2532: \"would've\", 2726: 'dress', 2168: 'attitude', 65: 'really', 3218: \"woman's\", 2269: 'unrealistic', 1613: 'artistic', 2450: 'wayne', 4332: 'unsettling', 2256: 'choose', 2112: 'devil', 3910: 'receive', 573: 'involved', 3178: 'mst3k', 1292: 'beautifully', 2359: 'virtually', 3911: 'popcorn', 651: 'opinion', 2458: 'surprises', 190: \"can't\", 3450: 'projects', 2807: \"ain't\", 1243: 'garbage', 2150: 'marie', 790: 'elements', 2787: 'prefer', 595: 'ago', 4024: 'fighter', 558: 'age', 2917: 'carrying', 1788: 'torture', 1998: 'continues', 1388: 'animals', 3500: 'continued', 2274: 'marry', 2056: 'visuals', 1031: 'odd', 1394: 'indian', 4497: 'delivering', 86: 'great', 2745: 'titanic', 4107: 'defeat', 985: 'potential', 13: 'this', 1522: 'thin', 1367: 'christopher', 1324: 'producer', 1373: 'train', 1054: 'produced', 1934: 'cage', 4735: 'accompanied', 4157: 'beneath', 398: 'doing', 2924: 'shut', 628: 'scary', 2336: 'scare', 4296: 'ties', 528: 'viewer', 2394: 'viewed', 2700: 'device', 4953: 'wounded', 840: 'atmosphere', 3089: \"90's\", 4093: 'bedroom', 2022: 'h', 524: 'etc', 2302: 'strongly', 4269: 'terrorist', 724: 'upon', 2664: 'idiot', 722: 'paul', 1226: 'literally', 23: 'not', 1456: 'puts', 3341: 'catherine', 1120: 'basic', 4062: 'unwatchable', 2672: 'rule', 3219: 'saves', 1893: 'saved', 1518: 'relationships', 793: 'follow', 578: 'told', 3599: 'kudos', 3501: 'struck', 2880: 'term', 4361: 'wore', 156: 'work', 4736: 'worn', 2688: 'indie', 2852: 'india', 4362: 'disappoint', 3190: 'meaningful', 660: 'order', 1051: 'office', 891: 'meets', 1477: 'bruce', 3964: 'cameras', 4770: 'rats', 699: 'comic', 3383: 'tea', 2037: 'genuine', 311: 'high', 1684: 'deeply', 2113: 'steal', 421: 'yes', 1989: 'received', 1814: 'ill', 4875: 'royal', 4578: 'scarecrow', 3827: 'concerning', 1723: 'independent', 3851: 'photographer', 3550: 'photographed', 350: 'dead', 1720: 'dying', 634: 'reality', 836: 'dance', 2572: 'terror', 2114: 'brown', 1112: 'trouble', 2597: 'regret', 2993: 'fortunately', 2928: 'southern', 2041: 'lucky', 800: 'typical', 1201: 'honest', 4691: 'online', 1623: 'professional', 4462: 'namely', 341: '3', 1494: 'notice', 425: \"couldn't\", 106: 'two', 4270: 'senseless', 3880: 'symbolism', 4274: 'benefit', 4955: 'willis', 969: 'business', 128: 'your', 24: 'you', 1429: 'building', 4614: 'centers', 1947: 'pretentious', 2600: 'darkness', 1437: 'emotions', 3335: 'teach', 1507: 'flaws', 4298: 'awe', 2673: 'stayed', 804: 'tried', 5: 'a', 2533: 'committed', 164: 'actually', 1903: 'bland', 723: 'beyond', 2689: 'lights', 393: 'terrible', 1904: 'terribly', 1016: 'expecting', 3551: 'sacrifice', 1048: 'missed', 4647: 'alongside', 2865: 'lie', 3989: 'lit', 3505: 'useless', 787: 'clear', 2169: 'clean', 4245: 'circle', 1965: 'international', 198: 'both', 2727: 'sensitive', 2853: 'headed', 1338: 'outstanding', 3640: 'territory', 413: 'dialogue', 136: 'while', 4436: 'bonus', 1282: 'added', 1888: 'eating', 3117: 'reed', 4776: 'reel', 2200: 'practically', 126: 'does', 4576: 'nicholas', 4463: 'shake', 1117: 'singing', 2195: 'vehicle', 460: 'becomes', 527: \"won't\", 1045: 'mentioned', 4158: 'masters', 4159: 'measure', 2690: 'mere', 3320: 'bears', 476: 'final', 617: 'exactly', 3749: 'goldberg', 501: 'able', 4299: 'earned', 2285: 'winner', 443: 'overall', 2728: 'mgm', 3030: 'contain', 2239: 'pity', 1109: 'state', 603: 'group', 610: 'career', 2637: 'minds', 1310: 'journey', 1693: 'treat', 4498: 'fonda', 1694: 'began', 961: 'effect', 3778: 'laurel', 1006: 'reasons', 3881: 'ought', 1592: 'martin', 687: 'due', 2746: 'cruel', 771: 'using', 4128: 'secondly', 1704: 'captain', 2422: 'presents', 59: 'even', 712: \"aren't\", 3858: 'landscape', 4868: 'calm', 918: 'laughs', 3615: 'curiosity', 2492: 'lesbian', 4437: 'purchase', 4464: 'waited', 4185: 'unfolds', 3180: 'aired', 1586: 'turning', 516: 'starts', 2508: 'twisted', 4538: 'chest', 4438: 'chess', 3220: 'colorful', 2915: 'bat', 4777: 'bay', 3118: 'bag', 77: 'bad', 3828: 'brazil', 4649: 'inappropriate', 288: 'three', 3912: 'threw', 1407: 'suppose', 2971: 'balance', 2712: 'mexico', 4615: 'potentially', 2431: 'qualities', 2451: 'claims', 4129: 'sentence', 3641: 'spooky', 238: 'performance', 1164: 'super', 3537: 'commit', 2788: 'amazingly', 3990: 'offering', 3860: 'builds', 2716: 'understood', 3942: 'staged', 4692: 'floating', 2674: 'handed', 1531: 'jones', 1325: 'themes', 1719: 'suicide', 3119: 'technique', 416: 'finally', 121: 'did', 782: 'die', 3301: 'dig', 3693: 'exaggerated', 857: 'wait', 1609: 'rented', 1461: 'everybody', 3471: 'acceptable', 1356: 'soul', 3853: 'arrive', 2159: 'anne', 1417: 'critics', 1293: 'thank', 4737: 'mail', 292: 'main', 2691: 'views', 249: 'girl', 580: 'living', 2063: 'miles', 2295: 'correct', 3490: 'lab', 1105: \"we're\", 4063: 'undoubtedly', 2337: 'voices', 4363: 'voiced', 1307: 'channel', 1405: 'track', 3063: 'tracy', 1766: 'surprising', 4094: 'satisfied', 378: 'stupid', 1033: 'remake', 4957: 'stretched', 1731: 'unusual', 950: 'mark', 1082: 'mary', 1709: 'warning', 3829: 'movements', 274: 'different', 2493: 'harsh', 1041: 'doctor', 3074: 'tour', 2518: 'struggling', 4616: 'bottle', 792: 'among', 4540: 'climactic', 2777: 'critical', 4979: 'phony', 566: 'violence', 2477: 'suffers', 475: 'children', 4226: \"hollywood's\", 1488: 'putting', 2424: 'movement', 3642: 'diamond', 2764: 'sleeping', 3751: 'bleak', 293: 'someone', 1751: 'mental', 312: 'house', 3806: 'connect', 115: 'acting', 4541: 'tiresome', 1149: 'rated', 3803: 'contrary', 1898: 'treated', 2170: 'built', 571: 'particularly', 477: 'fine', 590: 'please', 1155: 'solid', 2760: 'ludicrous', 1159: 'follows', 2031: 'remembered', 2534: 'aliens', 3204: 'hoped', 1914: 'hopes', 525: 'directed', 4570: 'lena', 2432: 'liners', 2529: 'columbo', 2091: 'desert', 3527: '2002', 3830: '2003', 3075: '2000', 3044: '2001', 2944: '2006', 4130: '2007', 3831: '2004', 3348: '2005', 32: 'at', 1654: 'jason', 3609: 'fatal', 1464: 'shock', 3804: 'joey', 4617: 'chicago', 647: 'body', 1571: 'extreme', 4870: 'gabriel', 2173: 'native', 4333: 'waters', 1593: 'collection', 410: 'lines', 2296: 'chief', 2409: 'cutting', 2501: 'uninteresting', 3351: '60s', 1225: 'south', 893: 'unless', 1558: 'beat', 2122: 'bear', 2980: 'exists', 3723: 'progress', 4650: 'copies', 2444: 'angles', 4887: 'homer', 1266: 'appearance', 2867: 'novels', 196: 'thought', 4815: 'domestic', 3943: 'journalist', 1238: 'alive', 2832: 'convey', 1127: 'speak', 3360: 'noise', 2925: 'guard', 3195: 'plague', 3294: 'glory', 3273: 'pie', 4271: 'pig', 4794: 'pit', 2959: 'risk', 2199: 'rise', 4394: \"characters'\", 4364: 'kicked', 1322: 'mistake', 4465: 'wished', 2960: 'enjoying', 4618: 'guarantee', 4775: 'descent', 2141: 'executed', 119: 'over', 2729: 'destroyed', 4619: 'couples', 4131: 'classes', 1970: 'perspective', 2177: 'ran', 2820: 'raw', 4095: 'rat', 3643: 'rap', 2374: 'relatively', 1808: 'academy', 2372: 'creatures', 2638: 'metal', 3191: 'idiotic', 3913: 'craft', 104: 'characters', 4871: 'mentioning', 3991: \"mother's\", 2596: 'donald', 2047: 'efforts', 1368: 'presence', 2547: 'anderson', 4365: 'abysmal', 3854: 'differences', 1696: 'uncle', 4025: 'removed', 2057: 'versions', 3587: 'characterization', 3992: 'trio', 866: 'believable', 807: 'check', 4480: 'constructed', 1755: 'tim', 4227: 'tie', 1206: 'longer', 3600: 'planning', 1604: 'quick', 1406: 'stands', 1927: 'months', 1092: 'water', 2360: 'baseball', 1756: 'memory', 2434: 'australian', 4899: 'minimum', 3375: 'birthday', 1423: 'mainly', 239: \"he's\", 2707: \"he'd\", 4366: 'hamilton', 3282: 'factory', 4189: 'fetched', 741: 'george', 3160: 'plastic', 810: 'season', 2136: 'wood', 3005: 'stanley', 770: 'ways', 732: 'review', 920: 'emotional', 1161: 'bizarre', 1577: 'reminded', 3571: 'drivel', 2116: 'sudden', 515: 'kill', 2478: 'blow', 4467: \"everyone's\", 3705: 'blob', 1160: 'respect', 4779: 'losers', 1476: 'followed', 4633: 'scores', 2927: 'sleazy', 4693: 'rubber', 1156: 'trash', 3137: 'separate', 3950: 'fay', 612: 'song', 229: 'far', 336: 'fan', 3601: 'ticket', 4010: 'devoted', 4738: 'challenging', 1964: 'ann', 4537: 'vegas', 91: \"don't\", 1655: 'scientist', 3724: 'fancy', 2509: 'brave', 4096: 'passes', 3031: 'albeit', 2551: 'occasional', 1404: 'double', 4300: 'buff', 2100: 'reach', 4026: 'react', 3602: 'achievement', 3725: 'captivating', 4958: 'fulci', 2730: 'hip', 568: 'hit', 1662: 'intelligence', 3882: 'bare', 2270: 'learns', 997: 'various', 1163: 'law', 2720: 'initially', 876: 'became', 936: 'whom', 2731: 'complicated', 3064: '1950s', 4780: 'widely', 1288: 'edge', 2753: 'ignore', 3679: 'hatred', 3726: 'repeatedly', 4542: 'z', 2639: 'worthwhile', 2032: 'deals', 3342: 'dealt', 4781: 'rabbit', 371: 'women', 1519: 'rape', 1049: 'pure', 3017: 'wwii', 2379: 'covered', 4543: 'conflicts', 2598: 'conversation', 4959: 'unaware', 4161: 'doomed', 1944: 'whenever', 2048: 'sean', 2854: 'purely', 662: 'ones', 2442: 'welles', 896: 'superb', 2371: 'spoil', 2836: 'choices', 79: 'will', 1357: 'wild', 2651: 'happiness', 3164: 'searching', 3805: 'empire', 484: 'lead', 2747: 'murderer', 2023: 'murdered', 4367: 'buffs', 4186: 'goodness', 4468: 'boot', 273: 'book', 4571: 'boom', 4694: 'june', 2833: 'originality', 2748: 'stereotypical', 2713: 'china', 4621: 'catchy', 227: 'music', 1616: 'therefore', 2330: 'circumstances', 2468: 'service', 2519: 'dozen', 4228: 'disjointed', 2038: 'scream', 4301: 'rick', 1025: 'rich', 1975: 'blonde', 3258: 'split', 999: 'portrayed', 2761: 'beloved', 2693: 'shadow', 2675: 'alice', 894: 'begin', 3528: 'beings', 3965: 'tame', 426: 'absolutely', 216: 'role', 1685: 'roll', 3779: 'intent', 1098: 'choice', 2676: 'stays', 3603: 'accomplished', 779: 'working', 1821: 'originally', 4229: '3rd', 1905: 'pulled', 152: 'years', 4917: 'troubles', 3205: 'troubled', 3076: 'internet', 1906: 'saving', 4695: 'illness', 4273: 'simplistic', 2855: \"could've\", 1771: 'vision', 3914: 'enjoys', 2127: 'awards', 589: 's', 1812: 'constant', 493: 'wants', 903: 'situation', 4960: 'dimension', 181: 'world', 3090: 'mindless', 1597: 'pull', 3408: 'rush', 3994: 'pulp', 2171: 'gratuitous', 919: 'sci', 795: 're', 391: 'small', 500: 'past', 1344: 'pass', 367: 'full', 1311: 'door', 4739: 'doom', 1435: 'intended', 4961: 'dolph', 4782: 'smiling', 4160: 'endings', 4963: 'testament', 4652: 'brutally', 531: 'self', 81: 'also', 517: 'sometimes', 235: 'last', 2024: 'connection', 916: 'acted', 675: 'talent', 3617: 'admire', 2652: 'von', 401: 'early', 2897: 'honor', 4187: 'wives', 4873: 'methods', 1815: 'deserved', 1014: 'deserves', 4395: 'considerable', 2834: 'chan', 2945: 'lane', 1540: 'land', 2762: 'flashback', 3079: 'lessons', 1583: 'thats', 4544: 'babe', 895: 'baby', 1772: 'process', 4964: 'educational', 1705: 'realized', 2361: 'robot', 2502: 'realizes', 403: 'perfect', 922: 'realize', 2660: 'matrix', 1608: 'area', 1614: 'length', 135: 'scene', 4697: 'khan', 2665: 'rings', 4162: 'mysteries', 3502: 'insulting', 2042: 'identity', 3883: 'audio', 3884: 'web', 3727: 'wes', 4439: 'wet', 2640: 'emma', 663: 'documentary', 1369: 'places', 2610: 'placed', 1078: 'compared', 2494: 'deadly', 4440: 'lately', 2694: 'sarah', 113: 'plot', 1143: 'appreciate', 4098: 'coffee', 2276: 'safe', 1826: 'heaven', 2013: 'l', 307: 'john', 1052: 'wasted', 2320: 'germany', 3166: 'scripts', 4605: 'germans', 2074: 'lewis', 2842: \"children's\", 3361: 'techniques', 244: 'away', 2981: 'attacked', 1165: 'amount', 3260: 'hang', 507: 'hand', 620: 'musical', 1446: 'born', 2695: 'bore', 1498: 'confusing', 4275: 'adorable', 3296: 'matthau', 3120: 'wasting', 4334: 'guessed', 902: \"let's\", 2321: 'cost', 1668: 'wonderfully', 160: \"didn't\", 3915: 'occur', 2219: 'product', 2241: 'produce', 4818: 'serving', 700: 'non', 149: 'now', 884: 'nor', 4819: 'wrap', 496: 'tries', 2033: 'blind', 1745: 'ring', 2601: 'remotely', 2524: 'appreciated', 4919: 'equipment', 3529: 'ego', 937: 'america', 2014: 'mrs', 1956: 'discovered', 3077: 'suspects', 3274: 'competent', 4923: 'empathy', 4653: 'taxi', 4231: 'amy', 3916: 'twelve', 3092: 'innocence', 379: 'start', 380: 'stars', 4741: 'manipulative', 3504: 'instantly', 3240: 'month', 4241: 'cliff', 2050: 'learned', 4133: 'tracks', 4027: 'conventional', 3410: 'revelation', 562: 'leave', 4368: 'safety', 692: '7', 4164: 'houses', 4302: 'loads', 1816: 'horse', 1708: 'station', 3138: 'hundred', 3261: 'boredom', 2082: 'grew', 3179: 'grey', 4500: 'cave', 3852: 'translation', 1350: 'justice', 763: 'feels', 1180: 'culture', 490: 'close', 3451: 'bride', 1267: 'pictures', 1550: 'forgotten', 4064: 'celluloid', 1451: 'lived', 455: 'lives', 1773: 'intriguing', 1061: 'pace', 3618: 'guide', 3156: 'pack', 2982: 'blair', 1781: '000', 1062: 'popular', 4654: 'amounts', 3753: 'manhattan', 570: 'happens', 962: 'e', 2586: 'everywhere', 2183: 'underrated', 2574: 'friendly', 2868: 'wave', 487: 'michael', 2380: 'ryan', 3944: 'pretend', 3530: 'kidnapped', 1923: 'gene', 4821: 'historically', 1219: 'charming', 1667: 'allowed', 2395: 'fare', 1724: 'introduced', 2297: 'costume', 4028: 'kapoor', 721: 'entertainment', 1202: 'cause', 975: 'powerful', 334: \"you're\", 4783: 'relatives', 37: 'so', 4545: 'vengeance', 3728: 'tunes', 4369: 'widow', 1589: 'faces', 1725: 'nightmare', 2352: 'tend', 1935: 'hits', 3411: 'smoking', 1072: 'party', 4920: 'ashley', 1936: 'loss', 1669: 'necessary', 415: 'lost', 4623: 'gangsters', 1584: 'lose', 3322: 'library', 343: 'home', 4921: 'wendy', 2452: 'previously', 2396: 'north', 2443: 'display', 2459: 'universal', 322: 'star', 788: 'stay', 3343: 'stan', 2068: 'buddy', 1328: 'likely', 4471: \"someone's\", 4029: 'intrigue', 776: 'fantastic', 4822: '3d', 2006: 'survive', 1329: 'climax', 479: 'amazing', 1937: \"today's\", 158: 'before', 2611: 'downright', 3552: 'arrested', 4232: 'immensely', 4233: 'ginger', 715: 'tells', 3344: 'fitting', 3221: 'annoyed', 4874: 'earl', 4655: 'stooges', 4370: 'ears', 4501: 'artificial', 2898: 'wears', 3241: 'cousin', 3531: 'presumably', 2856: 'basis', 2408: 'tiny', 601: 'interest', 2749: 'deeper', 1541: 'seven', 4297: 'disappear', 2083: '80s', 245: 'yet', 606: 'save', 1144: 'zombies', 819: 'somehow', 3714: 'elderly', 3412: 'magazine', 1548: 'flying', 4441: 'horrifying', 1277: 'drive', 4397: 'holly', 2479: 'weekend', 2240: '0', 2763: 'slapstick', 2160: 'round', 2075: 'unexpected', 1950: 'dealing', 1060: 'filled', 1532: 'merely', 2118: 'sake', 1979: 'visit', 3917: 'block', 3729: 'shoes', 220: 'interesting', 2869: 'elizabeth', 4922: 'pamela', 4398: 'diana', 2843: 'rachel', 1746: 'returns', 2779: 'nazi', 1528: 'funniest', 4778: 'assault', 3780: \"1950's\", 1971: 'morning', 4502: 'grinch', 3393: 'branagh', 194: 'enough', 267: 'screen', 4234: 'judging', 684: 'disappointed', 904: 'dramatic', 480: 'sound', 4235: 'companion', 1217: 'images', 1545: 'imagination', 173: 'again', 3045: 'expressions', 1265: 'sitting', 3645: '20th', 4624: 'misery', 1395: 'numbers', 4742: 'robinson', 581: 'coming', 142: 'through', 4620: 'messed', 453: 'beginning', 3754: 'idiots', 2622: 'express', 4700: 'witches', 2808: 'expert', 3755: 'restaurant', 942: 'development', 2789: 'task', 2994: 'shape', 604: 'cut', 3646: 'cup', 2381: 'danger', 2435: 'source', 2153: 'decision', 1710: 'epic', 1224: 'planet', 3995: 'ellen', 440: 'entertaining', 1882: 'memories', 1364: 'ride', 4572: 'access', 3945: 'composed', 3006: 'che', 4876: 'butler', 1653: 'stone', 1822: 'explanation', 3680: 'throat', 3276: 'concerns', 3730: 'grandmother', 4236: 'communist', 3032: 'intensity', 2946: 'attempting', 189: 'however', 3093: 'tense', 1942: 'partner', 2480: 'sisters', 2184: 'nevertheless', 4743: 'classical', 4877: 'justin', 667: 'female', 754: 'sequel', 3996: 'dawson', 1688: 'whatsoever', 395: 'school', 1335: 'blue', 2420: 'hide', 61: 'would', 3482: 'spike', 3619: 'splendid', 2363: 'rental', 2364: 'alex', 2323: 'saturday', 4878: 'psychic', 2983: 'laid', 2303: 'heck', 4100: 'primary', 938: 'fantasy', 4248: 'relations', 3918: \"girl's\", 2510: 'colors', 2715: 'spite', 465: 'despite', 1192: 'disturbing', 2146: 'discovers', 3807: 'discovery', 1635: 'news', 2790: 'mildly', 3706: \"50's\", 3141: 'sings', 4030: 'possessed', 1559: 'jean', 2732: 'burns', 3067: 'dinner', 4547: 'bath', 4405: 'akshay', 2373: 'amateur', 53: 'when', 955: 'setting', 4503: 'sappy', 1158: 'impressive', 650: 'level', 1552: 'standards', 1508: 'porn', 3756: 'scripted', 2835: 'entertain', 3033: 'attacks', 3856: 'critic', 4101: 'succeeded', 4276: 'eighties', 4575: 'catching', 2382: 'europe', 747: 'animation', 251: 'sure', 302: 'later', 3394: 'importance', 3483: 'contract', 1889: 'featuring', 3277: 'andrew', 1102: 'spirit', 1810: 'pilot', 2481: 'granted', 1268: 'week', 166: 'director', 4065: 'relies', 208: 'without', 2142: 'relief', 1624: 'lets', 3532: 'competition', 1309: 'mood', 1883: 'moon', 2117: 'stereotypes', 3554: 'burton', 49: 'there', 4399: 'grasp', 1295: 'taste', 1027: 'spoilers', 321: 'wife', 2097: 'rob', 1028: 'list', 2750: 'lisa', 309: 'version', 1484: 'christian', 1520: 'tragedy', 1034: 'flat', 3278: 'flaw', 2857: 'hoffman', 246: 'rather', 863: 'okay', 1523: 'lighting', 2242: 'hunter', 2858: 'bollywood', 3323: 'weight', 2552: 'friday', 3704: 'jet', 2870: 'introduction', 2916: 'fallen', 3018: 'interviews', 3427: 'scooby', 3395: 'rochester', 2039: 'traditional', 4031: 'cringe', 4823: 'defense', 2702: 'skill', 1046: 'sweet', 2058: 'village', 4658: 'demand', 2733: 'demon', 4956: 'unseen', 3396: 'admittedly', 864: 'zombie', 2201: 'range', 887: 'question', 4335: 'lemmon', 2469: 'peace', 3506: 'breasts', 3316: 'dragged', 1365: 'gang', 4238: 'winds', 2935: 'cases', 2482: 'mainstream', 1389: \"you'd\", 1187: 'makers', 3833: 'folk', 4701: 'showcase', 2460: 'degree', 3222: 'larger', 4190: 'ape', 1095: 'clever', 3046: 'struggles', 4966: 'attend', 262: 'our', 45: 'out', 151: \"doesn't\", 4967: 'clip', 3808: 'unbearable', 4745: 'agreed', 1091: 'fear', 4442: 'agrees', 718: 'local', 3297: 'massacre', 2076: 'favor', 2624: 'crude', 1246: 'bought', 1255: 'ability', 635: 'opening', 1345: 'thus', 381: 'perhaps', 877: 'difficult', 3857: 'slave', 3707: 'conceived', 4968: 'contest', 4784: 'excessive', 2751: 'facial', 3533: 'press', 3574: 'wonders', 3378: 'jeremy', 2338: 'promise', 4472: 'transfer', 4509: 'cake', 1047: 'incredible', 4165: 'portion', 965: 'incredibly', 4504: 'prize', 729: 'straight', 4277: 'ruthless', 473: \"i'd\", 1247: 'military', 145: \"i'm\", 4191: 'cheating', 4625: 'blade', 470: 'turn', 1133: 'effective', 1598: 'hidden', 3575: 'listed', 1631: 'listen', 726: 'predictable', 2561: 'victoria', 3298: 'letter', 2304: 'nominated', 4278: 'godzilla', 125: 'ever', 4279: 'blew', 1689: 'disaster', 1256: 'fair', 1853: 'fail', 1017: 'fairly', 4703: 'opinions', 613: 'possible', 868: 'possibly', 954: 'unique', 3182: 'steps', 17: 'for', 1674: 'fox', 2511: 'dollars', 3672: 'spring', 2084: 'proved', 1533: 'proves', 4659: 'crocodile', 3324: 'tear', 767: 'team', 3620: 'prevent', 2780: 'reminiscent', 118: 'love', 1774: 'bloody', 2995: 'marvelous', 1122: 'positive', 1534: 'wondering', 1113: 'visual', 4336: 'involve', 1233: 'values', 1465: 'spot', 1990: 'kong', 3223: 'attraction', 3299: 'elsewhere', 1285: 'walking', 3731: 'cia', 2520: 'teens', 3946: 'cagney', 3034: 'vacation', 3206: 'thousand', 2172: 'harris', 2791: 'pacino', 1793: 'pacing', 1290: 'thinks', 434: 'went', 3047: 'flawed', 1458: 'image', 2535: 'technically', 506: \"they're\", 4102: 'politically', 457: 'direction', 203: 'original', 1499: 'content', 736: 'enjoyable', 3732: 'nurse', 2287: 'contrast', 633: 'hours', 1260: 'pick', 205: 'action', 1894: 'keeping', 1066: 'science', 1617: 'information', 1663: 'creature', 4280: 'countryside', 2661: 'mexican', 209: 'always', 3834: 'eve', 3757: 'misses', 1991: 'w', 611: 'number', 1827: 'heads', 3555: 'threatening', 4746: 'appreciation', 1697: 'grace', 2929: 'determined', 296: 'play', 1346: 'plan', 2349: 'bodies', 1487: 'impact', 1195: 'failed', 3279: 'closely', 225: 'whole', 3345: 'hitting', 967: 'fire', 802: \"what's\", 162: 'funny', 1135: 'recent', 29: 'be', 3280: 'bo', 9: 'br', 33: 'by', 4166: 'primarily', 4281: 'specifically', 4303: 'link', 346: 'line', 4785: 'defined', 4924: 'phantom', 3947: 'robots', 2154: 'code', 3121: 'dislike', 4840: 'louise', 3997: 'bird', 1637: 'led', 847: 'lee', 386: 'let', 2089: 'standing', 3859: 'occurred', 3621: 'reynolds', 1740: 'allow', 4626: 'designs', 1692: 'ship', 1916: 'delightful', 1347: 'surely', 627: 'david', 1711: 'davis', 2653: 'blown', 3681: 'blows', 3809: 'tortured', 1426: 'element', 3413: 'lloyd', 3782: 'superhero', 2625: 'figured', 2587: 'figures', 2881: 'crafted', 1237: 'surprisingly', 4704: 'dust', 3035: 'thief', 2792: 'disbelief', 797: 'avoid', 4925: 'betty', 867: 'stage', 798: 'sister', 4304: 'angeles', 1957: 'naturally', 4627: 'construction', 1581: 'count', 3556: 'smooth', 2536: 'recognize', 207: 'right', 4032: 'eyre', 3967: 'rural', 751: 'above', 1495: 'murders', 2077: 'study', 2543: 'aka', 4879: 'chooses', 2277: 'dubbed', 1980: 'ordinary', 3887: 'greek', 1418: 'green', 2947: 'westerns', 1197: 'somewhere', 94: 'then', 97: 'them', 3888: 'affected', 35: 'they', 3325: 'crimes', 4401: 'solely', 1376: 'manner', 2123: 'strength', 3152: 'shorts', 2752: 'renting', 1301: 'subtle', 4066: 'resemblance', 42: 'just', 80: 'do', 851: 'de', 883: 'dr', 4134: 'props', 1001: 'cop', 2365: 'com', 2696: 'con', 2298: 'haunting', 4969: 'petty', 4192: 'dozens', 1336: 'nobody', 1515: 'jerry', 444: 'evil', 4826: '1973', 3: 'the', 3183: 'hills', 2512: 'security', 2662: 'productions', 3835: 'purple', 4103: 'pays', 547: 'fight', 63: 'only', 2313: 'evidence', 1747: 'physical', 927: 'interested', 1656: 'p', 2633: 'revolution', 4786: 'satisfy', 1358: 'noir', 389: 'episode', 4167: 'satan', 1712: 'rarely', 2544: 'spy', 4371: 'nomination', 3758: 'explicit', 848: 'indeed', 4282: 'wont', 1096: 'entirely', 4193: 'rebel', 3454: 'inevitable', 3346: 'striking', 4402: \"'em\", 3586: 'size', 463: 'friend', 668: 'mostly', 345: 'short', 2343: 'angel', 4970: '13th', 2562: 'anger', 2495: 'veteran', 657: 'husband', 4403: 'concern', 1019: 'talented', 265: 'comes', 3379: 'covers', 4239: 'developing', 1775: 'media', 2984: 'mentally', 1227: 'generally', 2124: 'speed', 2602: 'execution', 760: 'lady', 1811: 'eddie', 268: 'trying', 3484: 'hire', 1633: 'describe', 1101: 'moves', 564: 'strong', 3281: 'ultra', 1524: 'helps', 2137: 'site', 3094: 'broke', 1917: 'vs', 3019: 'nine', 4473: 'sits', 1878: 'fu', 3708: 'fx', 923: 'fi', 3095: 'bugs', 1471: 'trailer', 3709: 'neil', 2809: 'base', 3647: 'dire', 495: 'behind', 3184: 'performers', 3193: 'quote', 4705: 'eaten', 3861: 'drawing', 3889: 'blend', 1374: 'central', 2085: 'meanwhile', 803: 'famous', 314: 'during', 1317: 'wow', 2064: 'keaton', 3534: 'partly', 1626: 'anymore', 4880: 'belong', 2612: 'wilson', 4337: 'transformation', 2985: 'bbc', 2907: 'provoking', 4206: 'donna', 4706: 'civilization', 1803: 'faith', 318: 'seeing', 308: 'himself', 1472: 'adults', 1136: 'depth', 2845: 'experiment', 2678: 'focuses', 2461: 'focused', 2194: 'halloween', 4843: 'nyc', 4548: 'secretly', 4372: 'trashy', 400: 'keep', 764: 'herself', 3759: 'providing', 3622: 'border', 3890: 'q', 4748: 'montana', 3919: 'proceedings', 4628: 'ethan', 1553: 'flicks', 691: 'attention', 3414: 'kicks', 666: 'novel', 4926: 'resident', 3508: 'jesse', 1862: 'accurate', 4033: 'liking', 2949: 'sinister', 3891: 'recognized', 1924: 'noticed', 3820: 'ho', 2679: 'ha', 1008: 'twist', 3920: 'dynamic', 2231: 'rescue', 4787: 'solution', 4067: 'neo', 2930: 'ned', 161: 'new', 3810: 'screams', 385: 'recommend', 551: 'type', 4996: 'sixties', 1599: 'industry', 865: 'surprise', 1059: 'revenge', 3455: 'messages', 538: 'girls', 3122: 'medical', 756: 'points', 224: \"there's\", 4940: 'opportunities', 1400: 'exception', 2859: 'chilling', 4660: 'depicts', 4577: 'yelling', 3445: \"world's\", 811: 'form', 1500: 'mediocre', 3535: 'digital', 420: 'felt', 1582: 'fell', 3020: 'laura', 3733: 'marks', 4135: 'travels', 4827: 'priceless', 2069: 'genuinely', 2258: 'sympathetic', 4749: 'troops', 4443: 'thru', 4750: 'capturing', 1789: 'growing', 931: 'crazy', 2553: 'sword', 2305: 'grow', 2828: 'jail', 3380: 'pointed', 968: 'monster', 1670: 'carry', 3572: 'conspiracy', 1459: 'pain', 1538: 'paid', 2161: 'pair', 2812: \"father's\", 327: 'black', 2734: 'summary', 4373: 'honesty', 885: 'reading', 1966: 'dated', 3507: 'barry', 2563: 'offered', 4828: 'sincere', 483: 'totally', 2663: 'amazed', 469: '4', 1573: 'seconds', 1110: 'island', 285: \"wasn't\", 3363: 'videos', 3456: 'brando', 2325: 'talks', 4069: 'falk', 808: 'fall', 1535: 'alien', 818: 'material', 4971: 'christy', 4549: 'airport', 4474: 'armed', 4881: 'der', 4475: 'del', 4661: 'purchased', 2290: 'par', 1741: 'pleasure', 1234: 'pathetic', 2899: 'sitcom', 1783: 'twenty', 2564: 'paint', 502: 'b', 3648: 'spirited', 4662: 'acid', 3096: 'happily', 2059: 'albert', 2680: 'significant', 2101: 'thomas', 3397: 'carefully', 3157: 'courage', 3140: \"60's\", 1002: 'secret', 4965: 'survivor', 3123: 'sexuality', 252: 'fun', 1199: 'leaving', 4744: 'olivier', 1141: 'spend', 1799: 'hated', 4751: 'alternate', 4168: 'hates', 38: 'from', 1099: 'bored', 3576: 'appalling', 4034: 'implausible', 2877: 'notable', 772: 'named', 1432: 'names', 532: 'themselves', 1680: 'moved', 4927: 'unreal', 2821: 'praise', 3921: 'daring', 4507: 'buildings', 4035: 'philosophy', 2626: 'bothered', 761: 'bunch', 3457: 'le', 1675: 'criminal', 1884: 'finest', 3605: 'monkey', 2206: 'gory', 2102: 'unable', 3557: 'aforementioned', 3181: 'holiday', 1106: 'value', 4972: 'respected', 3194: 'weapon', 3683: 'creators', 643: 'usual', 3381: 'slight', 3225: 'miscast', 1566: 'wise', 656: 'wish', 3472: 'resolution', 3370: 'baker', 783: 'hate', 357: 'enjoy', 3536: 'shining', 3606: 'beaten', 1181: 'studio', 1257: 'shoot', 2882: 'join', 2175: 'entertained', 3242: 'neighborhood', 1009: 'western', 4404: 'treats', 2972: 'flow', 3124: 'countries', 1452: 'twice', 664: 'shots', 4973: 'resist', 2950: 'confusion', 1409: 'boss', 76: 'been', 832: 'greatest', 4550: 'campbell', 4752: 'bands', 1251: 'honestly', 3382: 'specific', 4830: 'paltrow', 1089: 'escape', 2025: 'core', 56: 'no', 3836: 'commercials', 4240: 'trailers', 4904: 'brenda', 1422: 'filming', 3078: 'advantage', 3783: 'sloppy', 3263: 'thirty', 915: 'weird', 3283: '1st', 4707: 'shelley', 2128: 'laughter', 4283: 'performer', 2565: 'performed', 3922: 'swedish', 4194: 'cuba', 2309: 'eight', 1296: 'unbelievable', 3812: 'unbelievably', 4831: 'gerard', 4104: 'apes', 2704: 'caine', 3623: 'attracted', 2603: 'theory', 716: 'miss', 4915: 'awfully', 15: 'was', 4: 'and', 733: 'falls', 2794: 'regarding', 3326: 'arnold', 686: 'events', 4952: 'moronic', 4169: 'devoid', 2545: 'changing', 3649: 'melodramatic', 2185: 'model', 4595: \"1970's\", 4551: 'kingdom', 3998: 'buddies', 2425: 'provided', 4788: 'legal', 1567: 'provides', 541: 'decent', 780: 'effort', 4883: 'polanski', 3577: 'doc', 1847: 'taylor', 1686: 'includes', 1925: 'included', 432: 'worse', 248: 'worst', 746: 'ten', 2900: 'ted', 4613: 'airplane', 2243: 'breaking', 4552: 'september', 1972: 'mission', 237: 'might', 4105: 'stiller', 3364: 'health', 1375: 'thrown', 4974: \"year's\", 2883: 'throws', 3684: 'blank', 3175: 'curse', 3243: 'vincent', 4305: 'corruption', 1032: 'recently', 4136: 'flies', 3208: 'develops', 3892: 'duo', 4476: 'dub', 3244: 'pg', 2211: 'aged', 4037: 'abilities', 1606: 'arthur', 3750: 'gradually', 4832: 'tends', 701: 'fast', 4884: 'mundane', 1229: 'steve', 1340: 'issues', 518: 'car', 168: 'find', 3969: 'nazis', 4629: 'desired', 1278: 'sexy', 3415: 'karloff', 1083: 'spent', 360: 'use', 2996: 'usa', 170: 'few', 2398: 'depicted', 4170: 'impress', 2988: 'topic', 556: 'heard', 271: 'looks', 4929: 'performs', 4789: 'molly', 4374: 'stereotype', 3873: 'swear', 4833: \"god's\", 4834: 'patients', 3999: 'combat', 2433: 'refreshing', 609: 'looked', 3837: 'futuristic', 1664: 'cross', 4445: 'cinematographer', 996: 'fighting', 3784: 'cried', 870: \"who's\", 2987: 'raise', 2179: 'meeting', 84: 'other', 3158: 'irony', 4885: 'specially', 1214: 'cult', 3760: 'elaborate', 2810: 'criticism', 3458: 'strike', 409: 'itself', 462: 'example', 791: 'feature', 731: 'sets', 2614: 'fictional', 4954: 'receives', 1594: 'afraid', 4000: 'dracula', 4791: 'overacting', 4196: 'enormous', 1138: 'amusing', 707: 'thriller', 2053: 'window', 2090: 'logic', 3923: 'argue', 3978: 'bin', 1873: 'european', 3650: 'lucas', 1761: 'desire', 4835: 'creep', 2327: 'losing', 905: 'memorable', 1999: 'magnificent', 3578: \"'s\", 597: \"film's\", 4070: 'uneven', 3579: 'spiritual', 1351: 'costumes', 3264: 'redemption', 529: 'brilliant', 4663: 'myers', 4396: 'scope', 4446: 'ignorant', 1248: 'natural', 2951: 'nation', 4753: 'twilight', 4546: 'square', 542: 'city', 3924: 'bite', 1800: 'bits', 1178: 'slasher', 4338: 'depressed', 3553: 'buried', 1601: 'allen', 1926: 'bright', 3785: 'worried', 2973: 'clips', 359: 'rest', 1408: 'aspects', 464: 'dark', 3327: 'dare', 1145: 'portrayal', 2705: 'tight', 4708: 'incomprehensible', 3972: 'terry', 1866: 'adam', 247: 'tv', 7: 'to', 1876: 'cable', 4656: 'joined', 1057: 'large', 2872: 'trick', 1794: 'legend', 4657: 'pearl', 1489: 'gorgeous', 1485: 'fellow', 3899: 'abc', 2901: 'authentic', 2575: 'subtitles', 3142: 'noble', 4375: 'severe', 1817: 'gold', 2366: 'factor', 1414: 'cry', 1938: 'monsters', 1438: 'available', 3862: 'incident', 4938: 'sink', 2043: 'dimensional', 1415: 'church', 2092: 'spectacular', 414: 'person', 4510: 'eager', 2717: 'format', 4106: 'dating', 4071: 'unintentional', 3761: 'poster', 3303: 'widmark', 4307: 'menace', 184: 'young', 1235: 'magic', 352: 'try', 4038: 'seventies', 4976: 'expressed', 2844: 'punch', 3459: 'poverty', 1401: 'throw', 2931: 'challenge', 4836: 'counter', 3863: 'warren', 3068: 'bette', 2052: 'stock', 3558: 'superbly', 2278: 'depressing', 3453: 'korean', 2051: 'segment', 392: 'face', 191: 'fact', 602: 'score', 2884: 'handle', 2767: 'cell', 2147: 'emotionally', 2119: 'flesh', 4339: 'rooms', 1371: 'government', 3651: 'flynn', 2521: 'convince', 1212: 'ghost', 4340: 'lasted', 544: 'highly', 963: 'total', 2902: 'foster', 3685: 'farce', 907: 'earlier', 4814: 'waitress', 1142: 'band', 4039: 'bang', 1981: 'bank', 3304: 'hooked', 1272: 'standard', 3226: 'chases', 1568: 'latter', 1236: 'involving', 509: 'enjoyed', 2148: 'painfully', 3926: 'adequate', 1605: 'nasty', 3604: 'miserably', 4308: 'miserable', 3125: 'perform', 3245: 'belongs', 1207: 'post', 2948: 'escapes', 2885: 'strangely', 83: 'people', 95: 'way', 324: 'war', 1574: 'becoming', 622: 'taken', 4930: 'promises', 2566: 'moore', 1005: 'nudity', 4406: 'promised', 1093: 'brothers', 1784: 'paced', 4837: 'dalton', 433: 'certainly', 1352: 'presented', 632: 'usually', 2176: 'graphic', 482: 'heart', 3485: '1980s', 3686: 'spielberg', 4341: 'displayed', 1516: 'worthy', 266: 'looking', 1578: 'tragic', 653: 'happy', 3687: 'slap', 2860: 'michelle', 4132: 'sidekick', 3474: 'typically', 1123: 'german', 370: 'truly', 565: 'cannot', 4108: 'sport', 199: 'between', 4931: 'monk', 133: 'these', 3486: 'thrills', 4511: 'closest', 2634: 'favorites', 4630: 'miracle', 4792: 'equivalent', 4001: 'lol', 3652: 'los', 363: 'low', 175: 'lot', 3762: 'lou', 4579: 'beliefs', 4754: 'ridden', 3813: '1930s', 4793: 'iran', 4932: 'iraq', 222: 'family', 303: 'takes', 1396: 'mysterious', 1337: 'excuse', 4309: 'claimed', 4447: 'species', 924: 'dream', 1767: 'douglas', 388: 'wonderful', 3487: 'selling', 4838: 'kay', 4977: 'randy', 4109: 'catches', 1542: 'damn', 1943: 'conflict', 921: 'older', 4342: 'weakest', 3711: 'remaining', 1891: 'lacking', 499: 'game', 745: 'within', 2886: 'properly', 1867: 'kate', 4040: 'murderous', 2196: 'barbara', 4407: 'colonel', 594: 'crap', 3488: 'hudson', 4408: 'jonathan', 4171: 'outer', 2850: \"people's\", 956: 'hands', 949: 'perfectly', 2997: 'intentions', 801: 'editing', 2202: 'endless', 3839: 'gray', 4002: 'grab', 973: 'admit', 4978: 'quit', 4172: 'generic', 2861: 'underground', 4072: 'eccentric', 3328: 'appearances', 3021: 'frequently', 3307: 'endearing', 4073: 'mistaken', 2496: 'mistakes', 1807: 'jeff', 4376: 'formulaic', 1240: 'immediately', 4111: 'clown', 1510: 'page', 825: 'peter', 3048: 'poignant', 2203: 'freedom', 1304: 'equally', 4888: 'ear', 1899: 'eat', 4710: \"lee's\", 368: 'friends', 2259: 'extras', 3886: 'contained', 4310: 'vast', 2244: 'dry', 4512: 'suitable', 734: 'oscar', 1649: 'wars', 3080: 'warn', 2271: 'warm', 3688: 'ward', 3209: 'unforgettable', 3949: 'aging', 4409: 'faults', 588: 'attempt', 2484: 'weeks', 498: 'side', 3246: 'stealing', 2952: 'tales', 1650: 'struggle', 362: 'hollywood', 1976: \"here's\", 1084: 'sees', 681: 'modern', 4448: 'seed', 109: 'seen', 305: 'seem', 2735: 'seek', 1560: 'don', 3712: 'doo', 1982: 'm', 911: 'dog', 1587: 'folks', 2873: 'lazy', 1275: 'personally', 96: 'make', 2410: 'unfortunate', 3036: 'delight', 1305: 'dreams', 4177: 'eastwood', 1167: 'mad', 4839: 'whats', 2103: 'failure', 2462: 'propaganda', 2339: 'naive', 2131: 'delivered', 2697: 'teeth', 1318: 'managed', 3037: 'manager', 1029: 'manages', 2423: 'section', 2615: 'melodrama', 3306: 'neck', 3475: 'canada', 4173: 'dutch', 3227: 'brooks', 258: 'anyone', 3624: 'butt', 1501: '11', 2000: '13', 1118: '15', 2436: '14', 2765: '17', 3247: '16', 3069: '18', 2795: 'larry', 2955: 'interpretation', 1836: 'dick', 4631: 'carradine', 4483: 'motivations', 3329: 'solve', 2445: 'pile', 2464: 'serves', 344: 'either', 3008: 'served', 1848: 'mixed', 21: 'film', 2232: 'fill', 2331: 'tedious', 3893: 'genres', 673: 'important', 1377: 'chris', 4077: 'forbidden', 2862: 'dollar', 3581: 'returning', 1473: 'difference', 3658: 'ritter', 1070: 'public', 878: 'free', 2353: 'jackie', 4343: 'leonard', 2093: 'awkward', 2016: 'advice', 4755: 'responsibility', 197: \"that's\", 2288: 'sequels', 1713: 'humans', 4344: 'philosophical', 3107: 'fish', 253: 'hard', 4478: 'hart', 3786: 'childish', 4242: 'lawrence', 221: 'least', 423: 'supposed', 1636: 'picked', 4003: 'orders', 2204: 'costs', 90: 'most', 708: '8', 3070: 'cynical', 3081: 'lion', 3864: 'burned', 4795: 'masterful', 605: 'simple', 330: 'simply', 1537: 'ray', 4074: 'distracting', 3185: 'letting', 4041: 'deliberately', 1983: 'humorous', 1646: 'martial', 3126: 'patient', 2155: 'steven', 1012: 'boys', 4664: 'exploration', 685: 'single', 4345: 'racial', 2847: 'prepared', 4479: '35', 2974: 'existent', 3196: 'sons', 4198: 'hints', 1208: 'f', 3559: 'boxing', 510: 'act', 3330: 'trade', 3973: 'thrill', 4980: 'unoriginal', 2874: 'jessica', 4346: 'interaction', 2212: 'ancient', 1492: 'mix', 3509: 'sally', 4004: 'staff', 4553: 'inferior', 655: 'taking', 1890: 'prince', 2453: 'faced', 1768: 'finished', 3284: 'multi', 219: 'almost', 3736: 'soviet', 762: 'add', 1121: 'italian', 2260: 'proper', 4243: 'stellar', 43: 'about', 4244: 'topless', 4756: 'proceeds', 4581: 'christians', 466: 'under', 717: 'jack', 4711: 'monkeys', 4449: 'consistent', 2225: '70s', 4981: 'punishment', 912: 'badly', 3582: 'jumping', 2094: 'ultimate', 3224: 'condition', 3787: 'shadows', 2887: 'toy', 98: 'too', 261: 'especially', 587: 'murder', 4554: '1968', 3171: 'snow', 957: 'plenty', 2576: 'reputation', 1877: 'radio', 1482: 'approach', 1627: 'games', 945: 'quickly', 872: 'expected', 1671: 'drugs', 1466: 'suggest', 451: 'mother', 3365: 'thumbs', 3689: 'carol', 2666: 'cultural', 1918: 'judge', 1569: '50', 4939: 'gifted', 2975: 'successfully', 284: 'everything', 4757: 'chapter', 2537: 'cowboy', 3476: 'guest', 3285: 'civil', 3228: 'virgin', 3366: 'attempted', 2261: 'ruined', 3143: 'shines', 615: 'annoying', 2736: 'faithful', 3144: 'whereas', 1419: 'brief', 4311: 'coach', 2522: 'guilty', 2254: 'sports', 280: 'sense', 299: '1', 3825: 'broad', 574: 'happened', 1615: \"shouldn't\", 272: 'place', 347: 'given', 3466: 'ian', 1610: 'alan', 625: 'released', 3894: 'population', 1679: 'desperate', 3690: 'subsequent', 1004: 'outside', 3510: 'afterwards', 4410: 'helicopter', 1188: 'trip', 2546: 'magical', 1728: 'actions', 185: 'seems', 3210: 'accepted', 1064: \"'the\", 2903: 'regard', 1618: 'chinese', 3814: 'disc', 3489: 'homage', 4982: 'activities', 50: 'what', 572: 'known', 2525: 'atrocious', 2567: 'explains', 1838: 'capture', 1390: 'developed', 682: 'call', 4712: 'resort', 559: 'says', 1366: 'contains', 163: 'nothing', 3927: 'investigate', 3300: 'achieved', 1348: 'marriage', 4555: 'latin', 1854: 'creating', 3134: 'franchise', 4112: 'roman', 2007: 'context', 992: 'political', 1331: 'disappointing', 4665: 'advise', 4713: 'literature', 3009: 'workers', 4377: 'moody', 2962: 'essential', 4714: 'junior', 4513: 'raising', 3840: 'freak', 2998: 'buck', 4890: 'generated', 4582: 'vice', 279: 'once', 2065: \"one's\", 2837: 'spoof', 4138: 'smaller', 4285: 'traveling', 4796: 'capital', 4933: 'hippie', 1763: 'anywhere', 1619: 'brian', 2568: 'abuse', 640: 'light', 3710: 'aimed', 1513: 'billy', 2471: 'related', 67: 'their', 4199: 'shelf', 898: 'imdb', 3097: 'catholic', 62: 'which', 706: 'class', 3431: 'chances', 3653: 'piano', 2926: 'midnight', 4411: 'inventive', 1951: 'mike', 983: 'present', 2627: 'abandoned', 1024: 'unlike', 1220: 'audiences', 1474: 'student', 4825: 'greed', 4632: 'firstly', 3895: 'carrie', 1258: 'smith', 1829: 'community', 1764: 'scared', 2628: 'scares', 1907: 'below', 4758: 'jenny', 3896: 'ranks', 4797: 'richardson', 4110: 'mickey', 1556: 'absolute', 1564: 'ground', 1986: 'psychological', 365: 'until', 960: 'brings', 3815: '99', 1551: '90', 4246: 'surviving', 901: 'shame', 4378: 'similarly', 3432: 'shall', 759: 'mention', 4984: 'rolled', 3974: '2nd', 1244: '100', 4985: 'eastern', 3897: 'demands', 1699: \"70's\", 1171: 'prison', 1919: 'witty', 4841: 'peoples', 2314: 'joseph', 1015: 'jane', 3654: 'push', 1453: 'falling', 1714: 'loving', 4379: 'stress', 264: 'course', 4798: 'compelled', 178: 'quite', 2332: 'training', 4174: 'punk', 1874: 'spanish', 829: 't', 1700: 'williams', 2613: 'san', 1283: 'sam', 618: 'sad', 134: 'say', 218: 'saw', 1828: 'sat', 2329: 'destroy', 696: 'knew', 2485: 'prime', 4790: 'arrival', 4583: 'jumped', 4802: 'cities', 1298: 'twists', 2538: 'blah', 2245: 'fame', 1505: 'summer', 3127: 'stranger', 3607: 'neighbor', 383: 'mean', 4824: 'hello', 3248: 'nelson', 3265: 'hunting', 3655: 'revealing', 1769: 'brutal', 2863: 'via', 1967: 'kick', 1628: 'teen', 4099: 'furthermore', 4481: 'mall', 4556: 'plant', 2463: 'plans', 815: 'soundtrack', 1706: 'plane', 2138: 'broadway', 93: 'its', 1830: 'england', 2657: 'driver', 677: 'major', 4200: 'brooklyn', 19: 'movie', 3966: 'leg', 4891: 'leo', 1200: 'barely', 2001: \"we've\", 3816: 'load', 329: 'mind', 2162: 'robin', 1312: 'chase', 828: 'viewing', 2864: 'picks', 2577: 'crying', 2681: 'quest', 2989: 'oddly', 2205: 'religion', 2315: 'appropriate', 1946: 'concerned', 2040: \"they've\", 1384: 'scenery', 2289: 'involves', 4666: 'illegal', 2822: 'depiction', 4667: 'balls', 4934: 'purposes', 4514: 'destroying', 4668: \"king's\", 3145: 'tied', 1625: 'animal', 925: 'society', 287: 'dvd', 2275: 'appealing', 3367: 'scientists', 3416: 'stronger', 2682: 'rough', 1080: 'familiar', 436: 'waste', 4716: 'homosexual', 2875: 'graphics', 4573: 'raymond', 328: 'less', 4515: 'combine', 676: 'five', 3207: 'hiding', 4669: 'gundam', 3229: 'spots', 4184: 'frustration', 579: 'chance', 2866: 'inspiration', 2497: 'edward', 582: 'lack', 3898: \"we'll\", 2383: 'insult', 4670: \"disney's\", 4584: 'lay', 4272: 'uwe', 852: 'eventually', 988: 'break', 2629: 'network', 1433: 'opportunity', 2400: 'target', 4585: 'iron', 1721: 'powers', 917: 'forced', 1928: 'forces', 2823: 'screening', 740: 'rock', 3580: 'pushed', 3625: 'clues', 1210: 'tough', 2319: 'lousy', 4413: 'quotes', 1439: 'victim', 3763: 'dignity', 1843: 'soap', 4042: 'gandhi', 485: 'humor', 4935: 'marketing', 4759: 'prisoners', 2811: 'quirky', 4587: 'lowest', 1575: 'winning', 2411: 'holding', 1077: 'convincing', 1230: 'stick', 3022: 'upper', 1973: 'discover', 4936: 'angela', 3049: 'angels', 1332: 'club', 2306: 'clue', 4895: 'cliche', 900: 'write', 1736: 'heroes', 4113: 'discuss', 591: 'james', 3560: 'kane', 4247: 'avoided', 623: 'yourself', 73: 'than', 3788: 'craig', 1306: 'terrific', 424: 'title', 4005: 'nearby', 2798: 'learning', 2401: 'oliver', 2262: 'cares', 3691: 'cared', 4813: 'unit', 3249: 'worry', 4482: 'poetic', 3128: 'enjoyment', 3975: 'dancers', 535: 'thinking', 4892: 'improvement', 1752: 'watchable', 3165: 'oscars', 4986: '1933', 2095: 'comparison', 3865: 'involvement', 2888: 'nowadays', 4006: 'cats', 14: 'that', 3764: 'carpenter', 2149: 'dreadful', 636: \"i'll\", 1992: 'edited', 3460: 'forgive', 4842: 'exceptionally', 947: 'creepy', 1954: 'private', 4414: 'trained', 2263: 'contrived', 4286: 'todd', 1493: 'event', 4197: 'revolutionary', 3639: 'beer', 2115: 'passed', 4400: 'command', 353: 'performances', 3230: 'basement', 1744: 'x', 2824: 'throwing', 4799: 'plausible', 241: 'probably', 4800: 'stale', 1648: 'clothes', 844: 'whatever', 2344: 'walter', 4284: 'hbo', 1124: 'animated', 3286: 'dramas', 1326: \"movie's\", 48: 'some', 2513: 'draw', 1023: 'william', 2388: 'drag', 2437: 'structure', 3462: 'stiff', 4671: 'gender', 4557: 'button', 3513: 'carter', 298: 'plays', 1172: \"weren't\", 1139: 'control', 3789: 'cruise', 89: 'him', 1010: 'front', 2548: 'princess', 4201: 'florida', 488: 'quality', 358: 'need', 3167: 'connected', 3071: 'upset', 1383: 'impression', 1339: 'soldiers', 1221: 'computer', 4893: 'poem', 1147: 'c', 3928: 'harder', 812: 'certain', 4987: 'instinct', 2718: 'artists', 4558: 'museum', 4702: 'signed', 417: 'piece', 2402: 'offensive', 1434: 'serial', 3308: 'segments', 2585: 'stolen', 1958: 'skills', 1146: 'force', 859: 'japanese', 2002: 'behavior', 1514: 'moral', 1271: 'army', 2799: 'arms', 1526: 'answer', 4559: 'maintain', 127: 'better', 3082: 'overcome', 4516: 'beatty', 1241: 'grade', 642: 'somewhat', 1360: 'spoiler', 709: 'silly', 3656: 'spoiled', 406: 'definitely', 4175: 'lyrics', 276: 'ending', 1026: 'attempts', 1657: 'wearing', 157: '10', 1690: '12', 4673: 'survived', 300: 'said', 2070: 'grown', 3417: 'grows', 2333: 'thoughts', 316: 'left', 977: 'background', 2838: 'notorious', 4249: 'bold', 3491: 'boll', 1837: 'lies', 3463: 'attached', 2932: 'daily', 3418: 'mild', 3692: 'mile', 3492: 'mafia', 2316: 'disgusting', 4008: 'unpleasant', 2246: 'anna', 784: 'french', 2279: 'canadian', 2876: 'breathtaking', 4506: 'useful', 4747: 'franco', 2322: 'france', 2307: 'claim', 1543: 'agent', 4009: 'staying', 4415: 'switch', 2044: 'african', 3583: 'elvira', 2641: 'california', 1530: 'americans', 3050: 'personalities', 3596: 'relative', 3765: 'norman', 1715: 'theatre', 1279: 'normal', 1327: 'pieces', 2178: 'killers', 1993: 'gags', 4068: 'parent', 2933: 'obnoxious', 2904: 'everyday', 3331: 'pat', 989: 'pay', 4844: 'pal', 4380: 'pan', 619: 'running', 4075: 'careers', 1632: 'mom', 3023: 'mob', 1103: 'laughing', 2086: 'overly', 3734: 'notably', 3951: 'sadistic', 1319: 'road', 3790: 'hysterical', 598: 'gore', 3109: 'dubbing', 858: 'forget', 4416: 'celebrity', 1036: 'further', 3349: 'tribute', 4988: 'distinct', 842: 'particular', 3309: 'shark', 1496: 'share', 2454: 'sharp', 3657: 'uninspired', 4347: 'arrogant', 51: 'good', 2754: 'pregnant', 4312: 'divorce', 2589: 'statement', 1839: 'gotten', 1939: 'youth', 2087: 'ages', 2526: 'mountain', 1104: 'dancing', 4495: 'relation', 1462: 'giant', 2133: 'bet', 2813: 'leslie', 2354: 'trilogy', 3168: 'italy', 3929: 'ruth', 4076: 'yesterday', 1984: 'werewolf', 3197: 'entry', 4801: 'scrooge', 3930: 'ridiculously', 193: 'big', 226: 'bit', 399: 'often', 3146: 'ourselves', 452: 'drama', 4450: 'downhill', 1639: 'favourite', 3147: 'uncomfortable', 3493: 'depression', 408: 'others', 2226: 'irritating', 1245: 'dad', 2129: 'dan', 250: 'day', 2814: 'warned', 2071: 'references', 2990: 'warner', 1037: 'sadly', 4381: 'chased', 446: 'loved', 1460: 'lover', 3494: 'sophisticated', 3003: 'text', 3159: 'exceptional', 1380: 'photography', 730: 'romantic', 2782: 'calling', 2498: 'routine', 899: 'otherwise', 3538: 'tremendous', 1043: 'plain', 3584: 'cox', 1677: 'helped', 2991: 'inspector', 4287: 'practice', 2719: 'position', 3514: 'executive', 2143: 'lake', 4675: 'niro', 1795: 'soft', 3585: 'corpse', 3626: 'trap', 3231: 'host', 3155: 'hint', 3250: 'burning', 3433: 'brand', 1790: 'reminds', 1823: 'dangerous', 1467: 'j', 2455: 'deaths', 1204: 'shooting', 2426: 'surreal', 2384: 'category', 1665: 'sleep', 1449: 'paris', 2889: 'christ', 4845: 'seeks', 543: 'voice', 1193: 'changed', 1442: 'changes', 214: 'must', 1468: 'henry', 1737: 'danny', 486: 'writing', 4288: 'diane', 1952: 'driving', 1801: 'fred', 4011: 'centered', 827: 'kept', 880: 'screenplay', 4505: '1972', 4382: 'isolated', 1497: 'laughed', 3051: 'rogers', 1651: 'queen', 4760: 'pops', 702: 'earth', 1849: 'players', 3310: 'sullivan', 4114: 'karen', 2848: 'comical', 1276: 'catch', 1440: 'charlie', 3384: 'hearts', 972: 'casting', 4676: 'advanced', 1154: 'younger', 621: 'serious', 1738: 'remarkable', 4137: 'remarkably', 596: 'brother', 914: 'male', 4139: 'wallace', 820: 'realistic', 1269: 'motion', 649: 'view', 4115: 'clumsy', 427: 'white', 1875: 'wide', 2583: 'multiple', 1297: 'naked', 4517: 'pants', 3713: 'ignored', 3332: '24', 3016: 'thrilling', 215: 'come', 2096: 'reaction', 2233: 'howard', 4251: 'voight', 2345: 'captures', 1114: 'violent', 2003: 'captured', 3866: 'styles', 4622: 'slick', 1707: 'energy', 3511: 'chaplin', 3479: 'toilet', 437: 'cinema', 3512: 'britain', 2616: 'spends', 456: '5', 4989: 'championship', 2017: 'calls', 2079: 'allows', 1086: 'suddenly', 4677: 'simplicity', 4588: 'reflect', 993: 'return', 1382: 'hoping', 2963: 'needless', 2247: 'generation', 1022: 'success', 3841: 'threat', 2197: 'relate', 228: 'script', 2346: 'convinced', 3108: 'alike', 1294: 'silent', 2186: 'seasons', 4218: 'fond', 263: 'believe', 4349: 'rocket', 2472: 'cartoons', 497: 'art', 994: 'dumb', 25: 'are', 4518: 'cleverly', 3937: 'explosion', 3130: 'arm', 781: 'york', 658: 'finds', 652: 'change', 1676: 'rip', 3766: 'rid', 4672: 'lengthy', 727: 'moving', 4761: 'analysis', 3900: 'prom', 1595: 'intense', 3083: 'credible', 87: 'because', 445: 'called', 2218: 'lynch', 3084: 'wishes', 3627: 'notes', 2120: 'leader', 3211: 'noted', 1063: 'waiting', 3867: 'bathroom', 3169: 'proof', 3931: 'tap', 4417: 'tad', 4348: 'tag', 4078: 'panic', 2486: 'crash', 1190: 'accent', 472: 'wanted', 4043: 'tommy', 4484: 'inane', 450: 'fans', 3085: 'thousands', 2187: 'asian', 2438: 'closer', 4252: 'closet', 1261: 'genius', 4589: 'closed', 3976: 'brosnan', 4886: 'mighty', 1748: 'sky', 1194: 'sick', 123: 'know', 4202: 'dances', 2683: 'starred', 2581: 'junk', 396: 'getting', 206: \"i've\", 4044: 'meaningless', 0: '<PAD>', 1: '{START}', 2: '<UNK>'}\n"
          ]
        }
      ]
    },
    {
      "cell_type": "markdown",
      "source": [
        "##文章を表示する関数を定義する"
      ],
      "metadata": {
        "id": "bsf8cyfWSSSN"
      }
    },
    {
      "cell_type": "code",
      "source": [
        "def print_sentence(sentence):\n",
        "  for index in sentence:\n",
        "    print(index_word[index], end = \" \")\n",
        "  #ループ終わり\n",
        "  print()\n",
        "#関数定義終わり"
      ],
      "metadata": {
        "id": "rTtVxyL_SApE"
      },
      "execution_count": 10,
      "outputs": []
    },
    {
      "cell_type": "markdown",
      "source": [
        "##定義した関数print_sentenceで学習用データの1行目を表示してみる"
      ],
      "metadata": {
        "id": "GwRhdqU_Trv9"
      }
    },
    {
      "cell_type": "code",
      "source": [
        "print_sentence( x_train[0] )"
      ],
      "metadata": {
        "colab": {
          "base_uri": "https://localhost:8080/"
        },
        "id": "a6y4RSTmTKIu",
        "outputId": "486a18e8-8654-4ad9-d8e4-cebbad8cb49d"
      },
      "execution_count": 11,
      "outputs": [
        {
          "output_type": "stream",
          "name": "stdout",
          "text": [
            "{START} this film was just brilliant casting location scenery story direction everyone's really suited the part they played and you could just imagine being there robert <UNK> is an amazing actor and now the same being director <UNK> father came from the same scottish island as myself so i loved the fact there was a real connection with this film the witty remarks throughout the film were great it was just brilliant so much that i bought the film as soon as it was released for <UNK> and would recommend it to everyone to watch and the fly <UNK> was amazing really cried at the end it was so sad and you know what they say if you cry at a film it must have been good and this definitely was also <UNK> to the two little <UNK> that played the <UNK> of norman and paul they were just brilliant children are often left out of the <UNK> list i think because the stars that play them all grown up are such a big <UNK> for the whole film but these children are amazing and should be <UNK> for what they have done don't you think the whole story was so lovely because it was true and was someone's life after all that was <UNK> with us all \n"
          ]
        }
      ]
    },
    {
      "cell_type": "markdown",
      "source": [
        "##学習用のtrainデータを学習用とバリデーション検証用に分ける"
      ],
      "metadata": {
        "id": "cBdV_zDJULAN"
      }
    },
    {
      "cell_type": "code",
      "source": [
        "# train_reviews = 5000\n",
        "# valid_reviews = 100 にわける\n",
        "# 学習用 5000件\n",
        "data_train = [ t for s in x_train[:train_reviews] for t in s ]\n",
        "# バリデーション用 100\n",
        "data_valid = [ t for s in x_train[train_reviews:train_reviews+valid_reviews] for t in s]"
      ],
      "metadata": {
        "id": "XIpZBYRsUJ9E"
      },
      "execution_count": 12,
      "outputs": []
    },
    {
      "cell_type": "markdown",
      "source": [
        "##バッチ処理のための関数を定義する"
      ],
      "metadata": {
        "id": "BKa7knnQWNwQ"
      }
    },
    {
      "cell_type": "code",
      "source": [
        "def batch_generator( data, batch_size, step_size ):\n",
        "  seg_len = len(data) // batch_size\n",
        "  steps_per_epoch = seg_len // step_size\n",
        "  data_seg_list = np.asarray( [data[int(i*seg_len):int((i+1)*seg_len)]\n",
        "                             for i in range(batch_size)] )\n",
        "  i = 0\n",
        "  while True:\n",
        "    x = data_seg_list[:, int(i*step_size):int((i+1)*step_size)]\n",
        "    y = np.asarray( [to_categorical(\n",
        "    data_seg_list[j, int(i*step_size+1):int((i+1)*step_size+1)],max_features ) \n",
        "    for j in range(batch_size)])\n",
        "    yield x, y \n",
        "    i +=1\n",
        "    if i >= steps_per_epoch:\n",
        "      i=0\n",
        "    # if文おわり\n",
        "  #whileループ終わり\n",
        "# 関数def終わり\n"
      ],
      "metadata": {
        "id": "qg5ntUQaWMsm"
      },
      "execution_count": 13,
      "outputs": []
    },
    {
      "cell_type": "markdown",
      "source": [
        "##学習モデルを組み立てる"
      ],
      "metadata": {
        "id": "ZKq1FTFWgq6R"
      }
    },
    {
      "cell_type": "code",
      "source": [
        "w = Input(shape=(step_size, ), name='Input' ) # 入力層\n",
        "x = Embedding( input_dim=max_features, output_dim=embedding_size, name='Enbedding')(w)\n",
        "y = LSTM( units=rnn_units, return_sequences=True, dropout=0.5, recurrent_dropout=0.5, name='LSTM')(x)\n",
        "w_next = TimeDistributed( Dense( units=max_features, activation='softmax', name='Dense'),name='TimeDistributed' )(y)\n",
        "# モデルのインスタンスを生成\n",
        "model = Model( inputs=[w], outputs=[w_next] )"
      ],
      "metadata": {
        "colab": {
          "base_uri": "https://localhost:8080/",
          "height": 249
        },
        "id": "04-wHMaIX6dS",
        "outputId": "11cf7eb1-93de-4ac9-9c7e-420c80f354d5"
      },
      "execution_count": 14,
      "outputs": [
        {
          "output_type": "error",
          "ename": "NameError",
          "evalue": "ignored",
          "traceback": [
            "\u001b[0;31m---------------------------------------------------------------------------\u001b[0m",
            "\u001b[0;31mNameError\u001b[0m                                 Traceback (most recent call last)",
            "\u001b[0;32m<ipython-input-14-254eee4881dc>\u001b[0m in \u001b[0;36m<module>\u001b[0;34m\u001b[0m\n\u001b[0;32m----> 1\u001b[0;31m \u001b[0mw\u001b[0m \u001b[0;34m=\u001b[0m \u001b[0mInput\u001b[0m\u001b[0;34m(\u001b[0m\u001b[0mshape\u001b[0m\u001b[0;34m=\u001b[0m\u001b[0;34m(\u001b[0m\u001b[0mstep_size\u001b[0m\u001b[0;34m,\u001b[0m \u001b[0;34m)\u001b[0m\u001b[0;34m,\u001b[0m \u001b[0mname\u001b[0m\u001b[0;34m=\u001b[0m\u001b[0;34m'Input'\u001b[0m \u001b[0;34m)\u001b[0m \u001b[0;31m# 入力層\u001b[0m\u001b[0;34m\u001b[0m\u001b[0;34m\u001b[0m\u001b[0m\n\u001b[0m\u001b[1;32m      2\u001b[0m \u001b[0mx\u001b[0m \u001b[0;34m=\u001b[0m \u001b[0mEmbedding\u001b[0m\u001b[0;34m(\u001b[0m \u001b[0minput_dim\u001b[0m\u001b[0;34m=\u001b[0m\u001b[0mmax_features\u001b[0m\u001b[0;34m,\u001b[0m \u001b[0moutput_dim\u001b[0m\u001b[0;34m=\u001b[0m\u001b[0membedding_size\u001b[0m\u001b[0;34m,\u001b[0m \u001b[0mname\u001b[0m\u001b[0;34m=\u001b[0m\u001b[0;34m'Enbedding'\u001b[0m\u001b[0;34m)\u001b[0m\u001b[0;34m(\u001b[0m\u001b[0mw\u001b[0m\u001b[0;34m)\u001b[0m\u001b[0;34m\u001b[0m\u001b[0;34m\u001b[0m\u001b[0m\n\u001b[1;32m      3\u001b[0m \u001b[0my\u001b[0m \u001b[0;34m=\u001b[0m \u001b[0mLSTM\u001b[0m\u001b[0;34m(\u001b[0m \u001b[0munits\u001b[0m\u001b[0;34m=\u001b[0m\u001b[0mrnn_units\u001b[0m\u001b[0;34m,\u001b[0m \u001b[0mreturn_sequences\u001b[0m\u001b[0;34m=\u001b[0m\u001b[0;32mTrue\u001b[0m\u001b[0;34m,\u001b[0m \u001b[0mdropout\u001b[0m\u001b[0;34m=\u001b[0m\u001b[0;36m0.5\u001b[0m\u001b[0;34m,\u001b[0m \u001b[0mrecurrent_dropout\u001b[0m\u001b[0;34m=\u001b[0m\u001b[0;36m0.5\u001b[0m\u001b[0;34m,\u001b[0m \u001b[0mname\u001b[0m\u001b[0;34m=\u001b[0m\u001b[0;34m'LSTM'\u001b[0m\u001b[0;34m)\u001b[0m\u001b[0;34m(\u001b[0m\u001b[0mx\u001b[0m\u001b[0;34m)\u001b[0m\u001b[0;34m\u001b[0m\u001b[0;34m\u001b[0m\u001b[0m\n\u001b[1;32m      4\u001b[0m \u001b[0mw_next\u001b[0m \u001b[0;34m=\u001b[0m \u001b[0mTimeDistributed\u001b[0m\u001b[0;34m(\u001b[0m \u001b[0mDense\u001b[0m\u001b[0;34m(\u001b[0m \u001b[0munits\u001b[0m\u001b[0;34m=\u001b[0m\u001b[0mmax_features\u001b[0m\u001b[0;34m,\u001b[0m \u001b[0mactivation\u001b[0m\u001b[0;34m=\u001b[0m\u001b[0;34m'softmax'\u001b[0m\u001b[0;34m,\u001b[0m \u001b[0mname\u001b[0m\u001b[0;34m=\u001b[0m\u001b[0;34m'Dense'\u001b[0m\u001b[0;34m)\u001b[0m\u001b[0;34m,\u001b[0m\u001b[0mname\u001b[0m\u001b[0;34m=\u001b[0m\u001b[0;34m'TimeDistributed'\u001b[0m \u001b[0;34m)\u001b[0m\u001b[0;34m(\u001b[0m\u001b[0my\u001b[0m\u001b[0;34m)\u001b[0m\u001b[0;34m\u001b[0m\u001b[0;34m\u001b[0m\u001b[0m\n\u001b[1;32m      5\u001b[0m \u001b[0;31m# モデルのインスタンスを生成\u001b[0m\u001b[0;34m\u001b[0m\u001b[0;34m\u001b[0m\u001b[0;34m\u001b[0m\u001b[0m\n",
            "\u001b[0;31mNameError\u001b[0m: name 'step_size' is not defined"
          ]
        }
      ]
    },
    {
      "cell_type": "markdown",
      "source": [
        "##生成したモデルオブジェクトの形をSVGで表示"
      ],
      "metadata": {
        "id": "Ux0Q8_nYkpss"
      }
    },
    {
      "cell_type": "code",
      "source": [
        "SVG( model_to_dot( model, show_shapes=True,dpi=None ).create(prog='dot', format='svg') )"
      ],
      "metadata": {
        "id": "aFoXEMDFjIzc"
      },
      "execution_count": null,
      "outputs": []
    },
    {
      "cell_type": "markdown",
      "source": [
        "##モデルのコンパイル"
      ],
      "metadata": {
        "id": "VUn6jk-8m-VI"
      }
    },
    {
      "cell_type": "code",
      "source": [
        "model.compile( optimizer='rmsprop', loss='categorical_crossentropy', metrics=['accuracy'] )"
      ],
      "metadata": {
        "id": "6dkKh0A1nDTp"
      },
      "execution_count": null,
      "outputs": []
    },
    {
      "cell_type": "markdown",
      "source": [
        "##生成したモデルに学習させる（バッチごとに）\n"
      ],
      "metadata": {
        "id": "8RJW1rKenJMc"
      }
    },
    {
      "cell_type": "code",
      "source": [
        "# バッチ処理用にデータセットを加工\n",
        "gen_train = batch_generator( data_train, batch_size, step_size )\n",
        "gen_valid = batch_generator( data_valid, batch_size, step_size )"
      ],
      "metadata": {
        "id": "gXs0vr-anJsO"
      },
      "execution_count": null,
      "outputs": []
    },
    {
      "cell_type": "code",
      "source": [
        "# 各データのバッチごとのステップ数を学習時に指定するために算出\n",
        "steps_per_epoch_train = len(data_train)/batch_size/step_size\n",
        "steps_per_epoch_valid = len(data_valid)/batch_size/step_size"
      ],
      "metadata": {
        "id": "OXETF-1bpkTq"
      },
      "execution_count": null,
      "outputs": []
    },
    {
      "cell_type": "code",
      "source": [
        "# バッチ処理ごとにデータを学習とバリデーションする\n",
        "model.fit_generator( generator=gen_train, steps_per_epoch=steps_per_epoch_train,epochs=epochs,\n",
        "                    validation_data=gen_valid, validation_steps=steps_per_epoch_valid)"
      ],
      "metadata": {
        "id": "jbSFuW4unbkf"
      },
      "execution_count": null,
      "outputs": []
    },
    {
      "cell_type": "markdown",
      "source": [
        "##学習したモデルを使ってランダムに文章を作らせる"
      ],
      "metadata": {
        "id": "J_qFeTtusdxO"
      }
    },
    {
      "cell_type": "code",
      "source": [
        "# 次にくる単語を選ぶ関数\n",
        "def sample( preds, temperature=1.0 ):\n",
        "  preds = np.log(preds) / temperature\n",
        "  preds = np.exp(preds) / np.sum(np.exp(preds))\n",
        "  choices = range(len(preds))\n",
        "  return np.random.choice( choices, p=preds )\n",
        "# 関数終わり"
      ],
      "metadata": {
        "id": "YZWunHIrseIq"
      },
      "execution_count": null,
      "outputs": []
    },
    {
      "cell_type": "code",
      "source": [
        "# ランダムに文章を生成する関数\n",
        "def sample_sentences( num_sentences, sample_sent_len=20 ):\n",
        "  for x_test_i in x_test[:num_sentences]:\n",
        "    x = np.zeros((1, step_size))\n",
        "    sentence = x_test_i[:step_size]\n",
        "\n",
        "    for i in range(sample_sent_len):\n",
        "      for j, index in enumerate(sentence[-step_size:]):\n",
        "        x[0, j] = index\n",
        "      # for終わり\n",
        "      preds = model.predict(x)[0][-1]\n",
        "      next_index = sample(preds)\n",
        "      sentence.append(next_index)\n",
        "    # ループ終わり\n",
        "    print_sentence(sentence)\n",
        "  # ループ終わり\n",
        "# 関数おわり"
      ],
      "metadata": {
        "id": "8KyP2-SUu0G1"
      },
      "execution_count": null,
      "outputs": []
    }
  ]
}