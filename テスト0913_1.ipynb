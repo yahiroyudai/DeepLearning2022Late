{
  "nbformat": 4,
  "nbformat_minor": 0,
  "metadata": {
    "colab": {
      "provenance": [],
      "collapsed_sections": [],
      "authorship_tag": "ABX9TyOFPUWnBRy/hfadu72I5SbK",
      "include_colab_link": true
    },
    "kernelspec": {
      "name": "python3",
      "display_name": "Python 3"
    },
    "language_info": {
      "name": "python"
    }
  },
  "cells": [
    {
      "cell_type": "markdown",
      "metadata": {
        "id": "view-in-github",
        "colab_type": "text"
      },
      "source": [
        "<a href=\"https://colab.research.google.com/github/yahiroyudai/DeepLearning2022Late/blob/main/%E3%83%86%E3%82%B9%E3%83%880913_1.ipynb\" target=\"_parent\"><img src=\"https://colab.research.google.com/assets/colab-badge.svg\" alt=\"Open In Colab\"/></a>"
      ]
    },
    {
      "cell_type": "code",
      "execution_count": null,
      "metadata": {
        "colab": {
          "base_uri": "https://localhost:8080/"
        },
        "id": "STyrIHTnUIol",
        "outputId": "5e590ff4-40f8-429a-cec2-d81096441e04"
      },
      "outputs": [
        {
          "output_type": "stream",
          "name": "stdout",
          "text": [
            "['アップル', 'ペン', 'ペン', 'パイナップル']\n",
            "ペンペン\n"
          ]
        }
      ],
      "source": [
        "#リスト\n",
        "list = ['アップル','ペン','ペン','パイナップル']\n",
        "print(list)\n",
        "print(list[1] + list[2])"
      ]
    },
    {
      "cell_type": "code",
      "source": [
        "#タプル\n",
        "tuple = ('アップル','ペン','ペン','パイナップル')\n",
        "print(tuple)\n",
        "print(tuple[1] + tuple[2])"
      ],
      "metadata": {
        "colab": {
          "base_uri": "https://localhost:8080/"
        },
        "id": "ur4DmaqJWOx9",
        "outputId": "7f43d26d-6388-4492-9297-9fbc6ca9e0ba"
      },
      "execution_count": null,
      "outputs": [
        {
          "output_type": "stream",
          "name": "stdout",
          "text": [
            "('アップル', 'ペン', 'ペン', 'パイナップル')\n",
            "ペンペン\n"
          ]
        }
      ]
    },
    {
      "cell_type": "markdown",
      "source": [
        "#構成を変更できるのはリスト\n",
        "\n",
        "# 構成を変更できない(固定)のはタプル"
      ],
      "metadata": {
        "id": "3JKDMcKmerp7"
      }
    },
    {
      "cell_type": "code",
      "source": [
        "#リストの構成変更\n",
        "print(list)\n",
        "list.append(100)#文字列データのリストにあえて数値を追加\n",
        "print(list)\n",
        "del list[2]#リストの３番目を削除\n",
        "print(list)\n",
        "list[3] = 'ペン'#数値100を'ペン'に更新\n",
        "print(list)\n",
        "list.insert(2, 'ペン')#２番目の位置に'ペン'を挿入\n",
        "print(list)"
      ],
      "metadata": {
        "colab": {
          "base_uri": "https://localhost:8080/"
        },
        "id": "nEdfcJrmYZ-s",
        "outputId": "fab4e233-3333-489a-c7dd-9a5898a989f4"
      },
      "execution_count": null,
      "outputs": [
        {
          "output_type": "stream",
          "name": "stdout",
          "text": [
            "['アップル', 'ペン', 'ペン', 'パイナップル']\n",
            "['アップル', 'ペン', 'ペン', 'パイナップル', 100]\n",
            "['アップル', 'ペン', 'パイナップル', 100]\n",
            "['アップル', 'ペン', 'パイナップル', 'ペン']\n",
            "['アップル', 'ペン', 'ペン', 'パイナップル', 'ペン']\n"
          ]
        }
      ]
    },
    {
      "cell_type": "markdown",
      "source": [
        "# リストやタプルの長さを取得"
      ],
      "metadata": {
        "id": "P8GM9AL8cHBG"
      }
    },
    {
      "cell_type": "code",
      "source": [
        "print(list)\n",
        "print(len(list))#len()で長さを取得する"
      ],
      "metadata": {
        "colab": {
          "base_uri": "https://localhost:8080/"
        },
        "id": "UfxwtcQpYtia",
        "outputId": "c329845d-55ca-4d86-cd07-15d43fbfa798"
      },
      "execution_count": null,
      "outputs": [
        {
          "output_type": "stream",
          "name": "stdout",
          "text": [
            "['アップル', 'ペン', 'ペン', 'パイナップル', 'ペン']\n",
            "5\n"
          ]
        }
      ]
    },
    {
      "cell_type": "markdown",
      "source": [],
      "metadata": {
        "id": "w7PDD1gPjgpF"
      }
    },
    {
      "cell_type": "markdown",
      "source": [
        "# スライス\n",
        "\n",
        "データを抽出する（データを一部分取り出す）"
      ],
      "metadata": {
        "id": "wgs91M5IcPbp"
      }
    },
    {
      "cell_type": "code",
      "source": [
        "print(list)\n",
        "print(list[1])#何番目の要素の指定の仕方と同じ考え方\n",
        "print(list[1:3])#１番目と３番目までの範囲を指定して抽出 = スライス\n",
        "print(list[1:])#１番目から最後まで抽出(スライス)"
      ],
      "metadata": {
        "colab": {
          "base_uri": "https://localhost:8080/"
        },
        "id": "Y3gGFCrTbYF2",
        "outputId": "0ae29a97-0dfa-4d75-a376-301246ffcfb9"
      },
      "execution_count": null,
      "outputs": [
        {
          "output_type": "stream",
          "name": "stdout",
          "text": [
            "['アップル', 'ペン', 'ペン', 'パイナップル', 'ペン']\n",
            "ペン\n",
            "['ペン', 'ペン']\n",
            "['ペン', 'ペン', 'パイナップル', 'ペン']\n"
          ]
        }
      ]
    },
    {
      "cell_type": "markdown",
      "source": [
        "# SET型(集合型)\n",
        "\n",
        "集合型SETは、順番を持たない。重複したデータを持たない"
      ],
      "metadata": {
        "id": "4IJxDJqWfFZo"
      }
    },
    {
      "cell_type": "code",
      "source": [
        "#uniqという名前のset型変数を作る\n",
        "uniq = set(['アップル', 'ペン', 'ペン', 'パイナップル'])\n",
        "print(uniq)#リストの時点では'ペン'が重複できていたが、set型になって重複が消える"
      ],
      "metadata": {
        "colab": {
          "base_uri": "https://localhost:8080/"
        },
        "id": "vzDQy1BPdEu_",
        "outputId": "4ac4926f-0f58-45e2-ffc8-13b6dd7d7c56"
      },
      "execution_count": null,
      "outputs": [
        {
          "output_type": "stream",
          "name": "stdout",
          "text": [
            "{'パイナップル', 'アップル', 'ペン'}\n"
          ]
        }
      ]
    },
    {
      "cell_type": "markdown",
      "source": [
        "# 集合型の追加・変更・削除"
      ],
      "metadata": {
        "id": "dW8C826ng1eJ"
      }
    },
    {
      "cell_type": "code",
      "source": [
        "print(uniq)\n",
        "uniq.add('バナナ')#追加\n",
        "uniq.remove('ペン')#削除\n",
        "print(uniq)"
      ],
      "metadata": {
        "colab": {
          "base_uri": "https://localhost:8080/"
        },
        "id": "3PMCjaojgj7J",
        "outputId": "a11ff7b2-dd63-4301-f563-166ea2058d81"
      },
      "execution_count": null,
      "outputs": [
        {
          "output_type": "stream",
          "name": "stdout",
          "text": [
            "{'パイナップル', 'アップル', 'ペン'}\n",
            "{'パイナップル', 'アップル', 'バナナ'}\n"
          ]
        }
      ]
    },
    {
      "cell_type": "markdown",
      "source": [
        "# 集合演算\n",
        "包括、積、和、差分"
      ],
      "metadata": {
        "id": "7_An4u-UiIcZ"
      }
    },
    {
      "cell_type": "code",
      "source": [
        "#uniqの値を再定義\n",
        "uniq = set(['アップル','ペン', 'ペン', 'パイナップル'])\n",
        "a = set(['アップル', 'ペン'])\n",
        "b = set(['ペン', 'パイナップル'])\n",
        "print(uniq)\n",
        "print(a)\n",
        "print(b)\n",
        "#集合aは集合uniqのsubset(部分集合)である？ = 包括関係\n",
        "print(a.issubset(uniq))\n",
        "#データ'ペン'は集合aの中にある？\n",
        "'ペン' in a"
      ],
      "metadata": {
        "colab": {
          "base_uri": "https://localhost:8080/"
        },
        "id": "zxptsACZhN8J",
        "outputId": "415d2dd5-a2ae-4b8f-e71d-1208f4c61a4e"
      },
      "execution_count": null,
      "outputs": [
        {
          "output_type": "stream",
          "name": "stdout",
          "text": [
            "{'パイナップル', 'アップル', 'ペン'}\n",
            "{'アップル', 'ペン'}\n",
            "{'パイナップル', 'ペン'}\n",
            "True\n"
          ]
        },
        {
          "output_type": "execute_result",
          "data": {
            "text/plain": [
              "True"
            ]
          },
          "metadata": {},
          "execution_count": 14
        }
      ]
    },
    {
      "cell_type": "code",
      "source": [
        "#ある集合と別の集合の共通部分の要素(intertsection)\n",
        "#集合aと集合bの共通集合\n",
        "print(a)\n",
        "print(b)\n",
        "print(a.intersection(b))#集合aのデータで集合bに共通のもの : 積\n",
        "#集合aと集合bの結合 : 和集合(setなので重複は削除される)\n",
        "a.union(b)#集合aと集合bの集まり\n",
        "#集合aと集合bの差集合(aのみに含まれる集合)\n",
        "a.difference(b)#aからbを取り除いた残り(差分 : difference)"
      ],
      "metadata": {
        "colab": {
          "base_uri": "https://localhost:8080/"
        },
        "id": "un8XT-ixjBTo",
        "outputId": "3ced22bc-4e94-42fd-cda5-4b48c13221b6"
      },
      "execution_count": null,
      "outputs": [
        {
          "output_type": "stream",
          "name": "stdout",
          "text": [
            "{'アップル', 'ペン'}\n",
            "{'パイナップル', 'ペン'}\n",
            "{'ペン'}\n"
          ]
        },
        {
          "output_type": "execute_result",
          "data": {
            "text/plain": [
              "{'アップル'}"
            ]
          },
          "metadata": {},
          "execution_count": 18
        }
      ]
    },
    {
      "cell_type": "code",
      "source": [],
      "metadata": {
        "id": "JfQm4uVrriHi"
      },
      "execution_count": null,
      "outputs": []
    }
  ]
}