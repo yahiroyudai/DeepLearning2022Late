{
  "nbformat": 4,
  "nbformat_minor": 0,
  "metadata": {
    "colab": {
      "provenance": [],
      "collapsed_sections": [],
      "authorship_tag": "ABX9TyMwfBvhEK5a38B51pnVxQ/v",
      "include_colab_link": true
    },
    "kernelspec": {
      "name": "python3",
      "display_name": "Python 3"
    },
    "language_info": {
      "name": "python"
    }
  },
  "cells": [
    {
      "cell_type": "markdown",
      "metadata": {
        "id": "view-in-github",
        "colab_type": "text"
      },
      "source": [
        "<a href=\"https://colab.research.google.com/github/yahiroyudai/DeepLearning2022Late/blob/main/%E3%83%86%E3%82%B9%E3%83%880913%E2%88%9202.ipynb\" target=\"_parent\"><img src=\"https://colab.research.google.com/assets/colab-badge.svg\" alt=\"Open In Colab\"/></a>"
      ]
    },
    {
      "cell_type": "markdown",
      "source": [
        "# 辞書型(dictionary)\n",
        "\n",
        "キーと値のペアで管理する"
      ],
      "metadata": {
        "id": "UtRAxH-wzDw0"
      }
    },
    {
      "cell_type": "markdown",
      "source": [
        "## 辞書型の定義文\n"
      ],
      "metadata": {
        "id": "dTZD2_qezXPs"
      }
    },
    {
      "cell_type": "code",
      "execution_count": null,
      "metadata": {
        "colab": {
          "base_uri": "https://localhost:8080/"
        },
        "id": "mJlTPEOWygGR",
        "outputId": "dc9050f7-ca59-495f-adc2-13ba9774fdec"
      },
      "outputs": [
        {
          "output_type": "stream",
          "name": "stdout",
          "text": [
            "{'アップル': 1, 'ペン': 2, 'パイナップル': 3}\n",
            "2\n"
          ]
        }
      ],
      "source": [
        "#辞書型のデータを作ってdictに代入\n",
        "#{キーワード : 値, 'キーワード' : 値 }でデータ管理\n",
        "dict = {'アップル' : 1, 'ペン' : 2, 'パイナップル' : 3 }\n",
        "print(dict)\n",
        "#値を利用する時は、キーワードで指定\n",
        "print(dict['ペン'])"
      ]
    },
    {
      "cell_type": "markdown",
      "source": [
        "## 辞書型のキーワード一覧、値一覧を取得する"
      ],
      "metadata": {
        "id": "8XbOVDSM1gqS"
      }
    },
    {
      "cell_type": "code",
      "source": [
        "print(dict)\n",
        "#dictに入っているキーの一覧\n",
        "print(dict.keys())\n",
        "#dictに入っている値の一覧\n",
        "print(dict.values())"
      ],
      "metadata": {
        "colab": {
          "base_uri": "https://localhost:8080/"
        },
        "id": "EZkj9slk1wHF",
        "outputId": "c8081be0-4fe7-44e6-a664-5725ce60c88a"
      },
      "execution_count": null,
      "outputs": [
        {
          "output_type": "stream",
          "name": "stdout",
          "text": [
            "{'アップル': 1, 'ペン': 2, 'パイナップル': 3, 'バナナ': 5}\n",
            "dict_keys(['アップル', 'ペン', 'パイナップル', 'バナナ'])\n",
            "dict_values([1, 2, 3, 5])\n"
          ]
        }
      ]
    },
    {
      "cell_type": "markdown",
      "source": [
        "## 辞書型の追加・削除・更新"
      ],
      "metadata": {
        "id": "djF03kB40-V5"
      }
    },
    {
      "cell_type": "code",
      "source": [
        "print(dict)\n",
        "#dictにバナナというキーワードで値5を追加\n",
        "#print(dict.keys())\n",
        "dict['バナナ'] = 5\n",
        "print(dict)\n",
        "#キーワードがすでにあったら、そのキーワードの値を更新\n",
        "dict['バナナ'] = 100\n",
        "print(dict)\n",
        "#キーワードで指定したペアを削除\n",
        "dict.pop('バナナ')\n",
        "print(dict)"
      ],
      "metadata": {
        "colab": {
          "base_uri": "https://localhost:8080/"
        },
        "id": "5ExPpjie0WfE",
        "outputId": "1c31fd88-4bd3-46c6-c92c-fe3e84e39b1b"
      },
      "execution_count": null,
      "outputs": [
        {
          "output_type": "stream",
          "name": "stdout",
          "text": [
            "{'アップル': 1, 'ペン': 2, 'パイナップル': 3, 'バナナ': 100}\n",
            "{'アップル': 1, 'ペン': 2, 'パイナップル': 3, 'バナナ': 5}\n",
            "{'アップル': 1, 'ペン': 2, 'パイナップル': 3, 'バナナ': 100}\n",
            "{'アップル': 1, 'ペン': 2, 'パイナップル': 3}\n"
          ]
        }
      ]
    },
    {
      "cell_type": "markdown",
      "source": [
        "#文字列の整形\n",
        "\n",
        "## 文字列の連結と繰り返し"
      ],
      "metadata": {
        "id": "USmNmnyo4XOr"
      }
    },
    {
      "cell_type": "code",
      "source": [
        "#文字列の連結方法①\n",
        "apple = 'アップル'\n",
        "pen = 'ペン'\n",
        "print(apple + pen)#プラス記号で連結\n",
        "#文字列の連結方法② 文字配列を連結する\n",
        "piko = ['ペン', 'パイナップル', 'アップル', 'ペン']\n",
        "#printメソッドで連結して表示　例 : , で連結\n",
        "print( ',' .join(piko))\n",
        "#回数を指定してメッセージを表示\n",
        "pon = 'ポン'\n",
        "print(pon * 3)"
      ],
      "metadata": {
        "colab": {
          "base_uri": "https://localhost:8080/"
        },
        "id": "3SlFYb-Z27iO",
        "outputId": "a8553072-ede5-4401-914f-0368c45dc604"
      },
      "execution_count": null,
      "outputs": [
        {
          "output_type": "stream",
          "name": "stdout",
          "text": [
            "アップルペン\n",
            "ペン,パイナップル,アップル,ペン\n",
            "ポンポンポン\n"
          ]
        }
      ]
    },
    {
      "cell_type": "markdown",
      "source": [
        "## 【重要】文字列の整形（フォーマット）\n"
      ],
      "metadata": {
        "id": "_Vx-rPht64Th"
      }
    },
    {
      "cell_type": "code",
      "source": [
        "#定式で指定した形のメッセージにする\n",
        "print( '{}{} : {}円' )\n",
        "#スロットを定義した順番に、その数だけデータを引き渡して文章を組み立てる\n",
        "print( '{}{} : {}円' .format('アップル','ペン', 100))\n",
        "#スロットの値のインデックスで指定することもできる\n",
        "print('{1}{2} : {0}円'.format(100, 'アップル', 'ペン'))"
      ],
      "metadata": {
        "colab": {
          "base_uri": "https://localhost:8080/"
        },
        "id": "9LDwzFEK6OV8",
        "outputId": "08d7f84f-0803-44d1-c46b-c69cd9d90e40"
      },
      "execution_count": null,
      "outputs": [
        {
          "output_type": "stream",
          "name": "stdout",
          "text": [
            "{}{} : {}円\n",
            "アップルペン : 100円\n",
            "アップルペン : 100円\n"
          ]
        }
      ]
    },
    {
      "cell_type": "markdown",
      "source": [
        "## コレクション演算\n",
        "リスト、タプル、つまり順番がある集合のことをシーケンスという\n",
        "\n",
        "順番がない集合を集合型（セット）という\n",
        "\n",
        "上記２種類をまとめてコレクションという\n",
        "\n",
        "コレクションは共通の演算が使える\n",
        "\n",
        "len（長さ、量を取得）、max（最大値を取得）、min（最小値を取得）など"
      ],
      "metadata": {
        "id": "oBH6xgbZfGSg"
      }
    },
    {
      "cell_type": "code",
      "source": [
        "list =[1, 1, 2, 3, 4, 5]#６つの要素\n",
        "tuple = (10, 9, 7, 7, 8, 8, 9)#７つの要素\n",
        "set = [1, -2, 3, -4, 5, -6, -7, -8]#８つの要素\n",
        "#リストの長さ、最大値、最小値\n",
        "print(len(list), max(list), min(list))\n",
        "#タプルの長さ、最大値、最小値\n",
        "print(len(tuple), max(tuple), min(tuple))\n",
        "#setの長さ、最大値、最小値\n",
        "print(len(set), max(set), min(set))"
      ],
      "metadata": {
        "id": "UAEftxCu9L8-",
        "colab": {
          "base_uri": "https://localhost:8080/"
        },
        "outputId": "edcc3dca-3fd3-4792-e6ae-729551b5dd61"
      },
      "execution_count": 1,
      "outputs": [
        {
          "output_type": "stream",
          "name": "stdout",
          "text": [
            "6 5 1\n",
            "7 10 7\n",
            "8 5 -8\n"
          ]
        }
      ]
    },
    {
      "cell_type": "code",
      "source": [],
      "metadata": {
        "id": "i9bXkvkOhVRY"
      },
      "execution_count": null,
      "outputs": []
    }
  ]
}