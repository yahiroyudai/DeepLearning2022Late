{
  "nbformat": 4,
  "nbformat_minor": 0,
  "metadata": {
    "colab": {
      "provenance": [],
      "collapsed_sections": [],
      "authorship_tag": "ABX9TyMbdEu8BjqWCz5RSXDZxK0z",
      "include_colab_link": true
    },
    "kernelspec": {
      "name": "python3",
      "display_name": "Python 3"
    },
    "language_info": {
      "name": "python"
    }
  },
  "cells": [
    {
      "cell_type": "markdown",
      "metadata": {
        "id": "view-in-github",
        "colab_type": "text"
      },
      "source": [
        "<a href=\"https://colab.research.google.com/github/yahiroyudai/DeepLearning2022Late/blob/main/MNISTExample2022.ipynb\" target=\"_parent\"><img src=\"https://colab.research.google.com/assets/colab-badge.svg\" alt=\"Open In Colab\"/></a>"
      ]
    },
    {
      "cell_type": "markdown",
      "source": [
        "#MNISTデータセットを使って手書き数字の画像判定を実装する"
      ],
      "metadata": {
        "id": "ch7Dv5FJ_973"
      }
    },
    {
      "cell_type": "markdown",
      "source": [
        "###ライブラリをimport\n"
      ],
      "metadata": {
        "id": "goPKEpjfAQwm"
      }
    },
    {
      "cell_type": "code",
      "source": [
        "#from keras.engine import input_layer\n",
        "#import keras \n",
        "#学習用ライブラリ\n",
        "#from keras.models import Sequential #学習モデルSequentialモデル\n",
        "#from keras.layers.core import Dense, Dropout, Activation#ニューロンの各層\n",
        "#from keras.optimizers import RMSprop\n",
        "#from keras.callbacks import EarlyStopping, CSVLogger\n",
        "#MNISTデータセットを読み込む\n",
        "#from keras.datasets import mnist\n",
        "#表示用にpyplotを読み込む\n",
        "#%matplotlib inline\n",
        "#import matplotlib.pyplot as plt"
      ],
      "metadata": {
        "id": "lMl6v3z8jLNH"
      },
      "execution_count": 1,
      "outputs": []
    },
    {
      "cell_type": "code",
      "source": [
        "#学習用ライブラリ\n",
        "from tensorflow import keras\n",
        "#MNISTデータセットを読み込む\n",
        "from tensorflow.keras.datasets import mnist\n",
        "#学習モデルSequentialモデル\n",
        "from tensorflow.keras.models import Sequential\n",
        "#ニューロンの各層\n",
        "from tensorflow.keras.layers import Dense, Dropout,Activation\n",
        "from tensorflow.keras.optimizers import RMSprop\n",
        "from keras.callbacks import EarlyStopping,CSVLogger\n",
        "\n",
        "#表示用にpyplotを読み込む\n",
        "%matplotlib inline\n",
        "import matplotlib.pyplot as plt"
      ],
      "metadata": {
        "id": "g9LP0IvygCaM"
      },
      "execution_count": 2,
      "outputs": []
    },
    {
      "cell_type": "markdown",
      "source": [
        "##ハイパーパラメータ(人間が決めるパラメータ)の定義"
      ],
      "metadata": {
        "id": "8Lu7qgAljTos"
      }
    },
    {
      "cell_type": "code",
      "execution_count": 3,
      "metadata": {
        "id": "EGt6-pP9_UYU"
      },
      "outputs": [],
      "source": [
        "#バッチサイズ(元のデータを何件ごとまとめて処理するか)\n",
        "batch_size = 128\n",
        "#クラス数(結果をいくつに分類するか)\n",
        "num_classes = 10\n",
        "#エポックサイズ(学習の回数 : 順伝播逆伝播の繰り返し数)\n",
        "epochs = 20"
      ]
    },
    {
      "cell_type": "markdown",
      "source": [
        "##MNISTデータセットのデータを読み込む"
      ],
      "metadata": {
        "id": "nCBo3-NUllC7"
      }
    },
    {
      "cell_type": "code",
      "source": [
        "#MNISTデータ読み込み\n",
        "#x_**は画像データ、y_***は答え(その画像が数字の何なのか)\n",
        "#**_trainは学習用データ、**_testは検証用データ\n",
        "(x_train, y_train), (x_test, y_test) = mnist.load_data()"
      ],
      "metadata": {
        "id": "p8yQzVTaBXCa"
      },
      "execution_count": 4,
      "outputs": []
    },
    {
      "cell_type": "markdown",
      "source": [
        "##MNISTデータをいくつか表示"
      ],
      "metadata": {
        "id": "Q1JZIoX6n0Pc"
      }
    },
    {
      "cell_type": "code",
      "source": [
        "#ループしてx_trainに入ったMNISTの画像データを試しに表示\n",
        "for i in range(10):\n",
        "  #pyplotで表示していく\n",
        "  plt.subplot(2, 5, i+1) #2行5列で、i+1番目の画像をプロットをセット\n",
        "  plt.title(\"M_%d\" % i) #「M_0」のような形式でタイトルを表示\n",
        "  plt.axis(\"off\") #軸線をオフ\n",
        "  plt.imshow(x_train[i].reshape(28, 28), cmap = None)\n",
        "#ループ終わり\n",
        "plt.show()"
      ],
      "metadata": {
        "colab": {
          "base_uri": "https://localhost:8080/",
          "height": 223
        },
        "id": "Gnlp7jqCmTDv",
        "outputId": "3d922065-1ca7-49b4-ec34-5965244cfe8f"
      },
      "execution_count": 5,
      "outputs": [
        {
          "output_type": "display_data",
          "data": {
            "text/plain": [
              "<Figure size 432x288 with 10 Axes>"
            ],
            "image/png": "[encoded data removed]"
          },
          "metadata": {
            "needs_background": "light"
          }
        }
      ]
    },
    {
      "cell_type": "markdown",
      "source": [
        "##データの前処理(画像サイズの正規化)\n",
        "データを1文字1行(1レコード)の形にする"
      ],
      "metadata": {
        "id": "--iUEcGZrlbd"
      }
    },
    {
      "cell_type": "code",
      "source": [
        "#28*28ピクセルの画像を1行にすると、784ピクセルになる\n",
        "#横に784個、0〜255までのRGB色数値が並ぶようにする\n",
        "#x_trainは60,000字(60,000行)分*784列の2次元配列に変換することになる\n",
        "x_train = x_train.reshape(60000, 784).astype('float32')\n",
        "#x_testは10,000字(10,000行)分*784列の2次元配列に変換することになる\n",
        "x_test = x_test.reshape(10000, 784).astype('float32')\n",
        "#画像ドットの色情報(RGB 0〜255)を0〜1の小数値の範囲の変換にする\n",
        "x_train /= 255 #x_trainのひとつひとつを255で割った値で上書き\n",
        "x_test /= 255\n",
        "#答えのデータをnum_classesの数(10)に分類\n",
        "y_train = keras.utils.to_categorical(y_train, num_classes) #学習用\n",
        "y_test = keras.utils.to_categorical(y_test, num_classes) #検証用"
      ],
      "metadata": {
        "id": "P27-c0OdqBIU"
      },
      "execution_count": 6,
      "outputs": []
    },
    {
      "cell_type": "markdown",
      "source": [
        "##変換したデータの形を表示して確認"
      ],
      "metadata": {
        "id": "0yNVecDI4J9x"
      }
    },
    {
      "cell_type": "code",
      "source": [
        "# 学習 xデータ\n",
        "print( x_train. shape)# 60.000行（6万文字レコード）784列\n",
        "print( y_train. shape)# 10,000行（1万文字レコード）784列\n",
        "print( x_test. shape) # 60.000行（6万文字レコード）、(num_class:0~9の分類）\n",
        "print( y_test. shape)# 10,000行（1万文字レコード）、(num class:0〜9の分類）"
      ],
      "metadata": {
        "colab": {
          "base_uri": "https://localhost:8080/"
        },
        "id": "U7f4QsNX4gHA",
        "outputId": "ceaddf65-957b-406e-902d-168efecf6ac0"
      },
      "execution_count": 7,
      "outputs": [
        {
          "output_type": "stream",
          "name": "stdout",
          "text": [
            "(60000, 784)\n",
            "(60000, 10)\n",
            "(10000, 784)\n",
            "(10000, 10)\n"
          ]
        }
      ]
    },
    {
      "cell_type": "markdown",
      "source": [
        "##学習モデルを組み立てる\n",
        "生成した学習モデルのインスタンスに層を追加していく"
      ],
      "metadata": {
        "id": "rjntOcwU8BTO"
      }
    },
    {
      "cell_type": "code",
      "source": [
        "#学習モデルを生成\n",
        "model = Sequential()"
      ],
      "metadata": {
        "id": "ulprJyO_5i4w"
      },
      "execution_count": 8,
      "outputs": []
    },
    {
      "cell_type": "code",
      "source": [
        "# ニューラル層を作っていく\n",
        "# 784次元のデータが、任意の数だけ入力され、512次元の形で出力される\n",
        "model.add(Dense(512, input_shape=(784, )))\n",
        "# 活性化関数をrelu関数に指定\n",
        "model.add(Activation('relu'))\n",
        "# Dropout（データを間引いて過学習を防ぐ）\n",
        "model.add(Dropout(0.2)) # 20％の結果値を0にリセット"
      ],
      "metadata": {
        "id": "iaAmcOuA9IHU"
      },
      "execution_count": 9,
      "outputs": []
    },
    {
      "cell_type": "markdown",
      "source": [
        "##2層目を追加する"
      ],
      "metadata": {
        "id": "eomteRuCBXS3"
      }
    },
    {
      "cell_type": "code",
      "source": [
        "# ニューロンの層の追加\n",
        "model. add(Dense(512)) # 512の次元で出カされる\n",
        "# 活性化関数を relu 関数に指定\n",
        "model. add(Activation('relu'))\n",
        "# Dropout （データを聞引いて過学習を防ぐ）\n",
        "model.add (Dropout(0.2)) # 20%の結果値を0にリセット"
      ],
      "metadata": {
        "id": "QL0oqwis-Sn1"
      },
      "execution_count": 10,
      "outputs": []
    },
    {
      "cell_type": "markdown",
      "source": [
        "##学習モデルに3層目（最後の層）を追加する"
      ],
      "metadata": {
        "id": "VED4ReIiEF5s"
      }
    },
    {
      "cell_type": "code",
      "source": [
        "#ニューロンの3層目（出力層）の追加\n",
        "model.add(Dense(num_classes))#最後は10個(num classes)に分類\n",
        "# 最後だけ活性化関数はsoftmaxを指定する\n",
        "# （複数の出力値の合計が「1.0」（ = 100% ）になるような値を返してくれるから）\n",
        "model. add ( Activation('softmax'))"
      ],
      "metadata": {
        "id": "mj9xXHgEEQuX"
      },
      "execution_count": 11,
      "outputs": []
    },
    {
      "cell_type": "markdown",
      "source": [
        "##組み立てた学習モデルの要約(サマリ・概要)を表示\n"
      ],
      "metadata": {
        "id": "ytcxNBC9Ggd8"
      }
    },
    {
      "cell_type": "code",
      "source": [
        "#学習モデルのサマリ\n",
        "model.summary()\n",
        "Model: \"sequential\""
      ],
      "metadata": {
        "colab": {
          "base_uri": "https://localhost:8080/"
        },
        "id": "QvEKmjKZGV4H",
        "outputId": "78ddc597-e90d-4fbc-8a7d-e4f8fe3c4b18"
      },
      "execution_count": 12,
      "outputs": [
        {
          "output_type": "stream",
          "name": "stdout",
          "text": [
            "Model: \"sequential\"\n",
            "_________________________________________________________________\n",
            " Layer (type)                Output Shape              Param #   \n",
            "=================================================================\n",
            " dense (Dense)               (None, 512)               401920    \n",
            "                                                                 \n",
            " activation (Activation)     (None, 512)               0         \n",
            "                                                                 \n",
            " dropout (Dropout)           (None, 512)               0         \n",
            "                                                                 \n",
            " dense_1 (Dense)             (None, 512)               262656    \n",
            "                                                                 \n",
            " activation_1 (Activation)   (None, 512)               0         \n",
            "                                                                 \n",
            " dropout_1 (Dropout)         (None, 512)               0         \n",
            "                                                                 \n",
            " dense_2 (Dense)             (None, 10)                5130      \n",
            "                                                                 \n",
            " activation_2 (Activation)   (None, 10)                0         \n",
            "                                                                 \n",
            "=================================================================\n",
            "Total params: 669,706\n",
            "Trainable params: 669,706\n",
            "Non-trainable params: 0\n",
            "_________________________________________________________________\n"
          ]
        }
      ]
    },
    {
      "cell_type": "markdown",
      "source": [
        "##学習モデルが動く形になるようにコンパイルする"
      ],
      "metadata": {
        "id": "LnX4c60mz3LD"
      }
    },
    {
      "cell_type": "code",
      "source": [
        "# modelをコンパイル\n",
        "model. compile(\n",
        "  loss='categorical_crossentropy',# 損失の基準(交差エントロピー誤差）\n",
        "  optimizer=RMSprop(),\n",
        "  metrics=['accuracy'] # accuracy=精度\n",
        ") "
      ],
      "metadata": {
        "id": "FaNRbDGKHiwF"
      },
      "execution_count": 13,
      "outputs": []
    },
    {
      "cell_type": "markdown",
      "source": [
        "##学習モデルに学習させる"
      ],
      "metadata": {
        "id": "waGOFLmj2vSA"
      }
    },
    {
      "cell_type": "code",
      "source": [
        "#コールバック処理の準備\n",
        "#学習が進んで損失がそれ以上下がらなければ早期終了する。\n",
        "#patience=2は、2回学習分だけ、終了まで様子をみる。\n",
        "es = EarlyStopping(monitor='val_loss', patience=2)\n",
        "#ログ出力\n",
        "csv_logger = CSVLogger('training.log')\n",
        "\n",
        "# 学習モデルに学習させる\n",
        "# (正解データにフィットするように重みを調整する）\n",
        "hist = model. fit(\n",
        "    x_train, # 学習用画像データ：問題\n",
        "    y_train, # 学習用数値データ：正解\n",
        "    batch_size = batch_size, # バッチサイズ(batch_size = 20）\n",
        "    epochs = epochs,# エポック数（学習回数）（epochs = 20）\n",
        "    verbose = 1, # 進行状況を表示\n",
        "    #validationデータ検証データ、チェックデータ）の割合\n",
        "    #（10%:この分は学習に使わず、学習中の検証チェックに使う）\n",
        "    validation_split = 0.1,\n",
        "    callbacks=[es, csv_logger]# コールバック処理\n",
        ")\n",
        "\n"
      ],
      "metadata": {
        "colab": {
          "base_uri": "https://localhost:8080/"
        },
        "id": "oyWa_5NK1-d1",
        "outputId": "03a35289-4465-4976-c42b-ecd7a792f200"
      },
      "execution_count": 14,
      "outputs": [
        {
          "output_type": "stream",
          "name": "stdout",
          "text": [
            "Epoch 1/20\n",
            "422/422 [==============================] - 16s 34ms/step - loss: 0.2591 - accuracy: 0.9195 - val_loss: 0.1005 - val_accuracy: 0.9705\n",
            "Epoch 2/20\n",
            "422/422 [==============================] - 7s 18ms/step - loss: 0.1043 - accuracy: 0.9685 - val_loss: 0.0737 - val_accuracy: 0.9788\n",
            "Epoch 3/20\n",
            "422/422 [==============================] - 7s 17ms/step - loss: 0.0774 - accuracy: 0.9766 - val_loss: 0.0795 - val_accuracy: 0.9770\n",
            "Epoch 4/20\n",
            "422/422 [==============================] - 7s 17ms/step - loss: 0.0606 - accuracy: 0.9816 - val_loss: 0.0718 - val_accuracy: 0.9827\n",
            "Epoch 5/20\n",
            "422/422 [==============================] - 7s 17ms/step - loss: 0.0512 - accuracy: 0.9846 - val_loss: 0.0732 - val_accuracy: 0.9807\n",
            "Epoch 6/20\n",
            "422/422 [==============================] - 7s 18ms/step - loss: 0.0443 - accuracy: 0.9865 - val_loss: 0.0747 - val_accuracy: 0.9833\n"
          ]
        }
      ]
    },
    {
      "cell_type": "markdown",
      "source": [
        "##学習済みのモデルを使って、学習結果をテスト検証する"
      ],
      "metadata": {
        "id": "_IRv6u2o_u8n"
      }
    },
    {
      "cell_type": "code",
      "source": [
        "# evaluateメソッドで検証する\n",
        "score = model.evaluate(x_test, y_test, verbose=0 ) # 検証結果を変数に代入\n",
        "print('test loss:', score [0])#損失(誤り率)を表示\n",
        "print('test acc:', score [1])#精度(正解率)を表示"
      ],
      "metadata": {
        "id": "YSe_16oi3CI9",
        "colab": {
          "base_uri": "https://localhost:8080/"
        },
        "outputId": "988082e1-eb93-4155-a381-4fcda2fb4f45"
      },
      "execution_count": 15,
      "outputs": [
        {
          "output_type": "stream",
          "name": "stdout",
          "text": [
            "test loss: 0.07384813576936722\n",
            "test acc: 0.9811000227928162\n"
          ]
        }
      ]
    },
    {
      "cell_type": "markdown",
      "source": [
        "##学習履歴をグラフ表示する"
      ],
      "metadata": {
        "id": "hTFt3ChfBOZs"
      }
    },
    {
      "cell_type": "code",
      "source": [
        "loss = hist.history ['loss']\n",
        "val_loss = hist.history ['val_loss']\n",
        "\n",
        "epochs = len(loss)\n",
        "plt.plot(range(epochs), loss, marker='.', label=' loss(training _data')\n",
        "plt.plot(range(epochs), val_loss, marker='.', label='val loss (evaluation_data')\n",
        "plt.legend (loc='best')\n",
        "plt.grid()\n",
        "plt.xlabel ('epoch')\n",
        "plt.ylabel ('loss')\n",
        "plt.show ()"
      ],
      "metadata": {
        "id": "8wY6j44NAoPE",
        "colab": {
          "base_uri": "https://localhost:8080/",
          "height": 279
        },
        "outputId": "5688c95c-8a07-47d5-af72-f0bc353290b7"
      },
      "execution_count": 19,
      "outputs": [
        {
          "output_type": "display_data",
          "data": {
            "text/plain": [
              "<Figure size 432x288 with 1 Axes>"
            ],
            "image/png": "[encoded data removed]"
          },
          "metadata": {
            "needs_background": "light"
          }
        }
      ]
    },
    {
      "cell_type": "code",
      "source": [],
      "metadata": {
        "id": "4W_-movUOoPw"
      },
      "execution_count": null,
      "outputs": []
    }
  ]
}